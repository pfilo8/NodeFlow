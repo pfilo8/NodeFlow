{
 "cells": [
  {
   "cell_type": "code",
   "execution_count": 1,
   "metadata": {},
   "outputs": [],
   "source": [
    "import catboost\n",
    "import matplotlib.pyplot as plt\n",
    "import numpy as np\n",
    "import pandas as pd\n",
    "import seaborn as sns\n",
    "import scipy.stats as stats\n",
    "import sweetviz\n",
    "\n",
    "from sklearn.model_selection import train_test_split\n",
    "from nflows.distributions import ConditionalDiagonalNormal\n",
    "\n",
    "from src.probabilistic_flow_boosting.tfboost.tree import EmbeddableCatBoostPriorNormal\n",
    "from src.probabilistic_flow_boosting.tfboost.tfboost import TreeFlowBoost\n",
    "from src.probabilistic_flow_boosting.tfboost.flow import ContinuousNormalizingFlow\n",
    "from src.probabilistic_flow_boosting.pipelines.reporting.nodes import calculate_nll\n",
    "\n",
    "from src.probabilistic_flow_boosting.pipelines.modeling.utils import setup_random_seed\n",
    "\n",
    "RANDOM_SEED = 1\n",
    "\n",
    "setup_random_seed(RANDOM_SEED)"
   ]
  },
  {
   "cell_type": "code",
   "execution_count": 2,
   "metadata": {},
   "outputs": [],
   "source": [
    "def sample_mixture_of_gaussians(normal_parameters, weights = None, size = 1000):\n",
    "    weights = weights if weights is not None else np.ones(normal_parameters.shape[0], dtype=np.float64) / normal_parameters.shape[0]\n",
    "    mixture_idx = np.random.choice(len(weights), size=size, replace=True, p=weights)\n",
    "    return np.fromiter((stats.norm.rvs(*(normal_parameters[i])) for i in mixture_idx), dtype=np.float64)\n",
    "\n",
    "\n",
    "def generate_data(size):\n",
    "    df1 = pd.DataFrame({'value': np.random.normal(size = size)})\n",
    "    df1['X1'] = 'A'\n",
    "    df1['X2'] = 'X'\n",
    "\n",
    "    df2 = pd.DataFrame({'value': np.random.exponential(scale=3.0, size = size)})\n",
    "    df2['X1'] = 'A'\n",
    "    df2['X2'] = 'Y'\n",
    "\n",
    "    df3 = pd.DataFrame({'value': sample_mixture_of_gaussians(np.array([[-10, 1], [10, 1]]), size = size)})\n",
    "    df3['X1'] = 'B'\n",
    "    df3['X2'] = 'X'\n",
    "\n",
    "    df4 = pd.DataFrame({'value': np.random.gamma(shape = 7.5, scale = 1.0, size = size)})\n",
    "    df4['X1'] = 'B'\n",
    "    df4['X2'] = 'Y'\n",
    "\n",
    "    df = pd.concat([df1, df2, df3, df4])\n",
    "    x, y = df[['X1', 'X2']], df[['value']]\n",
    "    return df, x, y\n",
    "\n",
    "\n",
    "def plot_distributions(dataframe, filename=None):\n",
    "    fig, axes = plt.subplots(2, 2, sharex=True, sharey=True, figsize = (12, 8))\n",
    "\n",
    "    axes[0][0].hist(dataframe.loc[np.logical_and(dataframe['X1'] == 'A', dataframe['X2'] == 'X'), 'value'], density=True, bins=100)\n",
    "    axes[0][1].hist(dataframe.loc[np.logical_and(dataframe['X1'] == 'A', dataframe['X2'] == 'Y'), 'value'], density=True, bins=100)\n",
    "    axes[1][0].hist(dataframe.loc[np.logical_and(dataframe['X1'] == 'B', dataframe['X2'] == 'X'), 'value'], density=True, bins=100)\n",
    "    axes[1][1].hist(dataframe.loc[np.logical_and(dataframe['X1'] == 'B', dataframe['X2'] == 'Y'), 'value'], density=True, bins=100)\n",
    "\n",
    "    plt.tight_layout()\n",
    "    \n",
    "    if filename is not None:\n",
    "        plt.savefig(filename)\n",
    "    else:\n",
    "        plt.show()\n",
    "    \n",
    "\n",
    "def calculate_nll_catboost(model: catboost.CatBoostRegressor, x: pd.DataFrame, y: pd.DataFrame):\n",
    "    x: np.ndarray = x.values\n",
    "    y: np.ndarray = y.values\n",
    "\n",
    "    if y.shape[1] > 1:\n",
    "        return np.nan\n",
    "\n",
    "    y_hat_tree = model.predict(x)\n",
    "    y_hat_tree[:, 1] = np.log(np.sqrt(y_hat_tree[:, 1]))  # Transform var to log std / CatBoost RMSEWithUncertainty\n",
    "\n",
    "    distribution = ConditionalDiagonalNormal(shape=[1])  # Assume 1D distribution\n",
    "    return -distribution.log_prob(y, y_hat_tree).numpy().mean()"
   ]
  },
  {
   "cell_type": "code",
   "execution_count": 3,
   "metadata": {},
   "outputs": [],
   "source": [
    "df_train, x_train, y_train = generate_data(5000)\n",
    "df_val, x_val, y_val = generate_data(1000)\n",
    "df_test, x_test, y_test = generate_data(5000)"
   ]
  },
  {
   "cell_type": "code",
   "execution_count": 4,
   "metadata": {},
   "outputs": [
    {
     "data": {
      "image/png": "[encoded data removed]",
      "text/plain": [
       "<Figure size 864x576 with 4 Axes>"
      ]
     },
     "metadata": {
      "needs_background": "light"
     },
     "output_type": "display_data"
    }
   ],
   "source": [
    "plot_distributions(df_train)"
   ]
  },
  {
   "cell_type": "markdown",
   "metadata": {},
   "source": [
    "# CatBoost"
   ]
  },
  {
   "cell_type": "code",
   "execution_count": 5,
   "metadata": {},
   "outputs": [],
   "source": [
    "model = catboost.CatBoostRegressor(\n",
    "    cat_features=['X1', 'X2'], \n",
    "    loss_function=\"RMSEWithUncertainty\",\n",
    "    num_trees=100\n",
    ")"
   ]
  },
  {
   "cell_type": "code",
   "execution_count": 6,
   "metadata": {},
   "outputs": [
    {
     "name": "stdout",
     "output_type": "stream",
     "text": [
      "0:\tlearn: 3.2057197\ttest: 3.2267591\tbest: 3.2267591 (0)\ttotal: 60.6ms\tremaining: 6s\n",
      "1:\tlearn: 3.1742412\ttest: 3.1938513\tbest: 3.1938513 (1)\ttotal: 63.6ms\tremaining: 3.12s\n",
      "2:\tlearn: 3.1472661\ttest: 3.1657448\tbest: 3.1657448 (2)\ttotal: 66.2ms\tremaining: 2.14s\n",
      "3:\tlearn: 3.1234309\ttest: 3.1409927\tbest: 3.1409927 (3)\ttotal: 69.7ms\tremaining: 1.67s\n",
      "4:\tlearn: 3.1018779\ttest: 3.1186829\tbest: 3.1186829 (4)\ttotal: 72.7ms\tremaining: 1.38s\n",
      "5:\tlearn: 3.0820421\ttest: 3.0982137\tbest: 3.0982137 (5)\ttotal: 75.1ms\tremaining: 1.18s\n",
      "6:\tlearn: 3.0635381\ttest: 3.0791736\tbest: 3.0791736 (6)\ttotal: 77.8ms\tremaining: 1.03s\n",
      "7:\tlearn: 3.0460951\ttest: 3.0612728\tbest: 3.0612728 (7)\ttotal: 79.8ms\tremaining: 918ms\n",
      "8:\tlearn: 3.0295181\ttest: 3.0443022\tbest: 3.0443022 (8)\ttotal: 82.3ms\tremaining: 833ms\n",
      "9:\tlearn: 3.0136638\ttest: 3.0281076\tbest: 3.0281076 (9)\ttotal: 85.2ms\tremaining: 767ms\n",
      "10:\tlearn: 2.9984250\ttest: 3.0125736\tbest: 3.0125736 (10)\ttotal: 88.5ms\tremaining: 716ms\n",
      "11:\tlearn: 2.9837205\ttest: 2.9976121\tbest: 2.9976121 (11)\ttotal: 91.1ms\tremaining: 668ms\n",
      "12:\tlearn: 2.9694877\ttest: 2.9831554\tbest: 2.9831554 (12)\ttotal: 94.2ms\tremaining: 630ms\n",
      "13:\tlearn: 2.9556778\ttest: 2.9691502\tbest: 2.9691502 (13)\ttotal: 96.8ms\tremaining: 595ms\n",
      "14:\tlearn: 2.9422526\ttest: 2.9555546\tbest: 2.9555546 (14)\ttotal: 99.3ms\tremaining: 563ms\n",
      "15:\tlearn: 2.9291814\ttest: 2.9423352\tbest: 2.9423352 (15)\ttotal: 102ms\tremaining: 535ms\n",
      "16:\tlearn: 2.9164399\ttest: 2.9294649\tbest: 2.9294649 (16)\ttotal: 104ms\tremaining: 509ms\n",
      "17:\tlearn: 2.9040079\ttest: 2.9169217\tbest: 2.9169217 (17)\ttotal: 107ms\tremaining: 489ms\n",
      "18:\tlearn: 2.8918694\ttest: 2.9046874\tbest: 2.9046874 (18)\ttotal: 111ms\tremaining: 471ms\n",
      "19:\tlearn: 2.8800108\ttest: 2.8927470\tbest: 2.8927470 (19)\ttotal: 113ms\tremaining: 453ms\n",
      "20:\tlearn: 2.8684208\ttest: 2.8810879\tbest: 2.8810879 (20)\ttotal: 116ms\tremaining: 436ms\n",
      "21:\tlearn: 2.8570899\ttest: 2.8696993\tbest: 2.8696993 (21)\ttotal: 119ms\tremaining: 421ms\n",
      "22:\tlearn: 2.8460100\ttest: 2.8585720\tbest: 2.8585720 (22)\ttotal: 121ms\tremaining: 406ms\n",
      "23:\tlearn: 2.8351742\ttest: 2.8476982\tbest: 2.8476982 (23)\ttotal: 124ms\tremaining: 392ms\n",
      "24:\tlearn: 2.8245763\ttest: 2.8370709\tbest: 2.8370709 (24)\ttotal: 127ms\tremaining: 380ms\n",
      "25:\tlearn: 2.8142112\ttest: 2.8266839\tbest: 2.8266839 (25)\ttotal: 129ms\tremaining: 368ms\n",
      "26:\tlearn: 2.8040739\ttest: 2.8165319\tbest: 2.8165319 (26)\ttotal: 132ms\tremaining: 358ms\n",
      "27:\tlearn: 2.7941604\ttest: 2.8066100\tbest: 2.8066100 (27)\ttotal: 135ms\tremaining: 348ms\n",
      "28:\tlearn: 2.7844668\ttest: 2.7969138\tbest: 2.7969138 (28)\ttotal: 138ms\tremaining: 337ms\n",
      "29:\tlearn: 2.7749898\ttest: 2.7874393\tbest: 2.7874393 (29)\ttotal: 140ms\tremaining: 327ms\n",
      "30:\tlearn: 2.7657261\ttest: 2.7781828\tbest: 2.7781828 (30)\ttotal: 143ms\tremaining: 318ms\n",
      "31:\tlearn: 2.7566729\ttest: 2.7691411\tbest: 2.7691411 (31)\ttotal: 146ms\tremaining: 310ms\n",
      "32:\tlearn: 2.7478277\ttest: 2.7603110\tbest: 2.7603110 (32)\ttotal: 149ms\tremaining: 302ms\n",
      "33:\tlearn: 2.7391879\ttest: 2.7516896\tbest: 2.7516896 (33)\ttotal: 152ms\tremaining: 294ms\n",
      "34:\tlearn: 2.7307514\ttest: 2.7432743\tbest: 2.7432743 (34)\ttotal: 154ms\tremaining: 287ms\n",
      "35:\tlearn: 2.7225161\ttest: 2.7350626\tbest: 2.7350626 (35)\ttotal: 157ms\tremaining: 279ms\n",
      "36:\tlearn: 2.7144800\ttest: 2.7270522\tbest: 2.7270522 (36)\ttotal: 159ms\tremaining: 272ms\n",
      "37:\tlearn: 2.7066413\ttest: 2.7192410\tbest: 2.7192410 (37)\ttotal: 163ms\tremaining: 265ms\n",
      "38:\tlearn: 2.6989984\ttest: 2.7116268\tbest: 2.7116268 (38)\ttotal: 165ms\tremaining: 258ms\n",
      "39:\tlearn: 2.6915496\ttest: 2.7042077\tbest: 2.7042077 (39)\ttotal: 168ms\tremaining: 252ms\n",
      "40:\tlearn: 2.6842935\ttest: 2.6969819\tbest: 2.6969819 (40)\ttotal: 170ms\tremaining: 245ms\n",
      "41:\tlearn: 2.6772285\ttest: 2.6899476\tbest: 2.6899476 (41)\ttotal: 173ms\tremaining: 239ms\n",
      "42:\tlearn: 2.6703534\ttest: 2.6831031\tbest: 2.6831031 (42)\ttotal: 180ms\tremaining: 238ms\n",
      "43:\tlearn: 2.6636668\ttest: 2.6764468\tbest: 2.6764468 (43)\ttotal: 187ms\tremaining: 238ms\n",
      "44:\tlearn: 2.6571673\ttest: 2.6699771\tbest: 2.6699771 (44)\ttotal: 191ms\tremaining: 233ms\n",
      "45:\tlearn: 2.6508536\ttest: 2.6636923\tbest: 2.6636923 (45)\ttotal: 193ms\tremaining: 226ms\n",
      "46:\tlearn: 2.6447245\ttest: 2.6575909\tbest: 2.6575909 (46)\ttotal: 196ms\tremaining: 221ms\n",
      "47:\tlearn: 2.6387785\ttest: 2.6516713\tbest: 2.6516713 (47)\ttotal: 199ms\tremaining: 216ms\n",
      "48:\tlearn: 2.6330144\ttest: 2.6459319\tbest: 2.6459319 (48)\ttotal: 204ms\tremaining: 212ms\n",
      "49:\tlearn: 2.6274307\ttest: 2.6403711\tbest: 2.6403711 (49)\ttotal: 207ms\tremaining: 207ms\n",
      "50:\tlearn: 2.6220259\ttest: 2.6349871\tbest: 2.6349871 (50)\ttotal: 210ms\tremaining: 202ms\n",
      "51:\tlearn: 2.6167985\ttest: 2.6297783\tbest: 2.6297783 (51)\ttotal: 217ms\tremaining: 201ms\n",
      "52:\tlearn: 2.6117469\ttest: 2.6247427\tbest: 2.6247427 (52)\ttotal: 220ms\tremaining: 195ms\n",
      "53:\tlearn: 2.6068693\ttest: 2.6198785\tbest: 2.6198785 (53)\ttotal: 223ms\tremaining: 190ms\n",
      "54:\tlearn: 2.6021639\ttest: 2.6151838\tbest: 2.6151838 (54)\ttotal: 226ms\tremaining: 185ms\n",
      "55:\tlearn: 2.5976289\ttest: 2.6106563\tbest: 2.6106563 (55)\ttotal: 229ms\tremaining: 180ms\n",
      "56:\tlearn: 2.5932620\ttest: 2.6062940\tbest: 2.6062940 (56)\ttotal: 231ms\tremaining: 175ms\n",
      "57:\tlearn: 2.5890611\ttest: 2.6020944\tbest: 2.6020944 (57)\ttotal: 234ms\tremaining: 170ms\n",
      "58:\tlearn: 2.5850238\ttest: 2.5980552\tbest: 2.5980552 (58)\ttotal: 236ms\tremaining: 164ms\n",
      "59:\tlearn: 2.5811478\ttest: 2.5941738\tbest: 2.5941738 (59)\ttotal: 239ms\tremaining: 159ms\n",
      "60:\tlearn: 2.5774303\ttest: 2.5904475\tbest: 2.5904475 (60)\ttotal: 242ms\tremaining: 155ms\n",
      "61:\tlearn: 2.5738686\ttest: 2.5868735\tbest: 2.5868735 (61)\ttotal: 245ms\tremaining: 150ms\n",
      "62:\tlearn: 2.5704597\ttest: 2.5834488\tbest: 2.5834488 (62)\ttotal: 248ms\tremaining: 146ms\n",
      "63:\tlearn: 2.5672007\ttest: 2.5801703\tbest: 2.5801703 (63)\ttotal: 251ms\tremaining: 141ms\n",
      "64:\tlearn: 2.5640883\ttest: 2.5770349\tbest: 2.5770349 (64)\ttotal: 254ms\tremaining: 137ms\n",
      "65:\tlearn: 2.5611192\ttest: 2.5740392\tbest: 2.5740392 (65)\ttotal: 257ms\tremaining: 132ms\n",
      "66:\tlearn: 2.5582899\ttest: 2.5711798\tbest: 2.5711798 (66)\ttotal: 260ms\tremaining: 128ms\n",
      "67:\tlearn: 2.5566891\ttest: 2.5695523\tbest: 2.5695523 (67)\ttotal: 262ms\tremaining: 123ms\n",
      "68:\tlearn: 2.5540677\ttest: 2.5668937\tbest: 2.5668937 (68)\ttotal: 265ms\tremaining: 119ms\n",
      "69:\tlearn: 2.5526480\ttest: 2.5654413\tbest: 2.5654413 (69)\ttotal: 268ms\tremaining: 115ms\n",
      "70:\tlearn: 2.5502210\ttest: 2.5629706\tbest: 2.5629706 (70)\ttotal: 270ms\tremaining: 110ms\n",
      "71:\tlearn: 2.5479197\ttest: 2.5606227\tbest: 2.5606227 (71)\ttotal: 273ms\tremaining: 106ms\n",
      "72:\tlearn: 2.5457401\ttest: 2.5583936\tbest: 2.5583936 (72)\ttotal: 276ms\tremaining: 102ms\n",
      "73:\tlearn: 2.5436781\ttest: 2.5562791\tbest: 2.5562791 (73)\ttotal: 279ms\tremaining: 98.1ms\n",
      "74:\tlearn: 2.5417294\ttest: 2.5542753\tbest: 2.5542753 (74)\ttotal: 282ms\tremaining: 94ms\n",
      "75:\tlearn: 2.5398899\ttest: 2.5523781\tbest: 2.5523781 (75)\ttotal: 285ms\tremaining: 90.1ms\n",
      "76:\tlearn: 2.5381553\ttest: 2.5505833\tbest: 2.5505833 (76)\ttotal: 287ms\tremaining: 85.9ms\n",
      "77:\tlearn: 2.5372387\ttest: 2.5496162\tbest: 2.5496162 (77)\ttotal: 290ms\tremaining: 81.7ms\n",
      "78:\tlearn: 2.5356518\ttest: 2.5479646\tbest: 2.5479646 (78)\ttotal: 293ms\tremaining: 77.9ms\n",
      "79:\tlearn: 2.5341600\ttest: 2.5464060\tbest: 2.5464060 (79)\ttotal: 296ms\tremaining: 73.9ms\n",
      "80:\tlearn: 2.5327589\ttest: 2.5449363\tbest: 2.5449363 (80)\ttotal: 298ms\tremaining: 69.9ms\n",
      "81:\tlearn: 2.5314444\ttest: 2.5435514\tbest: 2.5435514 (81)\ttotal: 300ms\tremaining: 65.9ms\n",
      "82:\tlearn: 2.5302124\ttest: 2.5422473\tbest: 2.5422473 (82)\ttotal: 303ms\tremaining: 62.1ms\n",
      "83:\tlearn: 2.5295749\ttest: 2.5415515\tbest: 2.5415515 (83)\ttotal: 306ms\tremaining: 58.3ms\n",
      "84:\tlearn: 2.5284565\ttest: 2.5403583\tbest: 2.5403583 (84)\ttotal: 309ms\tremaining: 54.5ms\n",
      "85:\tlearn: 2.5274111\ttest: 2.5392370\tbest: 2.5392370 (85)\ttotal: 311ms\tremaining: 50.6ms\n",
      "86:\tlearn: 2.5264348\ttest: 2.5381838\tbest: 2.5381838 (86)\ttotal: 314ms\tremaining: 46.9ms\n",
      "87:\tlearn: 2.5255238\ttest: 2.5371949\tbest: 2.5371949 (87)\ttotal: 316ms\tremaining: 43.1ms\n",
      "88:\tlearn: 2.5246743\ttest: 2.5362669\tbest: 2.5362669 (88)\ttotal: 339ms\tremaining: 41.9ms\n",
      "89:\tlearn: 2.5238829\ttest: 2.5353963\tbest: 2.5353963 (89)\ttotal: 341ms\tremaining: 37.9ms\n",
      "90:\tlearn: 2.5231460\ttest: 2.5345797\tbest: 2.5345797 (90)\ttotal: 344ms\tremaining: 34.1ms\n",
      "91:\tlearn: 2.5224604\ttest: 2.5338141\tbest: 2.5338141 (91)\ttotal: 348ms\tremaining: 30.3ms\n",
      "92:\tlearn: 2.5218229\ttest: 2.5330964\tbest: 2.5330964 (92)\ttotal: 350ms\tremaining: 26.4ms\n",
      "93:\tlearn: 2.5212305\ttest: 2.5324237\tbest: 2.5324237 (93)\ttotal: 392ms\tremaining: 25.1ms\n",
      "94:\tlearn: 2.5209173\ttest: 2.5320485\tbest: 2.5320485 (94)\ttotal: 406ms\tremaining: 21.3ms\n",
      "95:\tlearn: 2.5203865\ttest: 2.5314376\tbest: 2.5314376 (95)\ttotal: 410ms\tremaining: 17.1ms\n",
      "96:\tlearn: 2.5198942\ttest: 2.5308654\tbest: 2.5308654 (96)\ttotal: 414ms\tremaining: 12.8ms\n",
      "97:\tlearn: 2.5194377\ttest: 2.5303293\tbest: 2.5303293 (97)\ttotal: 426ms\tremaining: 8.7ms\n",
      "98:\tlearn: 2.5190146\ttest: 2.5298271\tbest: 2.5298271 (98)\ttotal: 430ms\tremaining: 4.35ms\n",
      "99:\tlearn: 2.5186226\ttest: 2.5293565\tbest: 2.5293565 (99)\ttotal: 434ms\tremaining: 0us\n",
      "\n",
      "bestTest = 2.529356464\n",
      "bestIteration = 99\n",
      "\n"
     ]
    },
    {
     "data": {
      "text/plain": [
       "<catboost.core.CatBoostRegressor at 0x7f93cdc7f2b0>"
      ]
     },
     "execution_count": 6,
     "metadata": {},
     "output_type": "execute_result"
    }
   ],
   "source": [
    "model.fit(x_train, y_train, eval_set=[(x_val, y_val)])"
   ]
  },
  {
   "cell_type": "code",
   "execution_count": 7,
   "metadata": {},
   "outputs": [
    {
     "data": {
      "text/plain": [
       "2.518622562346859"
      ]
     },
     "execution_count": 7,
     "metadata": {},
     "output_type": "execute_result"
    }
   ],
   "source": [
    "calculate_nll_catboost(model, x_train, y_train)"
   ]
  },
  {
   "cell_type": "code",
   "execution_count": 8,
   "metadata": {},
   "outputs": [
    {
     "data": {
      "text/plain": [
       "2.522494429980034"
      ]
     },
     "execution_count": 8,
     "metadata": {},
     "output_type": "execute_result"
    }
   ],
   "source": [
    "calculate_nll_catboost(model, x_test, y_test)"
   ]
  },
  {
   "cell_type": "code",
   "execution_count": 9,
   "metadata": {},
   "outputs": [
    {
     "data": {
      "image/png": "[encoded data removed]",
      "text/plain": [
       "<Figure size 864x576 with 4 Axes>"
      ]
     },
     "metadata": {
      "needs_background": "light"
     },
     "output_type": "display_data"
    }
   ],
   "source": [
    "catboost_samples = x_test.copy()\n",
    "pred = model.predict(x_test)\n",
    "catboost_samples['value'] = [stats.norm.rvs(loc = pred[i, 0], scale = np.sqrt(pred[i, 1])) for i in range(len(pred))]\n",
    "\n",
    "plot_distributions(catboost_samples)"
   ]
  },
  {
   "cell_type": "markdown",
   "metadata": {},
   "source": [
    "# TreeFlow"
   ]
  },
  {
   "cell_type": "code",
   "execution_count": 10,
   "metadata": {},
   "outputs": [],
   "source": [
    "tree = EmbeddableCatBoostPriorNormal(\n",
    "    cat_features=[0, 1], \n",
    "    loss_function=\"RMSEWithUncertainty\",\n",
    "    depth=2,\n",
    "    num_trees=100,\n",
    ")\n",
    "flow = ContinuousNormalizingFlow(input_dim=1, hidden_dims=(50, 10), \n",
    "                                 num_blocks=2, context_dim=50, conditional=True)\n",
    "\n",
    "treeflow = TreeFlowBoost(tree, flow, embedding_size=50)"
   ]
  },
  {
   "cell_type": "code",
   "execution_count": 11,
   "metadata": {
    "scrolled": true
   },
   "outputs": [
    {
     "name": "stdout",
     "output_type": "stream",
     "text": [
      "0:\tlearn: 3.2057197\ttotal: 2.38ms\tremaining: 235ms\n",
      "1:\tlearn: 3.1742412\ttotal: 4.04ms\tremaining: 198ms\n",
      "2:\tlearn: 3.1472661\ttotal: 5.61ms\tremaining: 181ms\n",
      "3:\tlearn: 3.1234309\ttotal: 7.15ms\tremaining: 172ms\n",
      "4:\tlearn: 3.1018779\ttotal: 8.67ms\tremaining: 165ms\n",
      "5:\tlearn: 3.0820421\ttotal: 10.9ms\tremaining: 170ms\n",
      "6:\tlearn: 3.0635381\ttotal: 14.9ms\tremaining: 198ms\n",
      "7:\tlearn: 3.0460951\ttotal: 18.5ms\tremaining: 213ms\n",
      "8:\tlearn: 3.0295181\ttotal: 23.1ms\tremaining: 234ms\n",
      "9:\tlearn: 3.0136638\ttotal: 26.8ms\tremaining: 241ms\n",
      "10:\tlearn: 2.9984250\ttotal: 28.7ms\tremaining: 232ms\n",
      "11:\tlearn: 2.9837205\ttotal: 30.8ms\tremaining: 226ms\n",
      "12:\tlearn: 2.9694877\ttotal: 33.3ms\tremaining: 223ms\n",
      "13:\tlearn: 2.9556778\ttotal: 36.3ms\tremaining: 223ms\n",
      "14:\tlearn: 2.9422526\ttotal: 39.6ms\tremaining: 225ms\n",
      "15:\tlearn: 2.9291814\ttotal: 41.6ms\tremaining: 218ms\n",
      "16:\tlearn: 2.9164399\ttotal: 45.4ms\tremaining: 222ms\n",
      "17:\tlearn: 2.9040079\ttotal: 49.2ms\tremaining: 224ms\n",
      "18:\tlearn: 2.8918694\ttotal: 71.1ms\tremaining: 303ms\n",
      "19:\tlearn: 2.8800108\ttotal: 75.3ms\tremaining: 301ms\n",
      "20:\tlearn: 2.8684208\ttotal: 79.2ms\tremaining: 298ms\n",
      "21:\tlearn: 2.8570899\ttotal: 81.9ms\tremaining: 291ms\n",
      "22:\tlearn: 2.8460100\ttotal: 83.9ms\tremaining: 281ms\n",
      "23:\tlearn: 2.8351742\ttotal: 106ms\tremaining: 336ms\n",
      "24:\tlearn: 2.8245763\ttotal: 109ms\tremaining: 327ms\n",
      "25:\tlearn: 2.8142112\ttotal: 112ms\tremaining: 320ms\n",
      "26:\tlearn: 2.8040739\ttotal: 114ms\tremaining: 309ms\n",
      "27:\tlearn: 2.7941604\ttotal: 117ms\tremaining: 301ms\n",
      "28:\tlearn: 2.7844668\ttotal: 122ms\tremaining: 299ms\n",
      "29:\tlearn: 2.7749898\ttotal: 124ms\tremaining: 290ms\n",
      "30:\tlearn: 2.7657261\ttotal: 128ms\tremaining: 284ms\n",
      "31:\tlearn: 2.7566729\ttotal: 131ms\tremaining: 278ms\n",
      "32:\tlearn: 2.7478277\ttotal: 134ms\tremaining: 271ms\n",
      "33:\tlearn: 2.7391879\ttotal: 136ms\tremaining: 264ms\n",
      "34:\tlearn: 2.7307514\ttotal: 138ms\tremaining: 257ms\n",
      "35:\tlearn: 2.7225161\ttotal: 142ms\tremaining: 252ms\n",
      "36:\tlearn: 2.7144800\ttotal: 144ms\tremaining: 246ms\n",
      "37:\tlearn: 2.7066413\ttotal: 147ms\tremaining: 239ms\n",
      "38:\tlearn: 2.6989984\ttotal: 149ms\tremaining: 233ms\n",
      "39:\tlearn: 2.6915496\ttotal: 151ms\tremaining: 227ms\n",
      "40:\tlearn: 2.6842935\ttotal: 153ms\tremaining: 220ms\n",
      "41:\tlearn: 2.6772285\ttotal: 157ms\tremaining: 217ms\n",
      "42:\tlearn: 2.6703534\ttotal: 161ms\tremaining: 213ms\n",
      "43:\tlearn: 2.6636668\ttotal: 163ms\tremaining: 207ms\n",
      "44:\tlearn: 2.6571673\ttotal: 165ms\tremaining: 202ms\n",
      "45:\tlearn: 2.6508536\ttotal: 167ms\tremaining: 196ms\n",
      "46:\tlearn: 2.6447245\ttotal: 170ms\tremaining: 191ms\n",
      "47:\tlearn: 2.6387785\ttotal: 172ms\tremaining: 186ms\n",
      "48:\tlearn: 2.6330144\ttotal: 174ms\tremaining: 182ms\n",
      "49:\tlearn: 2.6274307\ttotal: 177ms\tremaining: 177ms\n",
      "50:\tlearn: 2.6220259\ttotal: 180ms\tremaining: 173ms\n",
      "51:\tlearn: 2.6167985\ttotal: 182ms\tremaining: 168ms\n",
      "52:\tlearn: 2.6117469\ttotal: 184ms\tremaining: 163ms\n",
      "53:\tlearn: 2.6068693\ttotal: 186ms\tremaining: 158ms\n",
      "54:\tlearn: 2.6021639\ttotal: 189ms\tremaining: 154ms\n",
      "55:\tlearn: 2.5976289\ttotal: 191ms\tremaining: 150ms\n",
      "56:\tlearn: 2.5932620\ttotal: 193ms\tremaining: 145ms\n",
      "57:\tlearn: 2.5890611\ttotal: 195ms\tremaining: 141ms\n",
      "58:\tlearn: 2.5850238\ttotal: 197ms\tremaining: 137ms\n",
      "59:\tlearn: 2.5811478\ttotal: 199ms\tremaining: 133ms\n",
      "60:\tlearn: 2.5774303\ttotal: 202ms\tremaining: 129ms\n",
      "61:\tlearn: 2.5738686\ttotal: 207ms\tremaining: 127ms\n",
      "62:\tlearn: 2.5704597\ttotal: 209ms\tremaining: 123ms\n",
      "63:\tlearn: 2.5672007\ttotal: 222ms\tremaining: 125ms\n",
      "64:\tlearn: 2.5640883\ttotal: 275ms\tremaining: 148ms\n",
      "65:\tlearn: 2.5611192\ttotal: 280ms\tremaining: 144ms\n",
      "66:\tlearn: 2.5582899\ttotal: 284ms\tremaining: 140ms\n",
      "67:\tlearn: 2.5555968\ttotal: 287ms\tremaining: 135ms\n",
      "68:\tlearn: 2.5530363\ttotal: 291ms\tremaining: 131ms\n",
      "69:\tlearn: 2.5506045\ttotal: 304ms\tremaining: 130ms\n",
      "70:\tlearn: 2.5482976\ttotal: 308ms\tremaining: 126ms\n",
      "71:\tlearn: 2.5461116\ttotal: 312ms\tremaining: 121ms\n",
      "72:\tlearn: 2.5440424\ttotal: 315ms\tremaining: 116ms\n",
      "73:\tlearn: 2.5420860\ttotal: 337ms\tremaining: 118ms\n",
      "74:\tlearn: 2.5402382\ttotal: 339ms\tremaining: 113ms\n",
      "75:\tlearn: 2.5384949\ttotal: 343ms\tremaining: 108ms\n",
      "76:\tlearn: 2.5368519\ttotal: 346ms\tremaining: 103ms\n",
      "77:\tlearn: 2.5353050\ttotal: 348ms\tremaining: 98.2ms\n",
      "78:\tlearn: 2.5338502\ttotal: 350ms\tremaining: 93.1ms\n",
      "79:\tlearn: 2.5324833\ttotal: 353ms\tremaining: 88.2ms\n",
      "80:\tlearn: 2.5312002\ttotal: 356ms\tremaining: 83.5ms\n",
      "81:\tlearn: 2.5299970\ttotal: 368ms\tremaining: 80.8ms\n",
      "82:\tlearn: 2.5288697\ttotal: 370ms\tremaining: 75.8ms\n",
      "83:\tlearn: 2.5278145\ttotal: 373ms\tremaining: 71.1ms\n",
      "84:\tlearn: 2.5268275\ttotal: 377ms\tremaining: 66.5ms\n",
      "85:\tlearn: 2.5259052\ttotal: 379ms\tremaining: 61.7ms\n",
      "86:\tlearn: 2.5250439\ttotal: 382ms\tremaining: 57ms\n",
      "87:\tlearn: 2.5242403\ttotal: 384ms\tremaining: 52.3ms\n",
      "88:\tlearn: 2.5237714\ttotal: 407ms\tremaining: 50.3ms\n",
      "89:\tlearn: 2.5230510\ttotal: 421ms\tremaining: 46.7ms\n",
      "90:\tlearn: 2.5226443\ttotal: 425ms\tremaining: 42ms\n",
      "91:\tlearn: 2.5219986\ttotal: 428ms\tremaining: 37.2ms\n",
      "92:\tlearn: 2.5213981\ttotal: 431ms\tremaining: 32.4ms\n",
      "93:\tlearn: 2.5208400\ttotal: 434ms\tremaining: 27.7ms\n",
      "94:\tlearn: 2.5203215\ttotal: 438ms\tremaining: 23.1ms\n",
      "95:\tlearn: 2.5198401\ttotal: 440ms\tremaining: 18.3ms\n",
      "96:\tlearn: 2.5193933\ttotal: 443ms\tremaining: 13.7ms\n",
      "97:\tlearn: 2.5189787\ttotal: 447ms\tremaining: 9.12ms\n",
      "98:\tlearn: 2.5185942\ttotal: 449ms\tremaining: 4.54ms\n",
      "99:\tlearn: 2.5182377\ttotal: 451ms\tremaining: 0us\n",
      "train loss: 3.215979814529419\n",
      "val loss: 3.3485825061798096\n"
     ]
    },
    {
     "ename": "RuntimeError",
     "evalue": "",
     "output_type": "error",
     "traceback": [
      "\u001b[0;31m---------------------------------------------------------------------------\u001b[0m",
      "\u001b[0;31mRuntimeError\u001b[0m                              Traceback (most recent call last)",
      "\u001b[0;32m/var/folders/yr/mfhy4qkx1m302d_yxw615jj00000gn/T/ipykernel_84979/988450047.py\u001b[0m in \u001b[0;36m<cell line: 1>\u001b[0;34m()\u001b[0m\n\u001b[0;32m----> 1\u001b[0;31m \u001b[0mtreeflow\u001b[0m\u001b[0;34m.\u001b[0m\u001b[0mfit\u001b[0m\u001b[0;34m(\u001b[0m\u001b[0mx_train\u001b[0m\u001b[0;34m.\u001b[0m\u001b[0mvalues\u001b[0m\u001b[0;34m,\u001b[0m \u001b[0my_train\u001b[0m\u001b[0;34m.\u001b[0m\u001b[0mvalues\u001b[0m\u001b[0;34m,\u001b[0m \u001b[0mx_val\u001b[0m\u001b[0;34m.\u001b[0m\u001b[0mvalues\u001b[0m\u001b[0;34m,\u001b[0m \u001b[0my_val\u001b[0m\u001b[0;34m.\u001b[0m\u001b[0mvalues\u001b[0m\u001b[0;34m,\u001b[0m \u001b[0mn_epochs\u001b[0m\u001b[0;34m=\u001b[0m\u001b[0;36m50\u001b[0m\u001b[0;34m,\u001b[0m \u001b[0mbatch_size\u001b[0m\u001b[0;34m=\u001b[0m\u001b[0;36m1024\u001b[0m\u001b[0;34m,\u001b[0m \u001b[0mverbose\u001b[0m\u001b[0;34m=\u001b[0m\u001b[0;32mTrue\u001b[0m\u001b[0;34m)\u001b[0m\u001b[0;34m\u001b[0m\u001b[0;34m\u001b[0m\u001b[0m\n\u001b[0m",
      "\u001b[0;32m~/Projects/Probabilistic-Flow-Boosting/src/probabilistic_flow_boosting/tfboost/tfboost.py\u001b[0m in \u001b[0;36mfit\u001b[0;34m(self, X, y, X_val, y_val, n_epochs, batch_size, verbose)\u001b[0m\n\u001b[1;32m     38\u001b[0m         ))\n\u001b[1;32m     39\u001b[0m \u001b[0;34m\u001b[0m\u001b[0m\n\u001b[0;32m---> 40\u001b[0;31m         self.flow_model.fit(y, context, params, y_val, context_val, params_val, n_epochs=n_epochs,\n\u001b[0m\u001b[1;32m     41\u001b[0m                             batch_size=batch_size, verbose=verbose)\n\u001b[1;32m     42\u001b[0m         \u001b[0;32mreturn\u001b[0m \u001b[0mself\u001b[0m\u001b[0;34m\u001b[0m\u001b[0;34m\u001b[0m\u001b[0m\n",
      "\u001b[0;32m~/Projects/Probabilistic-Flow-Boosting/src/probabilistic_flow_boosting/tfboost/flow/flow.py\u001b[0m in \u001b[0;36mfit\u001b[0;34m(self, X, context, params, X_val, context_val, params_val, n_epochs, batch_size, verbose)\u001b[0m\n\u001b[1;32m    144\u001b[0m                 \u001b[0mloss\u001b[0m \u001b[0;34m=\u001b[0m \u001b[0;34m-\u001b[0m\u001b[0mlogpx\u001b[0m\u001b[0;34m.\u001b[0m\u001b[0mmean\u001b[0m\u001b[0;34m(\u001b[0m\u001b[0;34m)\u001b[0m\u001b[0;34m\u001b[0m\u001b[0;34m\u001b[0m\u001b[0m\n\u001b[1;32m    145\u001b[0m \u001b[0;34m\u001b[0m\u001b[0m\n\u001b[0;32m--> 146\u001b[0;31m                 \u001b[0mloss\u001b[0m\u001b[0;34m.\u001b[0m\u001b[0mbackward\u001b[0m\u001b[0;34m(\u001b[0m\u001b[0;34m)\u001b[0m\u001b[0;34m\u001b[0m\u001b[0;34m\u001b[0m\u001b[0m\n\u001b[0m\u001b[1;32m    147\u001b[0m                 \u001b[0mself\u001b[0m\u001b[0;34m.\u001b[0m\u001b[0moptimizer\u001b[0m\u001b[0;34m.\u001b[0m\u001b[0mstep\u001b[0m\u001b[0;34m(\u001b[0m\u001b[0;34m)\u001b[0m\u001b[0;34m\u001b[0m\u001b[0;34m\u001b[0m\u001b[0m\n\u001b[1;32m    148\u001b[0m \u001b[0;34m\u001b[0m\u001b[0m\n",
      "\u001b[0;32m/opt/homebrew/anaconda3/envs/treeflow/lib/python3.8/site-packages/torch/tensor.py\u001b[0m in \u001b[0;36mbackward\u001b[0;34m(self, gradient, retain_graph, create_graph)\u001b[0m\n\u001b[1;32m    183\u001b[0m                 \u001b[0mproducts\u001b[0m\u001b[0;34m.\u001b[0m \u001b[0mDefaults\u001b[0m \u001b[0mto\u001b[0m\u001b[0;31m \u001b[0m\u001b[0;31m`\u001b[0m\u001b[0;31m`\u001b[0m\u001b[0;32mFalse\u001b[0m\u001b[0;31m`\u001b[0m\u001b[0;31m`\u001b[0m\u001b[0;34m.\u001b[0m\u001b[0;34m\u001b[0m\u001b[0;34m\u001b[0m\u001b[0m\n\u001b[1;32m    184\u001b[0m         \"\"\"\n\u001b[0;32m--> 185\u001b[0;31m         \u001b[0mtorch\u001b[0m\u001b[0;34m.\u001b[0m\u001b[0mautograd\u001b[0m\u001b[0;34m.\u001b[0m\u001b[0mbackward\u001b[0m\u001b[0;34m(\u001b[0m\u001b[0mself\u001b[0m\u001b[0;34m,\u001b[0m \u001b[0mgradient\u001b[0m\u001b[0;34m,\u001b[0m \u001b[0mretain_graph\u001b[0m\u001b[0;34m,\u001b[0m \u001b[0mcreate_graph\u001b[0m\u001b[0;34m)\u001b[0m\u001b[0;34m\u001b[0m\u001b[0;34m\u001b[0m\u001b[0m\n\u001b[0m\u001b[1;32m    186\u001b[0m \u001b[0;34m\u001b[0m\u001b[0m\n\u001b[1;32m    187\u001b[0m     \u001b[0;32mdef\u001b[0m \u001b[0mregister_hook\u001b[0m\u001b[0;34m(\u001b[0m\u001b[0mself\u001b[0m\u001b[0;34m,\u001b[0m \u001b[0mhook\u001b[0m\u001b[0;34m)\u001b[0m\u001b[0;34m:\u001b[0m\u001b[0;34m\u001b[0m\u001b[0;34m\u001b[0m\u001b[0m\n",
      "\u001b[0;32m/opt/homebrew/anaconda3/envs/treeflow/lib/python3.8/site-packages/torch/autograd/__init__.py\u001b[0m in \u001b[0;36mbackward\u001b[0;34m(tensors, grad_tensors, retain_graph, create_graph, grad_variables)\u001b[0m\n\u001b[1;32m    123\u001b[0m         \u001b[0mretain_graph\u001b[0m \u001b[0;34m=\u001b[0m \u001b[0mcreate_graph\u001b[0m\u001b[0;34m\u001b[0m\u001b[0;34m\u001b[0m\u001b[0m\n\u001b[1;32m    124\u001b[0m \u001b[0;34m\u001b[0m\u001b[0m\n\u001b[0;32m--> 125\u001b[0;31m     Variable._execution_engine.run_backward(\n\u001b[0m\u001b[1;32m    126\u001b[0m         \u001b[0mtensors\u001b[0m\u001b[0;34m,\u001b[0m \u001b[0mgrad_tensors\u001b[0m\u001b[0;34m,\u001b[0m \u001b[0mretain_graph\u001b[0m\u001b[0;34m,\u001b[0m \u001b[0mcreate_graph\u001b[0m\u001b[0;34m,\u001b[0m\u001b[0;34m\u001b[0m\u001b[0;34m\u001b[0m\u001b[0m\n\u001b[1;32m    127\u001b[0m         allow_unreachable=True)  # allow_unreachable flag\n",
      "\u001b[0;31mRuntimeError\u001b[0m: "
     ]
    }
   ],
   "source": [
    "treeflow.fit(x_train.values, y_train.values, x_val.values, y_val.values, n_epochs=50, batch_size=1024, verbose=True)"
   ]
  },
  {
   "cell_type": "code",
   "execution_count": null,
   "metadata": {},
   "outputs": [],
   "source": [
    "calculate_nll(treeflow, x_train, y_train, batch_size = 1024)"
   ]
  },
  {
   "cell_type": "code",
   "execution_count": null,
   "metadata": {},
   "outputs": [],
   "source": [
    "calculate_nll(treeflow, x_test, y_test, batch_size = 1024)"
   ]
  },
  {
   "cell_type": "code",
   "execution_count": null,
   "metadata": {},
   "outputs": [],
   "source": [
    "treeflow_samples = x_test.copy()\n",
    "treeflow_samples['value'] = treeflow.sample(treeflow_samples.values, num_samples=1).squeeze()\n",
    "\n",
    "plot_distributions(treeflow_samples)"
   ]
  },
  {
   "cell_type": "markdown",
   "metadata": {},
   "source": [
    "## Comparison plot"
   ]
  },
  {
   "cell_type": "code",
   "execution_count": null,
   "metadata": {},
   "outputs": [],
   "source": [
    "fig, axes = plt.subplots(2, 2, sharex=True, sharey=True, figsize = (12, 8))\n",
    "\n",
    "\n",
    "dataframe = df_test\n",
    "\n",
    "sns.kdeplot(dataframe.loc[np.logical_and(dataframe['X1'] == 'A', dataframe['X2'] == 'X'), 'value'], ax=axes[0][0], color='red', label='True dist.')\n",
    "sns.kdeplot(dataframe.loc[np.logical_and(dataframe['X1'] == 'A', dataframe['X2'] == 'Y'), 'value'], ax=axes[0][1], color='red', label='True dist.')\n",
    "sns.kdeplot(dataframe.loc[np.logical_and(dataframe['X1'] == 'B', dataframe['X2'] == 'X'), 'value'], ax=axes[1][0], color='red', label='True dist.')\n",
    "sns.kdeplot(dataframe.loc[np.logical_and(dataframe['X1'] == 'B', dataframe['X2'] == 'Y'), 'value'], ax=axes[1][1], color='red', label='True dist.')\n",
    "\n",
    "\n",
    "dataframe = catboost_samples\n",
    "\n",
    "sns.kdeplot(dataframe.loc[np.logical_and(dataframe['X1'] == 'A', dataframe['X2'] == 'X'), 'value'], ax=axes[0][0], color='orange', label='CatBoost')\n",
    "sns.kdeplot(dataframe.loc[np.logical_and(dataframe['X1'] == 'A', dataframe['X2'] == 'Y'), 'value'], ax=axes[0][1], color='orange', label='CatBoost')\n",
    "sns.kdeplot(dataframe.loc[np.logical_and(dataframe['X1'] == 'B', dataframe['X2'] == 'X'), 'value'], ax=axes[1][0], color='orange', label='CatBoost')\n",
    "sns.kdeplot(dataframe.loc[np.logical_and(dataframe['X1'] == 'B', dataframe['X2'] == 'Y'), 'value'], ax=axes[1][1], color='orange', label='CatBoost')\n",
    "\n",
    "\n",
    "dataframe = treeflow_samples\n",
    "\n",
    "sns.kdeplot(dataframe.loc[np.logical_and(dataframe['X1'] == 'A', dataframe['X2'] == 'X'), 'value'], ax=axes[0][0], color='blue', label='TreeFlow')\n",
    "sns.kdeplot(dataframe.loc[np.logical_and(dataframe['X1'] == 'A', dataframe['X2'] == 'Y'), 'value'], ax=axes[0][1], color='blue', label='TreeFlow')\n",
    "sns.kdeplot(dataframe.loc[np.logical_and(dataframe['X1'] == 'B', dataframe['X2'] == 'X'), 'value'], ax=axes[1][0], color='blue', label='TreeFlow')\n",
    "sns.kdeplot(dataframe.loc[np.logical_and(dataframe['X1'] == 'B', dataframe['X2'] == 'Y'), 'value'], ax=axes[1][1], color='blue', label='TreeFlow')\n",
    "\n",
    "plt.tight_layout()\n",
    "plt.legend()\n",
    "plt.xlim(-20, 20)"
   ]
  }
 ],
 "metadata": {
  "kernelspec": {
   "display_name": "Python 3 (ipykernel)",
   "language": "python",
   "name": "python3"
  },
  "language_info": {
   "codemirror_mode": {
    "name": "ipython",
    "version": 3
   },
   "file_extension": ".py",
   "mimetype": "text/x-python",
   "name": "python",
   "nbconvert_exporter": "python",
   "pygments_lexer": "ipython3",
   "version": "3.8.13"
  }
 },
 "nbformat": 4,
 "nbformat_minor": 2
}
