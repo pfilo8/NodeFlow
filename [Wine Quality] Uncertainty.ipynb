{
 "cells": [
  {
   "cell_type": "code",
   "execution_count": 1,
   "id": "4051c9e6",
   "metadata": {},
   "outputs": [],
   "source": [
    "import catboost\n",
    "import matplotlib.pyplot as plt\n",
    "import numpy as np\n",
    "import pandas as pd\n",
    "import seaborn as sns\n",
    "import scipy.signal as signal\n",
    "import scipy.stats as stats\n",
    "import uncertainty_toolbox as uct\n",
    "\n",
    "from typing import Any, Dict, List, Union\n",
    "from tqdm import tqdm\n",
    "\n",
    "from sklearn.metrics import auc, precision_recall_curve, roc_auc_score\n",
    "from sklearn.mixture import BayesianGaussianMixture, GaussianMixture\n",
    "from sklearn.model_selection import train_test_split\n",
    "\n",
    "from src.probabilistic_flow_boosting.extras.datasets.uci_dataset import UCIDataSet\n",
    "from src.probabilistic_flow_boosting.tfboost.tree import EmbeddableCatBoostPriorNormal\n",
    "from src.probabilistic_flow_boosting.tfboost.tfboost import TreeFlowBoost\n",
    "from src.probabilistic_flow_boosting.tfboost.flow import ContinuousNormalizingFlow\n",
    "from src.probabilistic_flow_boosting.pipelines.reporting.nodes import calculate_nll\n",
    "from src.probabilistic_flow_boosting.pipelines.modeling.utils import setup_random_seed\n",
    "\n",
    "\n",
    "pd.set_option('display.float_format', lambda x: '%.5f' % x)"
   ]
  },
  {
   "cell_type": "code",
   "execution_count": 2,
   "id": "c406f83a-d856-4908-bbc1-ebe02241d5d3",
   "metadata": {},
   "outputs": [],
   "source": [
    "RANDOM_SEED = 42\n",
    "TRAIN = False\n",
    "MODEL_FILEPATH = 'treeflow_wine.model'\n",
    "\n",
    "setup_random_seed(RANDOM_SEED)"
   ]
  },
  {
   "cell_type": "code",
   "execution_count": 3,
   "id": "1bd5ab64-5ad1-4274-a662-9744266158a2",
   "metadata": {},
   "outputs": [],
   "source": [
    "def find_best_gmm_decomposition(\n",
    "    data: np.ndarray, \n",
    "    max_components: int,\n",
    "    gmm_args: Dict[Any, Any]\n",
    "):\n",
    "    models = []\n",
    "\n",
    "    for i in range(1, max_components + 1):\n",
    "        models.append(GaussianMixture(i, **gmm_args).fit(data))\n",
    "\n",
    "    # compute the AIC and the BIC\n",
    "    AIC = [m.aic(data) for m in models]\n",
    "    BIC = [m.bic(data) for m in models]\n",
    "\n",
    "    M_best = models[np.argmin(AIC)]\n",
    "    return M_best, AIC, BIC\n",
    "\n",
    "\n",
    "def find_bgmm_decomposition(\n",
    "    data: np.ndarray, \n",
    "    bgmm_args: Dict[Any, Any]\n",
    "):\n",
    "    return BayesianGaussianMixture(**bgmm_args).fit(data)\n",
    "\n",
    "\n",
    "def select_prediction_with_std(model: Union[GaussianMixture, BayesianGaussianMixture], method = None):\n",
    "    if method == 'weights':\n",
    "        best = np.argmax(model.weights_)\n",
    "    elif method == 'covariance':\n",
    "        best = np.argmin(model.covariances_)\n",
    "    else:\n",
    "        raise ValueError(f'Method {method} is not supported')\n",
    "    return model.means_[best], model.covariances_[best]\n",
    "\n",
    "\n",
    "def calculate_treeflow_gmm_predictions(samples: np.ndarray, max_components: int = 10, gmm_args: Dict[Any, Any] = None, method = 'weights'):\n",
    "    if gmm_args is None:\n",
    "        gmm_args = {}\n",
    "    \n",
    "    y_mean = []\n",
    "    y_std = []\n",
    "\n",
    "    for sample in tqdm(samples):\n",
    "        M_best, AIC, BIC = find_best_gmm_decomposition(\n",
    "            data = sample.reshape(-1, 1),\n",
    "            max_components = max_components,\n",
    "            gmm_args = gmm_args\n",
    "        )\n",
    "        mean, var = select_prediction_with_std(M_best, method = method)\n",
    "        y_mean.append(mean)\n",
    "        y_std.append(np.sqrt(var))\n",
    "\n",
    "    y_mean = np.array(y_mean).reshape(-1)\n",
    "    y_std = np.array(y_std).reshape(-1)\n",
    "    return y_mean, y_std\n",
    "\n",
    "\n",
    "def calculate_treeflow_bgmm_predictions(samples: np.ndarray, bgmm_args: Dict[Any, Any] = None, method = 'weights'):\n",
    "    if bgmm_args is None:\n",
    "        bgmm_args = {}\n",
    "    \n",
    "    y_mean = []\n",
    "    y_std = []\n",
    "\n",
    "    for sample in tqdm(samples):\n",
    "        M_best = find_bgmm_decomposition(\n",
    "            data = sample.reshape(-1, 1),\n",
    "            bgmm_args = bgmm_args\n",
    "        )\n",
    "        mean, var = select_prediction_with_std(M_best, method = method)\n",
    "        y_mean.append(mean)\n",
    "        y_std.append(np.sqrt(var))\n",
    "\n",
    "    y_mean = np.array(y_mean).reshape(-1)\n",
    "    y_std = np.array(y_std).reshape(-1)\n",
    "    return y_mean, y_std"
   ]
  },
  {
   "cell_type": "code",
   "execution_count": 4,
   "id": "29112087-f845-4d51-8386-7cf59926b3e4",
   "metadata": {},
   "outputs": [],
   "source": [
    "x_train = UCIDataSet(\n",
    "    filepath_data = \"data/01_raw/UCI/wine-quality-red/data.txt\",\n",
    "    filepath_index_columns = \"data/01_raw/UCI/wine-quality-red/index_features.txt\",\n",
    "    filepath_index_rows = \"data/01_raw/UCI/wine-quality-red/index_train_1.txt\"\n",
    ").load()\n",
    "y_train = UCIDataSet(\n",
    "    filepath_data = \"data/01_raw/UCI/wine-quality-red/data.txt\",\n",
    "    filepath_index_columns = \"data/01_raw/UCI/wine-quality-red/index_target.txt\",\n",
    "    filepath_index_rows = \"data/01_raw/UCI/wine-quality-red/index_train_1.txt\"\n",
    ").load()\n",
    "\n",
    "x_test = UCIDataSet(\n",
    "    filepath_data = \"data/01_raw/UCI/wine-quality-red/data.txt\",\n",
    "    filepath_index_columns = \"data/01_raw/UCI/wine-quality-red/index_features.txt\",\n",
    "    filepath_index_rows = \"data/01_raw/UCI/wine-quality-red/index_test_1.txt\"\n",
    ").load()\n",
    "y_test = UCIDataSet(\n",
    "    filepath_data = \"data/01_raw/UCI/wine-quality-red/data.txt\",\n",
    "    filepath_index_columns = \"data/01_raw/UCI/wine-quality-red/index_target.txt\",\n",
    "    filepath_index_rows = \"data/01_raw/UCI/wine-quality-red/index_test_1.txt\"\n",
    ").load()"
   ]
  },
  {
   "cell_type": "code",
   "execution_count": 5,
   "id": "7e414b8d-90ad-4f03-bb17-ae088502fc6f",
   "metadata": {},
   "outputs": [],
   "source": [
    "x_tr, x_val, y_tr, y_val = train_test_split(x_train, y_train, test_size = 0.2, random_state=RANDOM_SEED)"
   ]
  },
  {
   "cell_type": "code",
   "execution_count": 6,
   "id": "3f10769d-4436-4f08-9ee7-38f0b56c80c9",
   "metadata": {
    "tags": []
   },
   "outputs": [],
   "source": [
    "if TRAIN:\n",
    "    tree = EmbeddableCatBoostPriorNormal(\n",
    "        loss_function=\"RMSEWithUncertainty\",\n",
    "        depth=2,\n",
    "        num_trees=300,\n",
    "        random_state=RANDOM_SEED\n",
    "    )\n",
    "    flow = ContinuousNormalizingFlow(input_dim=1, hidden_dims=(80, 80, 40), \n",
    "                                     num_blocks=3, context_dim=40, conditional=True)\n",
    "\n",
    "    treeflow = TreeFlowBoost(tree, flow, embedding_size=40)\n",
    "\n",
    "    treeflow.fit(x_tr.values, y_tr.values, x_val.values, y_val.values, n_epochs=200, batch_size=2048, verbose=True)\n",
    "    treeflow.save(MODEL_FILEPATH)\n",
    "else:\n",
    "    treeflow = TreeFlowBoost.load(MODEL_FILEPATH)"
   ]
  },
  {
   "cell_type": "code",
   "execution_count": 7,
   "id": "e0c1db6e-6709-4bd9-8bb6-619e994a90bc",
   "metadata": {},
   "outputs": [
    {
     "data": {
      "text/plain": [
       "0.152124"
      ]
     },
     "execution_count": 7,
     "metadata": {},
     "output_type": "execute_result"
    }
   ],
   "source": [
    "calculate_nll(treeflow, x_test, y_test, batch_size=2048)"
   ]
  },
  {
   "cell_type": "code",
   "execution_count": 8,
   "id": "a6d937f5",
   "metadata": {
    "tags": []
   },
   "outputs": [
    {
     "data": {
      "text/plain": [
       "<catboost.core.CatBoostRegressor at 0x7f9bd635a790>"
      ]
     },
     "execution_count": 8,
     "metadata": {},
     "output_type": "execute_result"
    }
   ],
   "source": [
    "model_tree = catboost.CatBoostRegressor(loss_function='RMSEWithUncertainty', random_seed=RANDOM_SEED, verbose=False)\n",
    "model_tree.fit(x_tr, y_tr, eval_set=(x_val, y_val))"
   ]
  },
  {
   "cell_type": "code",
   "execution_count": 9,
   "id": "e403e54f",
   "metadata": {},
   "outputs": [
    {
     "name": "stderr",
     "output_type": "stream",
     "text": [
      "100%|███████████████████████████████████████████████████████████████████████████████████████████████████████████████████████████████████████████████████████████████████████████████████████████████████████████████████| 160/160 [00:11<00:00, 13.70it/s]\n",
      "100%|███████████████████████████████████████████████████████████████████████████████████████████████████████████████████████████████████████████████████████████████████████████████████████████████████████████████████| 160/160 [01:52<00:00,  1.43it/s]\n"
     ]
    }
   ],
   "source": [
    "# CatBoost\n",
    "y_test_catboost = model_tree.predict(x_test)\n",
    "y_test_catboost_mean = y_test_catboost[:, 0]\n",
    "y_test_catboost_std = np.sqrt(y_test_catboost[:, 1])\n",
    "\n",
    "# TreeFlow Samples\n",
    "y_test_samples = treeflow.sample(x_test, num_samples=1000).squeeze()\n",
    "\n",
    "# TreeFlow Gaussianized\n",
    "y_test_treeflow_gaussianized_mean = np.mean(y_test_samples, axis = 1)\n",
    "y_test_treeflow_gaussianized_std = np.std(y_test_samples, axis = 1)\n",
    "\n",
    "# TreeFlow GMM\n",
    "y_test_treeflow_gmm_mean, y_test_treeflow_gmm_std = calculate_treeflow_gmm_predictions(\n",
    "    y_test_samples, \n",
    "    max_components = 2, \n",
    "    gmm_args = dict(random_state=RANDOM_SEED, n_init=5),\n",
    "    method = 'weights'\n",
    ")\n",
    "\n",
    "# TreeFlow BGMM\n",
    "y_test_treeflow_bgmm_mean, y_test_treeflow_bgmm_std = calculate_treeflow_bgmm_predictions(\n",
    "    y_test_samples, \n",
    "    bgmm_args = dict(random_state=RANDOM_SEED, n_init=5, n_components=5, max_iter=1000),\n",
    "    method = 'weights'\n",
    ")\n",
    "\n",
    "# TreeFlow Sample Logprob\n",
    "lps = treeflow.log_prob(np.repeat(x_test.values, 1000, axis = 0), y_test_samples.reshape(-1, 1))\n",
    "lps = lps.reshape(*y_test_samples.shape)\n",
    "indices_treeflow_sample_logprob = lps.argmax(axis = 1)\n",
    "\n",
    "y_test_treeflow_sample_logprob = np.take(y_test_samples, indices_treeflow_sample_logprob)"
   ]
  },
  {
   "cell_type": "code",
   "execution_count": 10,
   "id": "91b4d428-e0ee-46b3-bd62-22709ac65819",
   "metadata": {},
   "outputs": [
    {
     "name": "stdout",
     "output_type": "stream",
     "text": [
      "(160,) (160,) (160,) (160,) (160,) (160,) (160,) (160,) (160,)\n"
     ]
    }
   ],
   "source": [
    "print(\n",
    "    y_test_catboost_mean.shape,\n",
    "    y_test_catboost_std.shape,\n",
    "    y_test_treeflow_gaussianized_mean.shape,\n",
    "    y_test_treeflow_gaussianized_std.shape,\n",
    "    y_test_treeflow_gmm_mean.shape,\n",
    "    y_test_treeflow_gmm_std.shape,\n",
    "    y_test_treeflow_bgmm_mean.shape,\n",
    "    y_test_treeflow_bgmm_std.shape,\n",
    "    y_test_treeflow_sample_logprob.shape\n",
    ")"
   ]
  },
  {
   "cell_type": "markdown",
   "id": "129c18af-ac9f-4cd5-833c-831a1c719463",
   "metadata": {},
   "source": [
    "## Samples comparison"
   ]
  },
  {
   "cell_type": "code",
   "execution_count": 11,
   "id": "362f1be4-68c1-46a9-be72-8dfe1eb1270d",
   "metadata": {
    "tags": []
   },
   "outputs": [
    {
     "name": "stdout",
     "output_type": "stream",
     "text": [
      "0\n",
      "1\n",
      "2\n",
      "3\n",
      "4\n",
      "5\n",
      "6\n",
      "7\n",
      "8\n",
      "9\n"
     ]
    }
   ],
   "source": [
    "for i in range(10):\n",
    "    print(i)\n",
    "    plt.axvline(x=y_test.values[i, :], color='r', label='True value')\n",
    "\n",
    "    ## TreeFlow\n",
    "    sns.kdeplot(y_test_samples[i, :], color='blue', label='TreeFlow')\n",
    "\n",
    "    ## TreeFlow Gaussianized\n",
    "    x = np.linspace(\n",
    "        stats.norm.ppf(0.001, loc=y_test_treeflow_gaussianized_mean[i], scale=y_test_treeflow_gaussianized_std[i]), \n",
    "        stats.norm.ppf(0.999, loc=y_test_treeflow_gaussianized_mean[i], scale=y_test_treeflow_gaussianized_std[i]), \n",
    "        100\n",
    "    )\n",
    "    plt.plot(x, stats.norm.pdf(x, loc=y_test_treeflow_gaussianized_mean[i], scale=y_test_treeflow_gaussianized_std[i]), color = 'green', label='TreeFlow \"Gaussianised\"')\n",
    "    \n",
    "    ## TreeFlow GMM\n",
    "    x = np.linspace(\n",
    "        stats.norm.ppf(0.001, loc=y_test_treeflow_gmm_mean[i], scale=y_test_treeflow_gmm_std[i]), \n",
    "        stats.norm.ppf(0.999, loc=y_test_treeflow_gmm_mean[i], scale=y_test_treeflow_gmm_std[i]), \n",
    "        100\n",
    "    )\n",
    "    plt.plot(x, stats.norm.pdf(x, loc=y_test_treeflow_gmm_mean[i], scale=y_test_treeflow_gmm_std[i]), color = 'violet', label='TreeFlow GMM')\n",
    "    \n",
    "    ## TreeFlow BGMM\n",
    "    x = np.linspace(\n",
    "        stats.norm.ppf(0.001, loc=y_test_treeflow_bgmm_mean[i], scale=y_test_treeflow_bgmm_std[i]), \n",
    "        stats.norm.ppf(0.999, loc=y_test_treeflow_bgmm_mean[i], scale=y_test_treeflow_bgmm_std[i]), \n",
    "        100\n",
    "    )\n",
    "    plt.plot(x, stats.norm.pdf(x, loc=y_test_treeflow_gmm_mean[i], scale=y_test_treeflow_gmm_std[i]), color = 'yellow', label='TreeFlow BGMM')\n",
    "    \n",
    "    ## TreeFlow CatBoost\n",
    "    x = np.linspace(\n",
    "        stats.norm.ppf(0.001, loc=y_test_catboost_mean[i], scale=y_test_catboost_std[i]), \n",
    "        stats.norm.ppf(0.999, loc=y_test_catboost_mean[i], scale=y_test_catboost_std[i]), \n",
    "        100\n",
    "    )\n",
    "    plt.plot(x, stats.norm.pdf(x, loc=y_test_catboost_mean[i], scale=y_test_catboost_std[i]), color = 'orange', label='CatBoost')\n",
    "    \n",
    "    plt.xlim([0, 10])\n",
    "    plt.legend()\n",
    "    # plt.show()\n",
    "    plt.savefig(f'figures/samples_comparison_{i}.pdf')\n",
    "    plt.close()"
   ]
  },
  {
   "cell_type": "markdown",
   "id": "95fc839d-d835-41b7-838b-d6449bf8dbe1",
   "metadata": {},
   "source": [
    "## Uncertainty Toolbox"
   ]
  },
  {
   "cell_type": "code",
   "execution_count": 12,
   "id": "dabfe454-9706-4c33-9f01-7191a4bb1135",
   "metadata": {},
   "outputs": [],
   "source": [
    "def generate_uncertainty_results(\n",
    "    y_pred: np.ndarray,\n",
    "    y_std: np.ndarray,\n",
    "    y_true: np.ndarray,\n",
    "    model_name: str\n",
    "):\n",
    "    uct.viz.plot_adversarial_group_calibration(y_pred, y_std, y_true)\n",
    "    plt.savefig(f'figures/adv_group_cal_{model_name}.pdf')\n",
    "    plt.close()\n",
    "    \n",
    "    uct.viz.plot_calibration(y_pred, y_std, y_true)\n",
    "    plt.savefig(f'figures/avg_cal_{model_name}.pdf')\n",
    "    plt.close()\n",
    "    \n",
    "    uct.viz.plot_intervals_ordered(y_pred, y_std, y_true)\n",
    "    plt.savefig(f'figures/ord_pred_int_{model_name}.pdf')\n",
    "    plt.close()\n",
    "    \n",
    "    uct.viz.plot_residuals_vs_stds(y_pred, y_std, y_true)\n",
    "    plt.savefig(f'figures/res_vs_std_{model_name}.pdf')\n",
    "    plt.close()\n",
    "    \n",
    "    uct.viz.plot_sharpness(y_std)\n",
    "    plt.savefig(f'figures/sharpness_{model_name}.pdf')\n",
    "    plt.close()\n",
    "    \n",
    "    return uct.metrics.get_all_metrics(y_pred, y_std, y_true)"
   ]
  },
  {
   "cell_type": "code",
   "execution_count": 13,
   "id": "e385c3fd-f1e7-4a95-8d01-fb097b4414b3",
   "metadata": {
    "tags": []
   },
   "outputs": [
    {
     "name": "stdout",
     "output_type": "stream",
     "text": [
      " (1/n) Calculating accuracy metrics\n",
      " (2/n) Calculating average calibration metrics\n",
      " (3/n) Calculating adversarial group calibration metrics\n",
      "  [1/2] for mean absolute calibration error\n",
      "Measuring adversarial group calibration by spanning group size between 0.0 and 1.0, in 10 intervals\n"
     ]
    },
    {
     "name": "stderr",
     "output_type": "stream",
     "text": [
      "100%|█████████████████████████████████████████████████████████████████████████████████████████████████████████████████████████████████████████████████████████████████████████████████████████████████████████████████████| 10/10 [00:00<00:00, 14.89it/s]\n"
     ]
    },
    {
     "name": "stdout",
     "output_type": "stream",
     "text": [
      "  [2/2] for root mean squared calibration error\n",
      "Measuring adversarial group calibration by spanning group size between 0.0 and 1.0, in 10 intervals\n"
     ]
    },
    {
     "name": "stderr",
     "output_type": "stream",
     "text": [
      "100%|█████████████████████████████████████████████████████████████████████████████████████████████████████████████████████████████████████████████████████████████████████████████████████████████████████████████████████| 10/10 [00:00<00:00, 14.70it/s]"
     ]
    },
    {
     "name": "stdout",
     "output_type": "stream",
     "text": [
      " (4/n) Calculating sharpness metrics\n",
      " (n/n) Calculating proper scoring rule metrics\n",
      "**Finished Calculating All Metrics**\n",
      "\n",
      "\n",
      "===================== Accuracy Metrics =====================\n",
      "  MAE           0.503\n",
      "  RMSE          0.623\n",
      "  MDAE          0.432\n",
      "  MARPD         9.024\n",
      "  R2            0.373\n",
      "  Correlation   0.633\n",
      "=============== Average Calibration Metrics ================\n",
      "  Root-mean-squared Calibration Error   0.052\n",
      "  Mean-absolute Calibration Error       0.041\n",
      "  Miscalibration Area                   0.041\n",
      "========== Adversarial Group Calibration Metrics ===========\n",
      "  Mean-absolute Adversarial Group Calibration Error\n",
      "     Group Size: 0.11 -- Calibration Error: 0.124\n",
      "     Group Size: 0.56 -- Calibration Error: 0.067\n",
      "     Group Size: 1.00 -- Calibration Error: 0.041\n",
      "  Root-mean-squared Adversarial Group Calibration Error\n",
      "     Group Size: 0.11 -- Calibration Error: 0.154\n",
      "     Group Size: 0.56 -- Calibration Error: 0.085\n",
      "     Group Size: 1.00 -- Calibration Error: 0.052\n",
      "==================== Sharpness Metrics =====================\n",
      "  Sharpness   0.586\n",
      "=================== Scoring Rule Metrics ===================\n",
      "  Negative-log-likelihood   0.913\n",
      "  CRPS                      0.347\n",
      "  Check Score               0.175\n",
      "  Interval Score            1.690\n"
     ]
    },
    {
     "name": "stderr",
     "output_type": "stream",
     "text": [
      "\n"
     ]
    }
   ],
   "source": [
    "metrics_catboost = generate_uncertainty_results(\n",
    "    y_pred = y_test_catboost_mean,\n",
    "    y_std = y_test_catboost_std,\n",
    "    y_true = y_test.values.squeeze(),\n",
    "    model_name = 'catboost'\n",
    ")"
   ]
  },
  {
   "cell_type": "code",
   "execution_count": 14,
   "id": "36f7daa7-cab2-4a7f-94c5-8249caafa4fc",
   "metadata": {
    "tags": []
   },
   "outputs": [
    {
     "name": "stdout",
     "output_type": "stream",
     "text": [
      " (1/n) Calculating accuracy metrics\n",
      " (2/n) Calculating average calibration metrics\n",
      " (3/n) Calculating adversarial group calibration metrics\n",
      "  [1/2] for mean absolute calibration error\n",
      "Measuring adversarial group calibration by spanning group size between 0.0 and 1.0, in 10 intervals\n"
     ]
    },
    {
     "name": "stderr",
     "output_type": "stream",
     "text": [
      "100%|█████████████████████████████████████████████████████████████████████████████████████████████████████████████████████████████████████████████████████████████████████████████████████████████████████████████████████| 10/10 [00:00<00:00, 15.06it/s]\n"
     ]
    },
    {
     "name": "stdout",
     "output_type": "stream",
     "text": [
      "  [2/2] for root mean squared calibration error\n",
      "Measuring adversarial group calibration by spanning group size between 0.0 and 1.0, in 10 intervals\n"
     ]
    },
    {
     "name": "stderr",
     "output_type": "stream",
     "text": [
      "100%|█████████████████████████████████████████████████████████████████████████████████████████████████████████████████████████████████████████████████████████████████████████████████████████████████████████████████████| 10/10 [00:00<00:00, 14.77it/s]"
     ]
    },
    {
     "name": "stdout",
     "output_type": "stream",
     "text": [
      " (4/n) Calculating sharpness metrics\n",
      " (n/n) Calculating proper scoring rule metrics\n",
      "**Finished Calculating All Metrics**\n",
      "\n",
      "\n",
      "===================== Accuracy Metrics =====================\n",
      "  MAE           0.490\n",
      "  RMSE          0.620\n",
      "  MDAE          0.419\n",
      "  MARPD         8.722\n",
      "  R2            0.379\n",
      "  Correlation   0.626\n",
      "=============== Average Calibration Metrics ================\n",
      "  Root-mean-squared Calibration Error   0.039\n",
      "  Mean-absolute Calibration Error       0.030\n",
      "  Miscalibration Area                   0.030\n",
      "========== Adversarial Group Calibration Metrics ===========\n",
      "  Mean-absolute Adversarial Group Calibration Error\n",
      "     Group Size: 0.11 -- Calibration Error: 0.140\n",
      "     Group Size: 0.56 -- Calibration Error: 0.060\n",
      "     Group Size: 1.00 -- Calibration Error: 0.030\n",
      "  Root-mean-squared Adversarial Group Calibration Error\n",
      "     Group Size: 0.11 -- Calibration Error: 0.153\n",
      "     Group Size: 0.56 -- Calibration Error: 0.069\n",
      "     Group Size: 1.00 -- Calibration Error: 0.039\n",
      "==================== Sharpness Metrics =====================\n",
      "  Sharpness   0.678\n",
      "=================== Scoring Rule Metrics ===================\n",
      "  Negative-log-likelihood   0.941\n",
      "  CRPS                      0.344\n",
      "  Check Score               0.174\n",
      "  Interval Score            1.724\n"
     ]
    },
    {
     "name": "stderr",
     "output_type": "stream",
     "text": [
      "\n"
     ]
    }
   ],
   "source": [
    "metrics_treeflow_gaussianized = generate_uncertainty_results(\n",
    "    y_pred = y_test_treeflow_gaussianized_mean,\n",
    "    y_std = y_test_treeflow_gaussianized_std,\n",
    "    y_true = y_test.values.squeeze(),\n",
    "    model_name = 'treeflow_gaussianized'\n",
    ")"
   ]
  },
  {
   "cell_type": "code",
   "execution_count": 15,
   "id": "96babaf0-0f98-4108-a566-1838954d6c23",
   "metadata": {
    "tags": []
   },
   "outputs": [
    {
     "name": "stdout",
     "output_type": "stream",
     "text": [
      " (1/n) Calculating accuracy metrics\n",
      " (2/n) Calculating average calibration metrics\n",
      " (3/n) Calculating adversarial group calibration metrics\n",
      "  [1/2] for mean absolute calibration error\n",
      "Measuring adversarial group calibration by spanning group size between 0.0 and 1.0, in 10 intervals\n"
     ]
    },
    {
     "name": "stderr",
     "output_type": "stream",
     "text": [
      "100%|█████████████████████████████████████████████████████████████████████████████████████████████████████████████████████████████████████████████████████████████████████████████████████████████████████████████████████| 10/10 [00:00<00:00, 15.21it/s]\n"
     ]
    },
    {
     "name": "stdout",
     "output_type": "stream",
     "text": [
      "  [2/2] for root mean squared calibration error\n",
      "Measuring adversarial group calibration by spanning group size between 0.0 and 1.0, in 10 intervals\n"
     ]
    },
    {
     "name": "stderr",
     "output_type": "stream",
     "text": [
      "100%|█████████████████████████████████████████████████████████████████████████████████████████████████████████████████████████████████████████████████████████████████████████████████████████████████████████████████████| 10/10 [00:00<00:00, 15.37it/s]"
     ]
    },
    {
     "name": "stdout",
     "output_type": "stream",
     "text": [
      " (4/n) Calculating sharpness metrics\n",
      " (n/n) Calculating proper scoring rule metrics\n",
      "**Finished Calculating All Metrics**\n",
      "\n",
      "\n",
      "===================== Accuracy Metrics =====================\n",
      "  MAE           0.490\n",
      "  RMSE          0.640\n",
      "  MDAE          0.472\n",
      "  MARPD         8.691\n",
      "  R2            0.339\n",
      "  Correlation   0.613\n",
      "=============== Average Calibration Metrics ================\n",
      "  Root-mean-squared Calibration Error   0.045\n",
      "  Mean-absolute Calibration Error       0.038\n",
      "  Miscalibration Area                   0.038\n",
      "========== Adversarial Group Calibration Metrics ===========\n",
      "  Mean-absolute Adversarial Group Calibration Error\n",
      "     Group Size: 0.11 -- Calibration Error: 0.136\n",
      "     Group Size: 0.56 -- Calibration Error: 0.058\n",
      "     Group Size: 1.00 -- Calibration Error: 0.038\n",
      "  Root-mean-squared Adversarial Group Calibration Error\n",
      "     Group Size: 0.11 -- Calibration Error: 0.153\n",
      "     Group Size: 0.56 -- Calibration Error: 0.072\n",
      "     Group Size: 1.00 -- Calibration Error: 0.045\n",
      "==================== Sharpness Metrics =====================\n",
      "  Sharpness   0.616\n",
      "=================== Scoring Rule Metrics ===================\n",
      "  Negative-log-likelihood   33.860\n",
      "  CRPS                      0.364\n",
      "  Check Score               0.184\n",
      "  Interval Score            2.319\n"
     ]
    },
    {
     "name": "stderr",
     "output_type": "stream",
     "text": [
      "\n"
     ]
    }
   ],
   "source": [
    "metrics_treeflow_gmm = generate_uncertainty_results(\n",
    "    y_pred = y_test_treeflow_gmm_mean,\n",
    "    y_std = y_test_treeflow_gmm_std,\n",
    "    y_true = y_test.values.squeeze(),\n",
    "    model_name = 'treeflow_gmm'\n",
    ")"
   ]
  },
  {
   "cell_type": "code",
   "execution_count": 16,
   "id": "5a5181f3-26b5-486f-9a9a-cc736607720b",
   "metadata": {
    "tags": []
   },
   "outputs": [
    {
     "name": "stdout",
     "output_type": "stream",
     "text": [
      " (1/n) Calculating accuracy metrics\n",
      " (2/n) Calculating average calibration metrics\n",
      " (3/n) Calculating adversarial group calibration metrics\n",
      "  [1/2] for mean absolute calibration error\n",
      "Measuring adversarial group calibration by spanning group size between 0.0 and 1.0, in 10 intervals\n"
     ]
    },
    {
     "name": "stderr",
     "output_type": "stream",
     "text": [
      "100%|█████████████████████████████████████████████████████████████████████████████████████████████████████████████████████████████████████████████████████████████████████████████████████████████████████████████████████| 10/10 [00:00<00:00, 15.18it/s]\n"
     ]
    },
    {
     "name": "stdout",
     "output_type": "stream",
     "text": [
      "  [2/2] for root mean squared calibration error\n",
      "Measuring adversarial group calibration by spanning group size between 0.0 and 1.0, in 10 intervals\n"
     ]
    },
    {
     "name": "stderr",
     "output_type": "stream",
     "text": [
      "100%|█████████████████████████████████████████████████████████████████████████████████████████████████████████████████████████████████████████████████████████████████████████████████████████████████████████████████████| 10/10 [00:00<00:00, 15.12it/s]"
     ]
    },
    {
     "name": "stdout",
     "output_type": "stream",
     "text": [
      " (4/n) Calculating sharpness metrics\n",
      " (n/n) Calculating proper scoring rule metrics\n",
      "**Finished Calculating All Metrics**\n",
      "\n",
      "\n",
      "===================== Accuracy Metrics =====================\n",
      "  MAE           0.478\n",
      "  RMSE          0.686\n",
      "  MDAE          0.342\n",
      "  MARPD         8.427\n",
      "  R2            0.239\n",
      "  Correlation   0.609\n",
      "=============== Average Calibration Metrics ================\n",
      "  Root-mean-squared Calibration Error   0.154\n",
      "  Mean-absolute Calibration Error       0.115\n",
      "  Miscalibration Area                   0.117\n",
      "========== Adversarial Group Calibration Metrics ===========\n",
      "  Mean-absolute Adversarial Group Calibration Error\n",
      "     Group Size: 0.11 -- Calibration Error: 0.250\n",
      "     Group Size: 0.56 -- Calibration Error: 0.144\n",
      "     Group Size: 1.00 -- Calibration Error: 0.115\n",
      "  Root-mean-squared Adversarial Group Calibration Error\n",
      "     Group Size: 0.11 -- Calibration Error: 0.253\n",
      "     Group Size: 0.56 -- Calibration Error: 0.189\n",
      "     Group Size: 1.00 -- Calibration Error: 0.154\n",
      "==================== Sharpness Metrics =====================\n",
      "  Sharpness   0.263\n",
      "=================== Scoring Rule Metrics ===================\n",
      "  Negative-log-likelihood   43.073\n",
      "  CRPS                      0.415\n",
      "  Check Score               0.209\n",
      "  Interval Score            3.421\n"
     ]
    },
    {
     "name": "stderr",
     "output_type": "stream",
     "text": [
      "\n"
     ]
    }
   ],
   "source": [
    "metrics_treeflow_bgmm = generate_uncertainty_results(\n",
    "    y_pred = y_test_treeflow_bgmm_mean,\n",
    "    y_std = y_test_treeflow_bgmm_std,\n",
    "    y_true = y_test.values.squeeze(),\n",
    "    model_name = 'treeflow_bgmm'\n",
    ")"
   ]
  },
  {
   "cell_type": "code",
   "execution_count": 17,
   "id": "457ccef6-4c5e-461a-a01f-3209c9bc511e",
   "metadata": {},
   "outputs": [
    {
     "name": "stdout",
     "output_type": "stream",
     "text": [
      " (1/n) Calculating accuracy metrics\n"
     ]
    }
   ],
   "source": [
    "metrics_treeflow_sample_logprob = {\n",
    "    'accuracy': uct.get_all_accuracy_metrics(\n",
    "        y_pred = y_test_treeflow_sample_logprob,\n",
    "        y_true = y_test.values.squeeze()\n",
    "    ),\n",
    "    'avg_calibration': {},\n",
    "    'sharpness': {},\n",
    "    'scoring_rule': {}\n",
    "}"
   ]
  },
  {
   "cell_type": "code",
   "execution_count": 18,
   "id": "c2afefe5-715c-421d-be70-75fad33a85c2",
   "metadata": {},
   "outputs": [],
   "source": [
    "def prepare_summary(metrics: List[Dict], index=None):\n",
    "    if index is not None:\n",
    "        assert len(index) == len(metrics), 'Different number of column names and metrics'\n",
    "    \n",
    "    return pd.concat([\n",
    "        pd.DataFrame([metric['accuracy'] for metric in metrics], index=index),\n",
    "        pd.DataFrame([metric['avg_calibration'] for metric in metrics], index=index),\n",
    "        pd.DataFrame([metric['sharpness'] for metric in metrics], index=index),\n",
    "        pd.DataFrame([metric['scoring_rule'] for metric in metrics], index=index)\n",
    "    ], \n",
    "        axis=1\n",
    "    ).T\n",
    "\n",
    "\n",
    "def latexize_summary(summary: pd.DataFrame):\n",
    "    print(summary.to_latex())"
   ]
  },
  {
   "cell_type": "code",
   "execution_count": 19,
   "id": "4df086ac-c1ff-4399-af49-6c9563eb2f5e",
   "metadata": {},
   "outputs": [
    {
     "data": {
      "text/html": [
       "<div>\n",
       "<style scoped>\n",
       "    .dataframe tbody tr th:only-of-type {\n",
       "        vertical-align: middle;\n",
       "    }\n",
       "\n",
       "    .dataframe tbody tr th {\n",
       "        vertical-align: top;\n",
       "    }\n",
       "\n",
       "    .dataframe thead th {\n",
       "        text-align: right;\n",
       "    }\n",
       "</style>\n",
       "<table border=\"1\" class=\"dataframe\">\n",
       "  <thead>\n",
       "    <tr style=\"text-align: right;\">\n",
       "      <th></th>\n",
       "      <th>CatBoost</th>\n",
       "      <th>TreeFlow Gaussianized</th>\n",
       "      <th>TreeFlow GMM</th>\n",
       "      <th>TreeFlow BGMM</th>\n",
       "      <th>TreeFlow Sample Logprob</th>\n",
       "    </tr>\n",
       "  </thead>\n",
       "  <tbody>\n",
       "    <tr>\n",
       "      <th>mae</th>\n",
       "      <td>0.50284</td>\n",
       "      <td>0.48961</td>\n",
       "      <td>0.48975</td>\n",
       "      <td>0.47795</td>\n",
       "      <td>0.80135</td>\n",
       "    </tr>\n",
       "    <tr>\n",
       "      <th>rmse</th>\n",
       "      <td>0.62295</td>\n",
       "      <td>0.62003</td>\n",
       "      <td>0.63963</td>\n",
       "      <td>0.68626</td>\n",
       "      <td>1.02976</td>\n",
       "    </tr>\n",
       "    <tr>\n",
       "      <th>mdae</th>\n",
       "      <td>0.43157</td>\n",
       "      <td>0.41943</td>\n",
       "      <td>0.47214</td>\n",
       "      <td>0.34161</td>\n",
       "      <td>0.92072</td>\n",
       "    </tr>\n",
       "    <tr>\n",
       "      <th>marpd</th>\n",
       "      <td>9.02362</td>\n",
       "      <td>8.72223</td>\n",
       "      <td>8.69080</td>\n",
       "      <td>8.42661</td>\n",
       "      <td>14.33044</td>\n",
       "    </tr>\n",
       "    <tr>\n",
       "      <th>r2</th>\n",
       "      <td>0.37267</td>\n",
       "      <td>0.37854</td>\n",
       "      <td>0.33861</td>\n",
       "      <td>0.23867</td>\n",
       "      <td>-0.71423</td>\n",
       "    </tr>\n",
       "    <tr>\n",
       "      <th>corr</th>\n",
       "      <td>0.63283</td>\n",
       "      <td>0.62570</td>\n",
       "      <td>0.61251</td>\n",
       "      <td>0.60942</td>\n",
       "      <td>0.01854</td>\n",
       "    </tr>\n",
       "    <tr>\n",
       "      <th>rms_cal</th>\n",
       "      <td>0.05184</td>\n",
       "      <td>0.03878</td>\n",
       "      <td>0.04520</td>\n",
       "      <td>0.15362</td>\n",
       "      <td>NaN</td>\n",
       "    </tr>\n",
       "    <tr>\n",
       "      <th>ma_cal</th>\n",
       "      <td>0.04104</td>\n",
       "      <td>0.02984</td>\n",
       "      <td>0.03814</td>\n",
       "      <td>0.11543</td>\n",
       "      <td>NaN</td>\n",
       "    </tr>\n",
       "    <tr>\n",
       "      <th>miscal_area</th>\n",
       "      <td>0.04140</td>\n",
       "      <td>0.02993</td>\n",
       "      <td>0.03836</td>\n",
       "      <td>0.11657</td>\n",
       "      <td>NaN</td>\n",
       "    </tr>\n",
       "    <tr>\n",
       "      <th>sharp</th>\n",
       "      <td>0.58562</td>\n",
       "      <td>0.67779</td>\n",
       "      <td>0.61595</td>\n",
       "      <td>0.26304</td>\n",
       "      <td>NaN</td>\n",
       "    </tr>\n",
       "    <tr>\n",
       "      <th>nll</th>\n",
       "      <td>0.91271</td>\n",
       "      <td>0.94130</td>\n",
       "      <td>33.85963</td>\n",
       "      <td>43.07252</td>\n",
       "      <td>NaN</td>\n",
       "    </tr>\n",
       "    <tr>\n",
       "      <th>crps</th>\n",
       "      <td>0.34692</td>\n",
       "      <td>0.34424</td>\n",
       "      <td>0.36443</td>\n",
       "      <td>0.41532</td>\n",
       "      <td>NaN</td>\n",
       "    </tr>\n",
       "    <tr>\n",
       "      <th>check</th>\n",
       "      <td>0.17518</td>\n",
       "      <td>0.17381</td>\n",
       "      <td>0.18357</td>\n",
       "      <td>0.20859</td>\n",
       "      <td>NaN</td>\n",
       "    </tr>\n",
       "    <tr>\n",
       "      <th>interval</th>\n",
       "      <td>1.69041</td>\n",
       "      <td>1.72443</td>\n",
       "      <td>2.31898</td>\n",
       "      <td>3.42067</td>\n",
       "      <td>NaN</td>\n",
       "    </tr>\n",
       "  </tbody>\n",
       "</table>\n",
       "</div>"
      ],
      "text/plain": [
       "             CatBoost  TreeFlow Gaussianized  TreeFlow GMM  TreeFlow BGMM  \\\n",
       "mae           0.50284                0.48961       0.48975        0.47795   \n",
       "rmse          0.62295                0.62003       0.63963        0.68626   \n",
       "mdae          0.43157                0.41943       0.47214        0.34161   \n",
       "marpd         9.02362                8.72223       8.69080        8.42661   \n",
       "r2            0.37267                0.37854       0.33861        0.23867   \n",
       "corr          0.63283                0.62570       0.61251        0.60942   \n",
       "rms_cal       0.05184                0.03878       0.04520        0.15362   \n",
       "ma_cal        0.04104                0.02984       0.03814        0.11543   \n",
       "miscal_area   0.04140                0.02993       0.03836        0.11657   \n",
       "sharp         0.58562                0.67779       0.61595        0.26304   \n",
       "nll           0.91271                0.94130      33.85963       43.07252   \n",
       "crps          0.34692                0.34424       0.36443        0.41532   \n",
       "check         0.17518                0.17381       0.18357        0.20859   \n",
       "interval      1.69041                1.72443       2.31898        3.42067   \n",
       "\n",
       "             TreeFlow Sample Logprob  \n",
       "mae                          0.80135  \n",
       "rmse                         1.02976  \n",
       "mdae                         0.92072  \n",
       "marpd                       14.33044  \n",
       "r2                          -0.71423  \n",
       "corr                         0.01854  \n",
       "rms_cal                          NaN  \n",
       "ma_cal                           NaN  \n",
       "miscal_area                      NaN  \n",
       "sharp                            NaN  \n",
       "nll                              NaN  \n",
       "crps                             NaN  \n",
       "check                            NaN  \n",
       "interval                         NaN  "
      ]
     },
     "execution_count": 19,
     "metadata": {},
     "output_type": "execute_result"
    }
   ],
   "source": [
    "summary = prepare_summary(\n",
    "    metrics=[metrics_catboost, metrics_treeflow_gaussianized, metrics_treeflow_gmm, metrics_treeflow_bgmm, metrics_treeflow_sample_logprob],\n",
    "    index=['CatBoost', 'TreeFlow Gaussianized', 'TreeFlow GMM', 'TreeFlow BGMM', 'TreeFlow Sample Logprob']\n",
    ")\n",
    "summary"
   ]
  },
  {
   "cell_type": "code",
   "execution_count": 20,
   "id": "b730086b-a60c-4a09-9d01-fddd8e36e341",
   "metadata": {},
   "outputs": [
    {
     "name": "stdout",
     "output_type": "stream",
     "text": [
      "\\begin{tabular}{lrrrrr}\n",
      "\\toprule\n",
      "{} &  CatBoost &  TreeFlow Gaussianized &  TreeFlow GMM &  TreeFlow BGMM &  TreeFlow Sample Logprob \\\\\n",
      "\\midrule\n",
      "mae         &   0.50284 &                0.48961 &       0.48975 &        0.47795 &                  0.80135 \\\\\n",
      "rmse        &   0.62295 &                0.62003 &       0.63963 &        0.68626 &                  1.02976 \\\\\n",
      "mdae        &   0.43157 &                0.41943 &       0.47214 &        0.34161 &                  0.92072 \\\\\n",
      "marpd       &   9.02362 &                8.72223 &       8.69080 &        8.42661 &                 14.33044 \\\\\n",
      "r2          &   0.37267 &                0.37854 &       0.33861 &        0.23867 &                 -0.71423 \\\\\n",
      "corr        &   0.63283 &                0.62570 &       0.61251 &        0.60942 &                  0.01854 \\\\\n",
      "rms\\_cal     &   0.05184 &                0.03878 &       0.04520 &        0.15362 &                      NaN \\\\\n",
      "ma\\_cal      &   0.04104 &                0.02984 &       0.03814 &        0.11543 &                      NaN \\\\\n",
      "miscal\\_area &   0.04140 &                0.02993 &       0.03836 &        0.11657 &                      NaN \\\\\n",
      "sharp       &   0.58562 &                0.67779 &       0.61595 &        0.26304 &                      NaN \\\\\n",
      "nll         &   0.91271 &                0.94130 &      33.85963 &       43.07252 &                      NaN \\\\\n",
      "crps        &   0.34692 &                0.34424 &       0.36443 &        0.41532 &                      NaN \\\\\n",
      "check       &   0.17518 &                0.17381 &       0.18357 &        0.20859 &                      NaN \\\\\n",
      "interval    &   1.69041 &                1.72443 &       2.31898 &        3.42067 &                      NaN \\\\\n",
      "\\bottomrule\n",
      "\\end{tabular}\n",
      "\n"
     ]
    },
    {
     "name": "stderr",
     "output_type": "stream",
     "text": [
      "/var/folders/yr/mfhy4qkx1m302d_yxw615jj00000gn/T/ipykernel_15224/469921836.py:16: FutureWarning: In future versions `DataFrame.to_latex` is expected to utilise the base implementation of `Styler.to_latex` for formatting and rendering. The arguments signature may therefore change. It is recommended instead to use `DataFrame.style.to_latex` which also contains additional functionality.\n",
      "  print(summary.to_latex())\n"
     ]
    }
   ],
   "source": [
    "latexize_summary(summary)"
   ]
  },
  {
   "cell_type": "markdown",
   "id": "d2719517-e0c2-4ef7-8177-2567ab2ae7f5",
   "metadata": {},
   "source": [
    "## PRR Assessment"
   ]
  },
  {
   "cell_type": "code",
   "execution_count": 21,
   "id": "e461f98f-bcc1-4adc-a678-c06e0186915a",
   "metadata": {},
   "outputs": [],
   "source": [
    "def prr_regression(targets, preds, measure, pos_label=1):\n",
    "    if pos_label != 1:\n",
    "        measure_loc = -1.0 * measure\n",
    "    else:\n",
    "        measure_loc = measure\n",
    "    preds = np.squeeze(preds)\n",
    "    # Compute total MSE\n",
    "    error = (preds - targets) ** 2\n",
    "    MSE_0 = np.mean(error)\n",
    "    # print 'BASE MSE', MSE_0\n",
    "\n",
    "    # Create array\n",
    "    array = np.concatenate(\n",
    "        (preds[:, np.newaxis], targets[:, np.newaxis], error[:, np.newaxis], measure_loc[:, np.newaxis]), axis=1)\n",
    "\n",
    "    # Results arrays\n",
    "    results_max = [[0.0, 0.0]]\n",
    "    results_var = [[0.0, 0.0]]\n",
    "    results_min = [[0.0, 0.0]]\n",
    "\n",
    "    optimal_ranking = array[:, 2].argsort()\n",
    "    sorted_array = array[optimal_ranking]  # Sort by error\n",
    "\n",
    "    for i in range(1, array.shape[0]):\n",
    "        x = np.concatenate((sorted_array[:-i, 0], sorted_array[-i:, 1]), axis=0)\n",
    "        mse = np.mean((x - sorted_array[:, 1]) ** 2)\n",
    "        # Best rejection\n",
    "        results_max.append([float(i) / float(array.shape[0]), (MSE_0 - mse) / MSE_0])\n",
    "        # Random Rejection\n",
    "        results_min.append([float(i) / float(array.shape[0]), float(i) / float(array.shape[0])])\n",
    "\n",
    "    uncertainty_ranking = array[:, 3].argsort()\n",
    "    sorted_array = array[uncertainty_ranking]  # Sort by uncertainty\n",
    "\n",
    "    for i in range(1, array.shape[0]):\n",
    "        x = np.concatenate((sorted_array[:-i, 0], sorted_array[-i:, 1]), axis=0)\n",
    "        mse = np.mean((x - sorted_array[:, 1]) ** 2)\n",
    "        results_var.append([float(i) / float(array.shape[0]), (MSE_0 - mse) / MSE_0])\n",
    "\n",
    "    max_auc = auc([x[0] for x in results_max], [x[1] for x in results_max])\n",
    "    var_auc = auc([x[0] for x in results_var], [x[1] for x in results_var])\n",
    "    min_auc = auc([x[0] for x in results_min], [x[1] for x in results_min])\n",
    "\n",
    "    AUC_RR = (var_auc - min_auc) / (max_auc - min_auc)\n",
    "    return AUC_RR"
   ]
  },
  {
   "cell_type": "code",
   "execution_count": 22,
   "id": "8775fbaf-691c-41d2-935e-823d42d1676f",
   "metadata": {},
   "outputs": [],
   "source": [
    "measure_treeflow_gaussianized = - treeflow.log_prob(x_test, y_test_treeflow_gaussianized_mean.reshape(-1, 1)).reshape(-1)\n",
    "measure_treeflow_gmm = - treeflow.log_prob(x_test, y_test_treeflow_gmm_mean.reshape(-1, 1)).reshape(-1)\n",
    "measure_treeflow_bgmm = - treeflow.log_prob(x_test, y_test_treeflow_bgmm_mean.reshape(-1, 1)).reshape(-1)\n",
    "measure_treeflow_sample_logprob = - np.take(lps, indices_treeflow_sample_logprob)"
   ]
  },
  {
   "cell_type": "code",
   "execution_count": 23,
   "id": "fa73b135-7647-4b58-b0a3-98f466905c02",
   "metadata": {},
   "outputs": [],
   "source": [
    "prr_summary = pd.DataFrame({\n",
    "    'CatBoost': [\n",
    "        prr_regression(\n",
    "            targets=y_test.values.squeeze(),\n",
    "            preds=y_test_catboost_mean,\n",
    "            measure=y_test_catboost_std\n",
    "        )],\n",
    "    'TreeFlow Gaussianized (Std)': [\n",
    "        prr_regression(\n",
    "            targets=y_test.values.squeeze(),\n",
    "            preds=y_test_treeflow_gaussianized_mean,\n",
    "            measure=y_test_treeflow_gaussianized_std\n",
    "        )],\n",
    "    'TreeFlow Gaussianized (Logprob)': [prr_regression(\n",
    "        targets=y_test.values.squeeze(),\n",
    "        preds=y_test_treeflow_gaussianized_mean,\n",
    "        measure=measure_treeflow_gaussianized\n",
    "    )],\n",
    "    'TreeFlow GMM (Std)': [prr_regression(\n",
    "        targets=y_test.values.squeeze(),\n",
    "        preds=y_test_treeflow_gmm_mean,\n",
    "        measure=y_test_treeflow_gmm_std\n",
    "    )],\n",
    "    'TreeFlow GMM (Logprob)': [prr_regression(\n",
    "        targets=y_test.values.squeeze(),\n",
    "        preds=y_test_treeflow_gmm_mean,\n",
    "        measure=measure_treeflow_gmm\n",
    "    )],\n",
    "    'TreeFlow BGMM (Std)': [prr_regression(\n",
    "        targets=y_test.values.squeeze(),\n",
    "        preds=y_test_treeflow_bgmm_mean,\n",
    "        measure=y_test_treeflow_bgmm_std\n",
    "    )],\n",
    "    'TreeFlow BGMM (Logprob)': [prr_regression(\n",
    "        targets=y_test.values.squeeze(),\n",
    "        preds=y_test_treeflow_bgmm_mean,\n",
    "        measure=measure_treeflow_bgmm\n",
    "    )],\n",
    "    'TreeFlow Sample Logprob': [prr_regression(\n",
    "        targets=y_test.values.squeeze(),\n",
    "        preds=y_test_treeflow_sample_logprob,\n",
    "        measure=measure_treeflow_sample_logprob\n",
    "    )]\n",
    "}).T"
   ]
  },
  {
   "cell_type": "code",
   "execution_count": 24,
   "id": "085b8ab8-de1b-427e-b2d8-5158443c8dc9",
   "metadata": {},
   "outputs": [
    {
     "name": "stdout",
     "output_type": "stream",
     "text": [
      "\\begin{tabular}{lr}\n",
      "\\toprule\n",
      "{} &        0 \\\\\n",
      "\\midrule\n",
      "CatBoost                        &  0.33479 \\\\\n",
      "TreeFlow Gaussianized (Std)     &  0.26518 \\\\\n",
      "TreeFlow Gaussianized (Logprob) & -0.04707 \\\\\n",
      "TreeFlow GMM (Std)              &  0.02869 \\\\\n",
      "TreeFlow GMM (Logprob)          &  0.06043 \\\\\n",
      "TreeFlow BGMM (Std)             &  0.23759 \\\\\n",
      "TreeFlow BGMM (Logprob)         & -0.13350 \\\\\n",
      "TreeFlow Sample Logprob         &  0.24130 \\\\\n",
      "\\bottomrule\n",
      "\\end{tabular}\n",
      "\n"
     ]
    },
    {
     "name": "stderr",
     "output_type": "stream",
     "text": [
      "/var/folders/yr/mfhy4qkx1m302d_yxw615jj00000gn/T/ipykernel_15224/469921836.py:16: FutureWarning: In future versions `DataFrame.to_latex` is expected to utilise the base implementation of `Styler.to_latex` for formatting and rendering. The arguments signature may therefore change. It is recommended instead to use `DataFrame.style.to_latex` which also contains additional functionality.\n",
      "  print(summary.to_latex())\n"
     ]
    }
   ],
   "source": [
    "latexize_summary(prr_summary)"
   ]
  },
  {
   "cell_type": "markdown",
   "id": "b0d04c92-358f-4995-a359-b6ef3d58402e",
   "metadata": {},
   "source": [
    "## Out-of-distribution detection"
   ]
  },
  {
   "cell_type": "code",
   "execution_count": 25,
   "id": "fe14b7ab-8194-4f41-ad41-8bfb0f78c4c2",
   "metadata": {},
   "outputs": [],
   "source": [
    "def ood_detect(domain_labels, in_measure, out_measure, mode, pos_label=1):\n",
    "    scores = np.concatenate((in_measure, out_measure), axis=0)\n",
    "    scores = np.asarray(scores, dtype=np.float128)\n",
    "    if pos_label != 1:\n",
    "        scores *= -1.0\n",
    "\n",
    "    if mode == 'PR':\n",
    "        precision, recall, thresholds = precision_recall_curve(domain_labels, scores)\n",
    "        aupr = auc(recall, precision)\n",
    "        return aupr\n",
    "\n",
    "    elif mode == 'ROC':\n",
    "        roc_auc = roc_auc_score(domain_labels, scores)\n",
    "        return roc_auc"
   ]
  },
  {
   "cell_type": "code",
   "execution_count": null,
   "id": "0f96589d-ff86-4e41-8dcf-d9ede63adefa",
   "metadata": {},
   "outputs": [],
   "source": []
  },
  {
   "cell_type": "markdown",
   "id": "e2b8d83f-c09b-4918-80eb-8892cb3343d9",
   "metadata": {},
   "source": [
    "## GMM Experiments"
   ]
  },
  {
   "cell_type": "code",
   "execution_count": 26,
   "id": "04b7901e-4994-421a-99ab-f0123ea16367",
   "metadata": {
    "tags": []
   },
   "outputs": [
    {
     "name": "stdout",
     "output_type": "stream",
     "text": [
      "Means: \n",
      "[[6.72692259]\n",
      " [5.32172837]\n",
      " [7.55640869]\n",
      " [6.06683497]\n",
      " [4.38092016]\n",
      " [8.54618819]\n",
      " [5.10594794]\n",
      " [7.02916083]\n",
      " [6.44174667]\n",
      " [5.68948561]]\n",
      "Covariances: \n",
      "[[[0.01102512]]\n",
      "\n",
      " [[0.01056737]]\n",
      "\n",
      " [[0.05884508]]\n",
      "\n",
      " [[0.01911892]]\n",
      "\n",
      " [[1.20519053]]\n",
      "\n",
      " [[0.31663523]]\n",
      "\n",
      " [[0.00584974]]\n",
      "\n",
      " [[0.01819056]]\n",
      "\n",
      " [[0.01556181]]\n",
      "\n",
      " [[0.02209959]]]\n",
      "Weights: \n",
      "[0.19150298 0.11834752 0.03011787 0.13259646 0.01466295 0.01706513\n",
      " 0.16718573 0.07165877 0.14287234 0.11399024]\n"
     ]
    },
    {
     "data": {
      "image/png": "[encoded data removed]",
      "text/plain": [
       "<Figure size 1080x432 with 3 Axes>"
      ]
     },
     "metadata": {
      "needs_background": "light"
     },
     "output_type": "display_data"
    }
   ],
   "source": [
    "# Author: Jake VanderPlas\n",
    "# License: BSD\n",
    "#   The figure produced by this code is published in the textbook\n",
    "#   \"Statistics, Data Mining, and Machine Learning in Astronomy\" (2013)\n",
    "#   For more information, see http://astroML.github.com\n",
    "#   To report a bug or issue, use the following forum:\n",
    "#    https://groups.google.com/forum/#!forum/astroml-general\n",
    "\n",
    "#-------------------------------------------------------\n",
    "# Set up the dataset.\n",
    "#  We'll create our dataset by drawing samples from Gaussians.\n",
    "\n",
    "X = y_test_samples[7, :].reshape(-1, 1)\n",
    "N = 10\n",
    "\n",
    "data = X\n",
    "max_components = N\n",
    "gmm_args = dict(random_state=RANDOM_SEED, n_init=5)\n",
    "\n",
    "#------------------------------------------------------------\n",
    "# Learn the best-fit GaussianMixture models\n",
    "#  Here we'll use scikit-learn's GaussianMixture model. The fit() method\n",
    "#  uses an Expectation-Maximization approach to find the best\n",
    "#  mixture of Gaussians for the data\n",
    "\n",
    "models = []\n",
    "\n",
    "for i in range(1, max_components + 1):\n",
    "    models.append(GaussianMixture(i, **gmm_args).fit(data))\n",
    "\n",
    "# compute the AIC and the BIC\n",
    "AIC = [m.aic(data) for m in models]\n",
    "BIC = [m.bic(data) for m in models]\n",
    "\n",
    "M_best = models[np.argmin(AIC)]\n",
    "\n",
    "print('Means: ')\n",
    "print(M_best.means_)\n",
    "\n",
    "print('Covariances: ')\n",
    "print(M_best.covariances_)\n",
    "\n",
    "print('Weights: ')\n",
    "print(M_best.weights_)\n",
    "\n",
    "# lowest_covariance = np.argmin(M_best.covariances_)\n",
    "# model.means_[lowest_covariance], model.covariances_[lowest_covariance]\n",
    "\n",
    "#------------------------------------------------------------\n",
    "# Plot the results\n",
    "#  We'll use three panels:\n",
    "#   1) data + best-fit mixture\n",
    "#   2) AIC and BIC vs number of components\n",
    "#   3) probability that a point came from each component\n",
    "\n",
    "fig = plt.figure(figsize=(15, 6))\n",
    "fig.subplots_adjust(left=0.12, right=0.97,\n",
    "                    bottom=0.21, top=0.9, wspace=0.5)\n",
    "\n",
    "\n",
    "# plot 1: data + best-fit mixture\n",
    "ax = fig.add_subplot(131)\n",
    "\n",
    "x = np.linspace(0, 10, 1000)\n",
    "logprob = M_best.score_samples(x.reshape(-1, 1))\n",
    "responsibilities = M_best.predict_proba(x.reshape(-1, 1))\n",
    "pdf = np.exp(logprob)\n",
    "pdf_individual = responsibilities * pdf[:, np.newaxis]\n",
    "\n",
    "ax.hist(X, 30, density=True, histtype='stepfilled', alpha=0.4)\n",
    "ax.plot(x, pdf, '-k')\n",
    "ax.plot(x, pdf_individual, '--k')\n",
    "ax.text(0.04, 0.96, \"Best-fit Mixture\",\n",
    "        ha='left', va='top', transform=ax.transAxes)\n",
    "ax.set_xlabel('$x$')\n",
    "ax.set_ylabel('$p(x)$')\n",
    "\n",
    "\n",
    "# plot 2: AIC and BIC\n",
    "ax = fig.add_subplot(132)\n",
    "ax.plot(range(1, N+1), AIC, '-k', label='AIC')\n",
    "ax.plot(range(1, N+1), BIC, '--k', label='BIC')\n",
    "ax.set_xlabel('n. components')\n",
    "ax.set_ylabel('information criterion')\n",
    "ax.legend(loc=2)\n",
    "\n",
    "\n",
    "# plot 3: posterior probabilities for each component\n",
    "ax = fig.add_subplot(133)\n",
    "\n",
    "p = responsibilities\n",
    "p = p[:, (1, 0, 2)]  # rearrange order so the plot looks better\n",
    "p = p.cumsum(1).T\n",
    "\n",
    "ax.fill_between(x, 0, p[0], color='gray', alpha=0.3)\n",
    "ax.fill_between(x, p[0], p[1], color='gray', alpha=0.5)\n",
    "ax.fill_between(x, p[1], 1, color='gray', alpha=0.7)\n",
    "ax.set_xlim(0, 10)\n",
    "ax.set_ylim(0, 1)\n",
    "ax.set_xlabel('$x$')\n",
    "ax.set_ylabel(r'$p({\\rm class}|x)$')\n",
    "\n",
    "ax.text(-5, 0.3, 'class 1', rotation='vertical')\n",
    "ax.text(0, 0.5, 'class 2', rotation='vertical')\n",
    "ax.text(3, 0.3, 'class 3', rotation='vertical')\n",
    "\n",
    "plt.show()"
   ]
  }
 ],
 "metadata": {
  "kernelspec": {
   "display_name": "Python 3 (ipykernel)",
   "language": "python",
   "name": "python3"
  },
  "language_info": {
   "codemirror_mode": {
    "name": "ipython",
    "version": 3
   },
   "file_extension": ".py",
   "mimetype": "text/x-python",
   "name": "python",
   "nbconvert_exporter": "python",
   "pygments_lexer": "ipython3",
   "version": "3.9.12"
  }
 },
 "nbformat": 4,
 "nbformat_minor": 5
}
