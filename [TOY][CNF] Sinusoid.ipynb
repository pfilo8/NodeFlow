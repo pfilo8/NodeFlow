{
 "cells": [
  {
   "cell_type": "code",
   "execution_count": 1,
   "id": "941d6713",
   "metadata": {},
   "outputs": [
    {
     "name": "stdout",
     "output_type": "stream",
     "text": [
      "cuda\n"
     ]
    }
   ],
   "source": [
    "import matplotlib.pyplot as plt\n",
    "import numpy as np\n",
    "import pandas as pd\n",
    "import torch\n",
    "from torch import nn\n",
    "from torch import optim\n",
    "from tqdm import tqdm\n",
    "\n",
    "from models.flow import build_model\n",
    "from models.utils import standard_normal_logprob\n",
    "\n",
    "DEVICE = 'cuda' if torch.cuda.is_available() else 'cpu'\n",
    "print(DEVICE)"
   ]
  },
  {
   "cell_type": "code",
   "execution_count": 2,
   "id": "2059c906",
   "metadata": {},
   "outputs": [],
   "source": [
    "def _generate_data(n=100, std=0.1):\n",
    "    eps = std * np.random.randn(n)\n",
    "    x = np.random.rand(n) * 4*np.pi - 2*np.pi\n",
    "    y = np.sin(x) + eps\n",
    "    return x, y\n",
    "\n",
    "\n",
    "def generate_data(n=100, std=0.1):\n",
    "    x1, y1 = _generate_data(n=n, std=std)\n",
    "    x2, y2 = _generate_data(n=n, std=std)\n",
    "    y2 = -y2\n",
    "    return (\n",
    "        torch.Tensor(np.concatenate([y1, y2])).reshape(-1, 1).to(DEVICE),\n",
    "        torch.Tensor(np.concatenate([x1, x2])).to(DEVICE),   \n",
    "    )"
   ]
  },
  {
   "cell_type": "code",
   "execution_count": 3,
   "id": "eb93d84b",
   "metadata": {},
   "outputs": [],
   "source": [
    "y, x = generate_data(n=300, std=0.1)\n",
    "y, x = y.cpu().numpy(), x.cpu().numpy()"
   ]
  },
  {
   "cell_type": "code",
   "execution_count": 4,
   "id": "ba81894b",
   "metadata": {},
   "outputs": [
    {
     "data": {
      "image/png": "[encoded data removed]",
      "text/plain": [
       "<Figure size 432x288 with 1 Axes>"
      ]
     },
     "metadata": {
      "needs_background": "light"
     },
     "output_type": "display_data"
    }
   ],
   "source": [
    "plt.scatter(x, y)\n",
    "plt.show()"
   ]
  },
  {
   "cell_type": "code",
   "execution_count": 5,
   "id": "f4dbb924",
   "metadata": {},
   "outputs": [],
   "source": [
    "flow = build_model(\n",
    "    input_dim=1,\n",
    "    hidden_dims=(40,40,40,),\n",
    "    context_dim=1,\n",
    "    conditional=True,\n",
    "    time_length=1.0,\n",
    "    batch_norm=True,\n",
    "    layer_type=\"concatscale\"\n",
    ").to(DEVICE)\n",
    "\n",
    "optimizer = optim.Adam(flow.parameters())"
   ]
  },
  {
   "cell_type": "code",
   "execution_count": null,
   "id": "4078b17d",
   "metadata": {},
   "outputs": [
    {
     "name": "stderr",
     "output_type": "stream",
     "text": [
      "  0%|          | 0/1000 [00:00<?, ?it/s]/opt/conda/lib/python3.6/site-packages/torchdiffeq/_impl/misc.py:326: UserWarning: torch.nextafter is only available in PyTorch 1.7 or newer.Falling back to numpy.nextafter. Upgrade PyTorch to remove this warning.\n",
      "  warnings.warn(\"torch.nextafter is only available in PyTorch 1.7 or newer.\"\n",
      "Loss 0.15:  38%|███▊      | 381/1000 [04:43<11:11,  1.08s/it] "
     ]
    }
   ],
   "source": [
    "num_iter = 1000\n",
    "\n",
    "with tqdm(range(num_iter)) as pbar:\n",
    "    for i in pbar:\n",
    "        iks, context = generate_data(n=300, std=0.1)\n",
    "        optimizer.zero_grad()\n",
    "\n",
    "        zero = torch.zeros(iks.shape[0], 1).to(DEVICE)\n",
    "        z, delta_logp = flow(x=iks, context=context, logpx=zero)  # run model forward\n",
    "\n",
    "        logpz = standard_normal_logprob(z).view(z.shape[0], -1).sum(1, keepdim=True)  # logp(z)\n",
    "        logpx = logpz - delta_logp\n",
    "\n",
    "        loss = -logpx.mean()\n",
    "        pbar.set_description(f\"Loss {loss:.2f}\")\n",
    "\n",
    "        loss.backward()\n",
    "        optimizer.step()"
   ]
  },
  {
   "cell_type": "code",
   "execution_count": null,
   "id": "440b0a18",
   "metadata": {},
   "outputs": [],
   "source": [
    "n_samples = 50\n",
    "\n",
    "x_new = torch.linspace(-2*np.pi, 2*np.pi, 101).repeat(n_samples).to(DEVICE)\n",
    "z = torch.randn(len(x_new), 1).to(DEVICE)\n",
    "\n",
    "y = flow(x=z, context=x_new, reverse=True)\n",
    "y = y.detach().cpu().numpy()\n",
    "\n",
    "plt.scatter(x_new.detach().cpu().numpy(), y)\n",
    "plt.show()"
   ]
  },
  {
   "cell_type": "code",
   "execution_count": null,
   "id": "0e329a65",
   "metadata": {},
   "outputs": [],
   "source": [
    "n_samples = 100\n",
    "\n",
    "x_new = torch.Tensor([-2.0]).repeat(n_samples).to(DEVICE)\n",
    "z = torch.randn(len(x_new), 1).to(DEVICE)\n",
    "\n",
    "y = flow(x=z, context=x_new, reverse=True)\n",
    "y = y.detach().cpu().numpy()\n",
    "\n",
    "plt.scatter(x_new.detach().cpu().numpy(), y)\n",
    "plt.show()"
   ]
  }
 ],
 "metadata": {
  "kernelspec": {
   "display_name": "Python 3",
   "language": "python",
   "name": "python3"
  },
  "language_info": {
   "codemirror_mode": {
    "name": "ipython",
    "version": 3
   },
   "file_extension": ".py",
   "mimetype": "text/x-python",
   "name": "python",
   "nbconvert_exporter": "python",
   "pygments_lexer": "ipython3",
   "version": "3.6.9"
  }
 },
 "nbformat": 4,
 "nbformat_minor": 5
}
