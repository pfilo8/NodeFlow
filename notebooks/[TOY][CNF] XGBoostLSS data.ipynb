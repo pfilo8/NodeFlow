{
 "cells": [
  {
   "cell_type": "code",
   "execution_count": 1,
   "id": "941d6713",
   "metadata": {},
   "outputs": [
    {
     "name": "stdout",
     "output_type": "stream",
     "text": [
      "cuda\n"
     ]
    }
   ],
   "source": [
    "import matplotlib.pyplot as plt\n",
    "import numpy as np\n",
    "import pandas as pd\n",
    "import torch\n",
    "from torch import nn\n",
    "from torch import optim\n",
    "from tqdm import tqdm\n",
    "\n",
    "from models.flow import build_model\n",
    "from models.utils import standard_normal_logprob\n",
    "\n",
    "DEVICE = 'cuda' if torch.cuda.is_available() else 'cpu'\n",
    "print(DEVICE)"
   ]
  },
  {
   "cell_type": "code",
   "execution_count": 2,
   "id": "2059c906",
   "metadata": {},
   "outputs": [],
   "source": [
    "df = pd.read_csv('data/xgboostlss/train_sim.csv')"
   ]
  },
  {
   "cell_type": "code",
   "execution_count": 3,
   "id": "eb93d84b",
   "metadata": {},
   "outputs": [
    {
     "data": {
      "text/html": [
       "<div>\n",
       "<style scoped>\n",
       "    .dataframe tbody tr th:only-of-type {\n",
       "        vertical-align: middle;\n",
       "    }\n",
       "\n",
       "    .dataframe tbody tr th {\n",
       "        vertical-align: top;\n",
       "    }\n",
       "\n",
       "    .dataframe thead th {\n",
       "        text-align: right;\n",
       "    }\n",
       "</style>\n",
       "<table border=\"1\" class=\"dataframe\">\n",
       "  <thead>\n",
       "    <tr style=\"text-align: right;\">\n",
       "      <th></th>\n",
       "      <th>y</th>\n",
       "      <th>x</th>\n",
       "      <th>X1</th>\n",
       "      <th>X2</th>\n",
       "      <th>X3</th>\n",
       "      <th>X4</th>\n",
       "      <th>X5</th>\n",
       "      <th>X6</th>\n",
       "      <th>X7</th>\n",
       "      <th>X8</th>\n",
       "      <th>X9</th>\n",
       "      <th>X10</th>\n",
       "    </tr>\n",
       "  </thead>\n",
       "  <tbody>\n",
       "    <tr>\n",
       "      <th>0</th>\n",
       "      <td>7.674012</td>\n",
       "      <td>0.916298</td>\n",
       "      <td>0.527137</td>\n",
       "      <td>0.635617</td>\n",
       "      <td>0.493145</td>\n",
       "      <td>0.344755</td>\n",
       "      <td>0.576426</td>\n",
       "      <td>0.790296</td>\n",
       "      <td>0.003594</td>\n",
       "      <td>0.445776</td>\n",
       "      <td>0.101779</td>\n",
       "      <td>0.820447</td>\n",
       "    </tr>\n",
       "    <tr>\n",
       "      <th>1</th>\n",
       "      <td>7.247328</td>\n",
       "      <td>0.335736</td>\n",
       "      <td>0.394122</td>\n",
       "      <td>0.538305</td>\n",
       "      <td>0.991252</td>\n",
       "      <td>0.963605</td>\n",
       "      <td>0.069468</td>\n",
       "      <td>0.201859</td>\n",
       "      <td>0.960596</td>\n",
       "      <td>0.200165</td>\n",
       "      <td>0.265419</td>\n",
       "      <td>0.404680</td>\n",
       "    </tr>\n",
       "    <tr>\n",
       "      <th>2</th>\n",
       "      <td>7.446702</td>\n",
       "      <td>0.364092</td>\n",
       "      <td>0.348935</td>\n",
       "      <td>0.257174</td>\n",
       "      <td>0.386638</td>\n",
       "      <td>0.752369</td>\n",
       "      <td>0.279995</td>\n",
       "      <td>0.712555</td>\n",
       "      <td>0.019349</td>\n",
       "      <td>0.559537</td>\n",
       "      <td>0.424546</td>\n",
       "      <td>0.016045</td>\n",
       "    </tr>\n",
       "    <tr>\n",
       "      <th>3</th>\n",
       "      <td>2.212709</td>\n",
       "      <td>0.354783</td>\n",
       "      <td>0.371568</td>\n",
       "      <td>0.659342</td>\n",
       "      <td>0.873968</td>\n",
       "      <td>0.608841</td>\n",
       "      <td>0.619594</td>\n",
       "      <td>0.409291</td>\n",
       "      <td>0.016852</td>\n",
       "      <td>0.210096</td>\n",
       "      <td>0.767399</td>\n",
       "      <td>0.785347</td>\n",
       "    </tr>\n",
       "    <tr>\n",
       "      <th>4</th>\n",
       "      <td>10.570977</td>\n",
       "      <td>0.457633</td>\n",
       "      <td>0.573644</td>\n",
       "      <td>0.945059</td>\n",
       "      <td>0.413363</td>\n",
       "      <td>0.071302</td>\n",
       "      <td>0.396778</td>\n",
       "      <td>0.088565</td>\n",
       "      <td>0.767333</td>\n",
       "      <td>0.614261</td>\n",
       "      <td>0.185449</td>\n",
       "      <td>0.604649</td>\n",
       "    </tr>\n",
       "    <tr>\n",
       "      <th>...</th>\n",
       "      <td>...</td>\n",
       "      <td>...</td>\n",
       "      <td>...</td>\n",
       "      <td>...</td>\n",
       "      <td>...</td>\n",
       "      <td>...</td>\n",
       "      <td>...</td>\n",
       "      <td>...</td>\n",
       "      <td>...</td>\n",
       "      <td>...</td>\n",
       "      <td>...</td>\n",
       "      <td>...</td>\n",
       "    </tr>\n",
       "    <tr>\n",
       "      <th>6995</th>\n",
       "      <td>3.213847</td>\n",
       "      <td>0.353606</td>\n",
       "      <td>0.735342</td>\n",
       "      <td>0.728736</td>\n",
       "      <td>0.097127</td>\n",
       "      <td>0.544585</td>\n",
       "      <td>0.456196</td>\n",
       "      <td>0.462667</td>\n",
       "      <td>0.160362</td>\n",
       "      <td>0.261871</td>\n",
       "      <td>0.591258</td>\n",
       "      <td>0.629825</td>\n",
       "    </tr>\n",
       "    <tr>\n",
       "      <th>6996</th>\n",
       "      <td>10.621667</td>\n",
       "      <td>0.213697</td>\n",
       "      <td>0.740343</td>\n",
       "      <td>0.070541</td>\n",
       "      <td>0.412572</td>\n",
       "      <td>0.860822</td>\n",
       "      <td>0.455373</td>\n",
       "      <td>0.720614</td>\n",
       "      <td>0.151872</td>\n",
       "      <td>0.725876</td>\n",
       "      <td>0.223983</td>\n",
       "      <td>0.437281</td>\n",
       "    </tr>\n",
       "    <tr>\n",
       "      <th>6997</th>\n",
       "      <td>6.760315</td>\n",
       "      <td>0.782918</td>\n",
       "      <td>0.475747</td>\n",
       "      <td>0.971335</td>\n",
       "      <td>0.354660</td>\n",
       "      <td>0.003654</td>\n",
       "      <td>0.106532</td>\n",
       "      <td>0.107143</td>\n",
       "      <td>0.830433</td>\n",
       "      <td>0.671432</td>\n",
       "      <td>0.368331</td>\n",
       "      <td>0.831553</td>\n",
       "    </tr>\n",
       "    <tr>\n",
       "      <th>6998</th>\n",
       "      <td>18.432021</td>\n",
       "      <td>0.359430</td>\n",
       "      <td>0.185189</td>\n",
       "      <td>0.365285</td>\n",
       "      <td>0.595911</td>\n",
       "      <td>0.907491</td>\n",
       "      <td>0.794568</td>\n",
       "      <td>0.943300</td>\n",
       "      <td>0.565046</td>\n",
       "      <td>0.907944</td>\n",
       "      <td>0.916980</td>\n",
       "      <td>0.529689</td>\n",
       "    </tr>\n",
       "    <tr>\n",
       "      <th>6999</th>\n",
       "      <td>11.118223</td>\n",
       "      <td>0.274816</td>\n",
       "      <td>0.832690</td>\n",
       "      <td>0.690509</td>\n",
       "      <td>0.914627</td>\n",
       "      <td>0.505398</td>\n",
       "      <td>0.064474</td>\n",
       "      <td>0.658203</td>\n",
       "      <td>0.911905</td>\n",
       "      <td>0.453679</td>\n",
       "      <td>0.083818</td>\n",
       "      <td>0.198485</td>\n",
       "    </tr>\n",
       "  </tbody>\n",
       "</table>\n",
       "<p>7000 rows × 12 columns</p>\n",
       "</div>"
      ],
      "text/plain": [
       "              y         x        X1        X2        X3        X4        X5  \\\n",
       "0      7.674012  0.916298  0.527137  0.635617  0.493145  0.344755  0.576426   \n",
       "1      7.247328  0.335736  0.394122  0.538305  0.991252  0.963605  0.069468   \n",
       "2      7.446702  0.364092  0.348935  0.257174  0.386638  0.752369  0.279995   \n",
       "3      2.212709  0.354783  0.371568  0.659342  0.873968  0.608841  0.619594   \n",
       "4     10.570977  0.457633  0.573644  0.945059  0.413363  0.071302  0.396778   \n",
       "...         ...       ...       ...       ...       ...       ...       ...   \n",
       "6995   3.213847  0.353606  0.735342  0.728736  0.097127  0.544585  0.456196   \n",
       "6996  10.621667  0.213697  0.740343  0.070541  0.412572  0.860822  0.455373   \n",
       "6997   6.760315  0.782918  0.475747  0.971335  0.354660  0.003654  0.106532   \n",
       "6998  18.432021  0.359430  0.185189  0.365285  0.595911  0.907491  0.794568   \n",
       "6999  11.118223  0.274816  0.832690  0.690509  0.914627  0.505398  0.064474   \n",
       "\n",
       "            X6        X7        X8        X9       X10  \n",
       "0     0.790296  0.003594  0.445776  0.101779  0.820447  \n",
       "1     0.201859  0.960596  0.200165  0.265419  0.404680  \n",
       "2     0.712555  0.019349  0.559537  0.424546  0.016045  \n",
       "3     0.409291  0.016852  0.210096  0.767399  0.785347  \n",
       "4     0.088565  0.767333  0.614261  0.185449  0.604649  \n",
       "...        ...       ...       ...       ...       ...  \n",
       "6995  0.462667  0.160362  0.261871  0.591258  0.629825  \n",
       "6996  0.720614  0.151872  0.725876  0.223983  0.437281  \n",
       "6997  0.107143  0.830433  0.671432  0.368331  0.831553  \n",
       "6998  0.943300  0.565046  0.907944  0.916980  0.529689  \n",
       "6999  0.658203  0.911905  0.453679  0.083818  0.198485  \n",
       "\n",
       "[7000 rows x 12 columns]"
      ]
     },
     "execution_count": 3,
     "metadata": {},
     "output_type": "execute_result"
    }
   ],
   "source": [
    "df"
   ]
  },
  {
   "cell_type": "code",
   "execution_count": 4,
   "id": "a6578205",
   "metadata": {},
   "outputs": [],
   "source": [
    "x, y = df['x'].values, df[['y']].values"
   ]
  },
  {
   "cell_type": "code",
   "execution_count": 5,
   "id": "ba81894b",
   "metadata": {},
   "outputs": [
    {
     "data": {
      "image/png": "[encoded data removed]",
      "text/plain": [
       "<Figure size 432x288 with 1 Axes>"
      ]
     },
     "metadata": {
      "needs_background": "light"
     },
     "output_type": "display_data"
    }
   ],
   "source": [
    "plt.scatter(x, y)\n",
    "plt.show()"
   ]
  },
  {
   "cell_type": "code",
   "execution_count": 6,
   "id": "c12cff6b",
   "metadata": {},
   "outputs": [],
   "source": [
    "x, y = torch.Tensor(x).to(DEVICE), torch.Tensor(y).to(DEVICE)"
   ]
  },
  {
   "cell_type": "code",
   "execution_count": 7,
   "id": "f4dbb924",
   "metadata": {},
   "outputs": [],
   "source": [
    "flow = build_model(\n",
    "    input_dim=1,\n",
    "    hidden_dims=(2,),\n",
    "    context_dim=1,\n",
    "    num_blocks=1,\n",
    "    conditional=True,\n",
    "    time_length=1.0,\n",
    "    batch_norm=True,\n",
    "    layer_type=\"concatscale\"\n",
    ").to(DEVICE)\n",
    "\n",
    "optimizer = optim.Adam(flow.parameters())"
   ]
  },
  {
   "cell_type": "code",
   "execution_count": 8,
   "id": "4078b17d",
   "metadata": {},
   "outputs": [
    {
     "name": "stderr",
     "output_type": "stream",
     "text": [
      "  0%|          | 0/5000 [00:00<?, ?it/s]/opt/conda/lib/python3.6/site-packages/torchdiffeq/_impl/misc.py:326: UserWarning: torch.nextafter is only available in PyTorch 1.7 or newer.Falling back to numpy.nextafter. Upgrade PyTorch to remove this warning.\n",
      "  warnings.warn(\"torch.nextafter is only available in PyTorch 1.7 or newer.\"\n",
      "Loss 2.24: 100%|██████████| 5000/5000 [20:40<00:00,  4.03it/s]\n"
     ]
    }
   ],
   "source": [
    "num_iter = 5000\n",
    "\n",
    "with tqdm(range(num_iter)) as pbar:\n",
    "    for i in pbar:\n",
    "        ind = torch.randperm(len(x))[:1000]\n",
    "        \n",
    "        iks, context = y[ind], x[ind]\n",
    "        optimizer.zero_grad()\n",
    "\n",
    "        zero = torch.zeros(iks.shape[0], 1).to(DEVICE)\n",
    "        z, delta_logp = flow(x=iks, context=context, logpx=zero)  # run model forward\n",
    "\n",
    "        logpz = standard_normal_logprob(z).view(z.shape[0], -1).sum(1, keepdim=True)  # logp(z)\n",
    "        logpx = logpz - delta_logp\n",
    "\n",
    "        loss = -logpx.mean()\n",
    "        pbar.set_description(f\"Loss {loss:.2f}\")\n",
    "\n",
    "        loss.backward()\n",
    "        optimizer.step()"
   ]
  },
  {
   "cell_type": "code",
   "execution_count": 9,
   "id": "194da8c4",
   "metadata": {},
   "outputs": [],
   "source": [
    "n_samples = 50\n",
    "\n",
    "x_new = torch.linspace(0, 1, 51).repeat(n_samples).to(DEVICE)\n",
    "z = torch.randn(len(x_new), 1).to(DEVICE)\n",
    "\n",
    "y = flow(x=z, context=x_new, reverse=True)\n",
    "y = y.detach().cpu().numpy()"
   ]
  },
  {
   "cell_type": "code",
   "execution_count": 10,
   "id": "ac44f49c",
   "metadata": {},
   "outputs": [
    {
     "data": {
      "image/png": "[encoded data removed]",
      "text/plain": [
       "<Figure size 432x288 with 1 Axes>"
      ]
     },
     "metadata": {
      "needs_background": "light"
     },
     "output_type": "display_data"
    }
   ],
   "source": [
    "plt.scatter(x_new.detach().cpu().numpy(), y)\n",
    "plt.show()"
   ]
  }
 ],
 "metadata": {
  "kernelspec": {
   "display_name": "Python 3",
   "language": "python",
   "name": "python3"
  },
  "language_info": {
   "codemirror_mode": {
    "name": "ipython",
    "version": 3
   },
   "file_extension": ".py",
   "mimetype": "text/x-python",
   "name": "python",
   "nbconvert_exporter": "python",
   "pygments_lexer": "ipython3",
   "version": "3.6.9"
  }
 },
 "nbformat": 4,
 "nbformat_minor": 5
}
