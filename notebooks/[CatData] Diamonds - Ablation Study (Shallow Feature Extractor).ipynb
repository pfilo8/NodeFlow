{
 "cells": [
  {
   "cell_type": "code",
   "execution_count": 1,
   "metadata": {},
   "outputs": [],
   "source": [
    "from typing import Union\n",
    "\n",
    "import catboost\n",
    "import matplotlib.pyplot as plt\n",
    "import numpy as np\n",
    "import pandas as pd\n",
    "import seaborn as sns\n",
    "import scipy.stats as stats\n",
    "import torch.nn as nn\n",
    "\n",
    "from sklearn.model_selection import train_test_split\n",
    "from nflows.distributions import ConditionalDiagonalNormal\n",
    "\n",
    "from src.probabilistic_flow_boosting.tfboost.tree import EmbeddableCatBoostPriorNormal, EmbeddableOneHotEncoder\n",
    "from src.probabilistic_flow_boosting.tfboost.tfboost import TreeFlowBoost\n",
    "from src.probabilistic_flow_boosting.tfboost.flow import ContinuousNormalizingFlow\n",
    "from src.probabilistic_flow_boosting.pipelines.reporting.nodes import calculate_nll\n",
    "\n",
    "from src.probabilistic_flow_boosting.pipelines.modeling.utils import setup_random_seed\n",
    "\n",
    "RANDOM_SEED = 42\n",
    "\n",
    "setup_random_seed(RANDOM_SEED)"
   ]
  },
  {
   "cell_type": "code",
   "execution_count": 2,
   "metadata": {},
   "outputs": [],
   "source": [
    "df = pd.read_csv('data/01_raw/CatData/diamonds/diamonds.csv', index_col=0)"
   ]
  },
  {
   "cell_type": "code",
   "execution_count": 3,
   "metadata": {},
   "outputs": [],
   "source": [
    "x = df.drop(columns = ['price'])\n",
    "y = np.log10(df[['price']])"
   ]
  },
  {
   "cell_type": "code",
   "execution_count": 4,
   "metadata": {},
   "outputs": [],
   "source": [
    "x_train, x_test, y_train, y_test = train_test_split(x, y, test_size = 0.2, random_state=42)\n",
    "x_tr, x_val, y_tr, y_val = train_test_split(x_train, y_train, test_size = 0.2, random_state=42)"
   ]
  },
  {
   "cell_type": "code",
   "execution_count": 5,
   "metadata": {},
   "outputs": [
    {
     "data": {
      "text/plain": [
       "((43152, 9), (10788, 9))"
      ]
     },
     "execution_count": 5,
     "metadata": {},
     "output_type": "execute_result"
    }
   ],
   "source": [
    "x_train.shape, x_test.shape"
   ]
  },
  {
   "cell_type": "code",
   "execution_count": 6,
   "metadata": {},
   "outputs": [],
   "source": [
    "class TreeFlowWithoutShallow(TreeFlowBoost):\n",
    "    \n",
    "    def fit(self, X: np.ndarray, y: np.ndarray, X_val: Union[np.ndarray, None] = None,\n",
    "            y_val: Union[np.ndarray, None] = None, n_epochs: int = 100, batch_size: int = 1000, verbose: bool = False):\n",
    "        self.tree_model.fit(X, y)\n",
    "\n",
    "        context: np.ndarray = self.tree_model.embed(X)\n",
    "        params: np.ndarray = self.tree_model.pred_dist_param(X)\n",
    "        y: np.ndarray = y if len(y.shape) == 2 else y.reshape(-1, 1)\n",
    "\n",
    "        if X_val is not None and y_val is not None:\n",
    "            context_val: np.ndarray = self.tree_model.embed(X_val)\n",
    "            params_val: np.ndarray = self.tree_model.pred_dist_param(X_val)\n",
    "            y_val: np.ndarray = y_val if len(y_val.shape) == 2 else y_val.reshape(-1, 1)\n",
    "        else:\n",
    "            context_val = None\n",
    "            params_val = None\n",
    "            y_val = None\n",
    "\n",
    "        self.flow_model.setup_context_encoder(nn.Identity())\n",
    "\n",
    "        self.flow_model.fit(y, context, params, y_val, context_val, params_val, n_epochs=n_epochs,\n",
    "                            batch_size=batch_size, verbose=verbose)\n",
    "        return self\n"
   ]
  },
  {
   "cell_type": "code",
   "execution_count": 7,
   "metadata": {},
   "outputs": [],
   "source": [
    "num_trees = 200\n",
    "depth = 4\n",
    "\n",
    "tree = EmbeddableCatBoostPriorNormal(\n",
    "    cat_features=[1, 2, 3], \n",
    "    loss_function=\"RMSEWithUncertainty\",\n",
    "    depth=depth,\n",
    "    num_trees=num_trees,\n",
    "    random_state=RANDOM_SEED\n",
    ")\n",
    "\n",
    "flow = ContinuousNormalizingFlow(input_dim=1, hidden_dims=(200, 100, 100, 50), \n",
    "                                 num_blocks=5, context_dim=num_trees*2**depth, conditional=True)\n",
    "\n",
    "treeflow = TreeFlowWithoutShallow(tree, flow, embedding_size=num_trees*2**depth)"
   ]
  },
  {
   "cell_type": "code",
   "execution_count": 8,
   "metadata": {
    "scrolled": true
   },
   "outputs": [
    {
     "name": "stdout",
     "output_type": "stream",
     "text": [
      "0:\tlearn: 0.5579413\ttotal: 53.7ms\tremaining: 10.7s\n",
      "1:\tlearn: 0.5227974\ttotal: 59.7ms\tremaining: 5.91s\n",
      "2:\tlearn: 0.4911946\ttotal: 64.6ms\tremaining: 4.24s\n",
      "3:\tlearn: 0.4624084\ttotal: 70.4ms\tremaining: 3.45s\n",
      "4:\tlearn: 0.4353872\ttotal: 75.8ms\tremaining: 2.96s\n",
      "5:\tlearn: 0.4100112\ttotal: 81.2ms\tremaining: 2.62s\n",
      "6:\tlearn: 0.3852236\ttotal: 86.1ms\tremaining: 2.37s\n",
      "7:\tlearn: 0.3613284\ttotal: 90.7ms\tremaining: 2.18s\n",
      "8:\tlearn: 0.3385223\ttotal: 95.7ms\tremaining: 2.03s\n",
      "9:\tlearn: 0.3171481\ttotal: 101ms\tremaining: 1.92s\n",
      "10:\tlearn: 0.2952672\ttotal: 106ms\tremaining: 1.83s\n",
      "11:\tlearn: 0.2733442\ttotal: 111ms\tremaining: 1.74s\n",
      "12:\tlearn: 0.2523981\ttotal: 116ms\tremaining: 1.67s\n",
      "13:\tlearn: 0.2310772\ttotal: 121ms\tremaining: 1.6s\n",
      "14:\tlearn: 0.2105034\ttotal: 126ms\tremaining: 1.55s\n",
      "15:\tlearn: 0.1904924\ttotal: 131ms\tremaining: 1.5s\n",
      "16:\tlearn: 0.1697434\ttotal: 136ms\tremaining: 1.46s\n",
      "17:\tlearn: 0.1498967\ttotal: 141ms\tremaining: 1.42s\n",
      "18:\tlearn: 0.1294843\ttotal: 145ms\tremaining: 1.39s\n",
      "19:\tlearn: 0.1094417\ttotal: 150ms\tremaining: 1.35s\n",
      "20:\tlearn: 0.0895941\ttotal: 156ms\tremaining: 1.33s\n",
      "21:\tlearn: 0.0694597\ttotal: 160ms\tremaining: 1.29s\n",
      "22:\tlearn: 0.0496045\ttotal: 164ms\tremaining: 1.26s\n",
      "23:\tlearn: 0.0302555\ttotal: 169ms\tremaining: 1.24s\n",
      "24:\tlearn: 0.0105907\ttotal: 174ms\tremaining: 1.21s\n",
      "25:\tlearn: -0.0088483\ttotal: 178ms\tremaining: 1.19s\n",
      "26:\tlearn: -0.0277800\ttotal: 183ms\tremaining: 1.17s\n",
      "27:\tlearn: -0.0467929\ttotal: 187ms\tremaining: 1.15s\n",
      "28:\tlearn: -0.0659033\ttotal: 193ms\tremaining: 1.14s\n",
      "29:\tlearn: -0.0845539\ttotal: 198ms\tremaining: 1.12s\n",
      "30:\tlearn: -0.1031963\ttotal: 202ms\tremaining: 1.1s\n",
      "31:\tlearn: -0.1214608\ttotal: 207ms\tremaining: 1.09s\n",
      "32:\tlearn: -0.1396869\ttotal: 212ms\tremaining: 1.07s\n",
      "33:\tlearn: -0.1568165\ttotal: 217ms\tremaining: 1.06s\n",
      "34:\tlearn: -0.1738906\ttotal: 222ms\tremaining: 1.04s\n",
      "35:\tlearn: -0.1912404\ttotal: 226ms\tremaining: 1.03s\n",
      "36:\tlearn: -0.2087381\ttotal: 231ms\tremaining: 1.02s\n",
      "37:\tlearn: -0.2257299\ttotal: 236ms\tremaining: 1s\n",
      "38:\tlearn: -0.2427482\ttotal: 240ms\tremaining: 992ms\n",
      "39:\tlearn: -0.2590379\ttotal: 245ms\tremaining: 981ms\n",
      "40:\tlearn: -0.2736376\ttotal: 250ms\tremaining: 970ms\n",
      "41:\tlearn: -0.2898365\ttotal: 255ms\tremaining: 959ms\n",
      "42:\tlearn: -0.3055737\ttotal: 259ms\tremaining: 947ms\n",
      "43:\tlearn: -0.3239252\ttotal: 264ms\tremaining: 936ms\n",
      "44:\tlearn: -0.3414108\ttotal: 269ms\tremaining: 926ms\n",
      "45:\tlearn: -0.3607573\ttotal: 273ms\tremaining: 914ms\n",
      "46:\tlearn: -0.3791517\ttotal: 277ms\tremaining: 902ms\n",
      "47:\tlearn: -0.3965210\ttotal: 281ms\tremaining: 891ms\n",
      "48:\tlearn: -0.4135925\ttotal: 286ms\tremaining: 881ms\n",
      "49:\tlearn: -0.4301110\ttotal: 291ms\tremaining: 872ms\n",
      "50:\tlearn: -0.4460352\ttotal: 294ms\tremaining: 860ms\n",
      "51:\tlearn: -0.4638817\ttotal: 298ms\tremaining: 849ms\n",
      "52:\tlearn: -0.4814523\ttotal: 304ms\tremaining: 842ms\n",
      "53:\tlearn: -0.4976310\ttotal: 308ms\tremaining: 833ms\n",
      "54:\tlearn: -0.5130330\ttotal: 312ms\tremaining: 824ms\n",
      "55:\tlearn: -0.5293831\ttotal: 316ms\tremaining: 813ms\n",
      "56:\tlearn: -0.5443484\ttotal: 321ms\tremaining: 805ms\n",
      "57:\tlearn: -0.5597881\ttotal: 325ms\tremaining: 795ms\n",
      "58:\tlearn: -0.5721030\ttotal: 329ms\tremaining: 786ms\n",
      "59:\tlearn: -0.5865897\ttotal: 334ms\tremaining: 779ms\n",
      "60:\tlearn: -0.5996071\ttotal: 338ms\tremaining: 771ms\n",
      "61:\tlearn: -0.6132206\ttotal: 343ms\tremaining: 764ms\n",
      "62:\tlearn: -0.6261218\ttotal: 348ms\tremaining: 756ms\n",
      "63:\tlearn: -0.6384615\ttotal: 352ms\tremaining: 747ms\n",
      "64:\tlearn: -0.6506240\ttotal: 356ms\tremaining: 740ms\n",
      "65:\tlearn: -0.6624763\ttotal: 361ms\tremaining: 733ms\n",
      "66:\tlearn: -0.6744409\ttotal: 365ms\tremaining: 725ms\n",
      "67:\tlearn: -0.6890286\ttotal: 370ms\tremaining: 718ms\n",
      "68:\tlearn: -0.7033209\ttotal: 374ms\tremaining: 710ms\n",
      "69:\tlearn: -0.7173154\ttotal: 378ms\tremaining: 703ms\n",
      "70:\tlearn: -0.7284740\ttotal: 383ms\tremaining: 696ms\n",
      "71:\tlearn: -0.7413573\ttotal: 387ms\tremaining: 688ms\n",
      "72:\tlearn: -0.7510408\ttotal: 391ms\tremaining: 681ms\n",
      "73:\tlearn: -0.7633807\ttotal: 395ms\tremaining: 673ms\n",
      "74:\tlearn: -0.7742388\ttotal: 400ms\tremaining: 666ms\n",
      "75:\tlearn: -0.7859830\ttotal: 404ms\tremaining: 659ms\n",
      "76:\tlearn: -0.7969978\ttotal: 408ms\tremaining: 651ms\n",
      "77:\tlearn: -0.8062952\ttotal: 412ms\tremaining: 644ms\n",
      "78:\tlearn: -0.8173344\ttotal: 416ms\tremaining: 638ms\n",
      "79:\tlearn: -0.8270121\ttotal: 421ms\tremaining: 631ms\n",
      "80:\tlearn: -0.8362860\ttotal: 426ms\tremaining: 626ms\n",
      "81:\tlearn: -0.8454790\ttotal: 431ms\tremaining: 620ms\n",
      "82:\tlearn: -0.8545219\ttotal: 435ms\tremaining: 613ms\n",
      "83:\tlearn: -0.8639706\ttotal: 440ms\tremaining: 608ms\n",
      "84:\tlearn: -0.8721344\ttotal: 445ms\tremaining: 602ms\n",
      "85:\tlearn: -0.8803074\ttotal: 449ms\tremaining: 595ms\n",
      "86:\tlearn: -0.8871415\ttotal: 454ms\tremaining: 589ms\n",
      "87:\tlearn: -0.8947641\ttotal: 459ms\tremaining: 584ms\n",
      "88:\tlearn: -0.9022349\ttotal: 464ms\tremaining: 578ms\n",
      "89:\tlearn: -0.9099313\ttotal: 468ms\tremaining: 571ms\n",
      "90:\tlearn: -0.9154373\ttotal: 472ms\tremaining: 566ms\n",
      "91:\tlearn: -0.9267487\ttotal: 477ms\tremaining: 560ms\n",
      "92:\tlearn: -0.9419797\ttotal: 481ms\tremaining: 554ms\n",
      "93:\tlearn: -0.9562872\ttotal: 485ms\tremaining: 547ms\n",
      "94:\tlearn: -0.9698811\ttotal: 489ms\tremaining: 540ms\n",
      "95:\tlearn: -0.9820404\ttotal: 493ms\tremaining: 534ms\n",
      "96:\tlearn: -0.9932038\ttotal: 497ms\tremaining: 528ms\n",
      "97:\tlearn: -1.0030188\ttotal: 501ms\tremaining: 521ms\n",
      "98:\tlearn: -1.0106721\ttotal: 504ms\tremaining: 515ms\n",
      "99:\tlearn: -1.0186391\ttotal: 508ms\tremaining: 508ms\n",
      "100:\tlearn: -1.0256440\ttotal: 511ms\tremaining: 501ms\n",
      "101:\tlearn: -1.0369226\ttotal: 515ms\tremaining: 495ms\n",
      "102:\tlearn: -1.0439336\ttotal: 519ms\tremaining: 489ms\n",
      "103:\tlearn: -1.0542212\ttotal: 523ms\tremaining: 483ms\n",
      "104:\tlearn: -1.0624854\ttotal: 527ms\tremaining: 477ms\n",
      "105:\tlearn: -1.0711737\ttotal: 531ms\tremaining: 471ms\n",
      "106:\tlearn: -1.0759224\ttotal: 535ms\tremaining: 465ms\n",
      "107:\tlearn: -1.0820500\ttotal: 540ms\tremaining: 460ms\n",
      "108:\tlearn: -1.0890744\ttotal: 544ms\tremaining: 454ms\n",
      "109:\tlearn: -1.0957824\ttotal: 548ms\tremaining: 449ms\n",
      "110:\tlearn: -1.1004041\ttotal: 553ms\tremaining: 443ms\n",
      "111:\tlearn: -1.1045100\ttotal: 558ms\tremaining: 438ms\n",
      "112:\tlearn: -1.1108602\ttotal: 562ms\tremaining: 433ms\n",
      "113:\tlearn: -1.1160105\ttotal: 565ms\tremaining: 426ms\n",
      "114:\tlearn: -1.1200970\ttotal: 570ms\tremaining: 422ms\n",
      "115:\tlearn: -1.1251956\ttotal: 575ms\tremaining: 416ms\n",
      "116:\tlearn: -1.1317522\ttotal: 579ms\tremaining: 411ms\n",
      "117:\tlearn: -1.1368223\ttotal: 583ms\tremaining: 405ms\n",
      "118:\tlearn: -1.1427573\ttotal: 588ms\tremaining: 400ms\n",
      "119:\tlearn: -1.1508735\ttotal: 593ms\tremaining: 395ms\n",
      "120:\tlearn: -1.1562329\ttotal: 598ms\tremaining: 390ms\n",
      "121:\tlearn: -1.1607411\ttotal: 602ms\tremaining: 385ms\n",
      "122:\tlearn: -1.1638179\ttotal: 607ms\tremaining: 380ms\n",
      "123:\tlearn: -1.1706502\ttotal: 612ms\tremaining: 375ms\n",
      "124:\tlearn: -1.1766400\ttotal: 616ms\tremaining: 370ms\n",
      "125:\tlearn: -1.1847721\ttotal: 621ms\tremaining: 364ms\n",
      "126:\tlearn: -1.1918418\ttotal: 624ms\tremaining: 359ms\n",
      "127:\tlearn: -1.1958699\ttotal: 628ms\tremaining: 353ms\n",
      "128:\tlearn: -1.2000106\ttotal: 632ms\tremaining: 348ms\n",
      "129:\tlearn: -1.2050095\ttotal: 636ms\tremaining: 342ms\n",
      "130:\tlearn: -1.2080120\ttotal: 641ms\tremaining: 337ms\n",
      "131:\tlearn: -1.2139600\ttotal: 644ms\tremaining: 332ms\n",
      "132:\tlearn: -1.2166093\ttotal: 647ms\tremaining: 326ms\n",
      "133:\tlearn: -1.2215955\ttotal: 653ms\tremaining: 322ms\n",
      "134:\tlearn: -1.2272226\ttotal: 656ms\tremaining: 316ms\n",
      "135:\tlearn: -1.2359414\ttotal: 659ms\tremaining: 310ms\n",
      "136:\tlearn: -1.2424239\ttotal: 664ms\tremaining: 305ms\n",
      "137:\tlearn: -1.2468386\ttotal: 669ms\tremaining: 300ms\n",
      "138:\tlearn: -1.2502830\ttotal: 672ms\tremaining: 295ms\n",
      "139:\tlearn: -1.2529875\ttotal: 676ms\tremaining: 290ms\n",
      "140:\tlearn: -1.2548052\ttotal: 679ms\tremaining: 284ms\n",
      "141:\tlearn: -1.2590658\ttotal: 683ms\tremaining: 279ms\n",
      "142:\tlearn: -1.2620010\ttotal: 687ms\tremaining: 274ms\n",
      "143:\tlearn: -1.2660230\ttotal: 692ms\tremaining: 269ms\n",
      "144:\tlearn: -1.2712913\ttotal: 696ms\tremaining: 264ms\n",
      "145:\tlearn: -1.2759537\ttotal: 700ms\tremaining: 259ms\n",
      "146:\tlearn: -1.2779282\ttotal: 704ms\tremaining: 254ms\n",
      "147:\tlearn: -1.2828186\ttotal: 708ms\tremaining: 249ms\n",
      "148:\tlearn: -1.2861901\ttotal: 712ms\tremaining: 244ms\n",
      "149:\tlearn: -1.2907609\ttotal: 716ms\tremaining: 239ms\n",
      "150:\tlearn: -1.2943991\ttotal: 720ms\tremaining: 234ms\n",
      "151:\tlearn: -1.2995643\ttotal: 724ms\tremaining: 229ms\n",
      "152:\tlearn: -1.3045660\ttotal: 729ms\tremaining: 224ms\n",
      "153:\tlearn: -1.3066062\ttotal: 733ms\tremaining: 219ms\n",
      "154:\tlearn: -1.3097943\ttotal: 737ms\tremaining: 214ms\n",
      "155:\tlearn: -1.3105592\ttotal: 741ms\tremaining: 209ms\n",
      "156:\tlearn: -1.3139854\ttotal: 745ms\tremaining: 204ms\n",
      "157:\tlearn: -1.3176691\ttotal: 750ms\tremaining: 199ms\n",
      "158:\tlearn: -1.3187960\ttotal: 754ms\tremaining: 195ms\n",
      "159:\tlearn: -1.3230610\ttotal: 759ms\tremaining: 190ms\n",
      "160:\tlearn: -1.3267718\ttotal: 764ms\tremaining: 185ms\n",
      "161:\tlearn: -1.3281320\ttotal: 767ms\tremaining: 180ms\n",
      "162:\tlearn: -1.3322960\ttotal: 771ms\tremaining: 175ms\n",
      "163:\tlearn: -1.3336835\ttotal: 775ms\tremaining: 170ms\n",
      "164:\tlearn: -1.3350074\ttotal: 779ms\tremaining: 165ms\n",
      "165:\tlearn: -1.3375123\ttotal: 784ms\tremaining: 161ms\n",
      "166:\tlearn: -1.3400082\ttotal: 788ms\tremaining: 156ms\n",
      "167:\tlearn: -1.3429067\ttotal: 792ms\tremaining: 151ms\n",
      "168:\tlearn: -1.3445911\ttotal: 797ms\tremaining: 146ms\n",
      "169:\tlearn: -1.3457961\ttotal: 801ms\tremaining: 141ms\n",
      "170:\tlearn: -1.3482221\ttotal: 806ms\tremaining: 137ms\n",
      "171:\tlearn: -1.3492415\ttotal: 810ms\tremaining: 132ms\n",
      "172:\tlearn: -1.3495824\ttotal: 813ms\tremaining: 127ms\n",
      "173:\tlearn: -1.3539335\ttotal: 816ms\tremaining: 122ms\n",
      "174:\tlearn: -1.3549087\ttotal: 821ms\tremaining: 117ms\n",
      "175:\tlearn: -1.3555600\ttotal: 826ms\tremaining: 113ms\n",
      "176:\tlearn: -1.3579786\ttotal: 830ms\tremaining: 108ms\n",
      "177:\tlearn: -1.3604500\ttotal: 834ms\tremaining: 103ms\n",
      "178:\tlearn: -1.3618877\ttotal: 838ms\tremaining: 98.3ms\n",
      "179:\tlearn: -1.3626116\ttotal: 842ms\tremaining: 93.6ms\n",
      "180:\tlearn: -1.3676150\ttotal: 846ms\tremaining: 88.8ms\n",
      "181:\tlearn: -1.3689797\ttotal: 850ms\tremaining: 84.1ms\n"
     ]
    },
    {
     "name": "stdout",
     "output_type": "stream",
     "text": [
      "182:\tlearn: -1.3691934\ttotal: 852ms\tremaining: 79.1ms\n",
      "183:\tlearn: -1.3711917\ttotal: 857ms\tremaining: 74.5ms\n",
      "184:\tlearn: -1.3718332\ttotal: 862ms\tremaining: 69.9ms\n",
      "185:\tlearn: -1.3729500\ttotal: 867ms\tremaining: 65.3ms\n",
      "186:\tlearn: -1.3766775\ttotal: 872ms\tremaining: 60.6ms\n",
      "187:\tlearn: -1.3788115\ttotal: 877ms\tremaining: 56ms\n",
      "188:\tlearn: -1.3807965\ttotal: 882ms\tremaining: 51.3ms\n",
      "189:\tlearn: -1.3831274\ttotal: 886ms\tremaining: 46.7ms\n",
      "190:\tlearn: -1.3840225\ttotal: 891ms\tremaining: 42ms\n",
      "191:\tlearn: -1.3852516\ttotal: 894ms\tremaining: 37.2ms\n",
      "192:\tlearn: -1.3875799\ttotal: 898ms\tremaining: 32.6ms\n",
      "193:\tlearn: -1.3889695\ttotal: 902ms\tremaining: 27.9ms\n",
      "194:\tlearn: -1.3903934\ttotal: 906ms\tremaining: 23.2ms\n",
      "195:\tlearn: -1.3938186\ttotal: 910ms\tremaining: 18.6ms\n",
      "196:\tlearn: -1.3949155\ttotal: 915ms\tremaining: 13.9ms\n",
      "197:\tlearn: -1.3988189\ttotal: 920ms\tremaining: 9.29ms\n",
      "198:\tlearn: -1.3998589\ttotal: 924ms\tremaining: 4.64ms\n",
      "199:\tlearn: -1.4018989\ttotal: 929ms\tremaining: 0us\n",
      "train loss: -1.1898952722549438\n",
      "val loss: -1.5956966876983643\n",
      "train loss: -1.6198946237564087\n",
      "val loss: -1.6595611572265625\n",
      "train loss: -1.7125368118286133\n",
      "val loss: -1.692698359489441\n",
      "train loss: -1.7264236211776733\n",
      "val loss: -1.6926838159561157\n",
      "train loss: -1.7460942268371582\n",
      "val loss: -1.716782569885254\n",
      "train loss: -1.7699508666992188\n",
      "val loss: -1.7366846799850464\n",
      "train loss: -1.8071436882019043\n",
      "val loss: -1.7665191888809204\n",
      "train loss: -1.8358012437820435\n",
      "val loss: -1.7931387424468994\n",
      "train loss: -1.841909408569336\n",
      "val loss: -1.7946646213531494\n",
      "train loss: -1.866698980331421\n",
      "val loss: -1.826580286026001\n",
      "train loss: -1.8630632162094116\n",
      "val loss: -1.8160138130187988\n",
      "train loss: -1.9021333456039429\n",
      "val loss: -1.8468241691589355\n",
      "train loss: -1.8839030265808105\n",
      "val loss: -1.8446760177612305\n",
      "train loss: -1.849607229232788\n",
      "val loss: -1.799538254737854\n",
      "train loss: -1.9353296756744385\n",
      "val loss: -1.882340669631958\n",
      "train loss: -1.9161559343338013\n",
      "val loss: -1.8765382766723633\n",
      "train loss: -1.982092022895813\n",
      "val loss: -1.920399785041809\n",
      "train loss: -1.9730347394943237\n",
      "val loss: -1.8937288522720337\n",
      "train loss: -1.9904632568359375\n",
      "val loss: -1.8982913494110107\n",
      "train loss: -2.0303359031677246\n",
      "val loss: -1.9285175800323486\n",
      "train loss: -2.043274164199829\n",
      "val loss: -1.929036259651184\n",
      "train loss: -2.036154270172119\n",
      "val loss: -1.9474430084228516\n",
      "train loss: -2.046644449234009\n",
      "val loss: -1.961762547492981\n",
      "train loss: -2.0686306953430176\n",
      "val loss: -1.937917709350586\n",
      "train loss: -2.0985031127929688\n",
      "val loss: -1.9682000875473022\n",
      "train loss: -2.050581216812134\n",
      "val loss: -1.9226337671279907\n",
      "train loss: -2.098252296447754\n",
      "val loss: -1.975669503211975\n",
      "train loss: -2.0938127040863037\n",
      "val loss: -1.952393651008606\n",
      "train loss: -2.0635664463043213\n",
      "val loss: -1.9616388082504272\n",
      "train loss: -2.1294758319854736\n",
      "val loss: -1.9850382804870605\n",
      "Loading model from epoch 29.\n",
      "CPU times: user 48min 8s, sys: 33.1 s, total: 48min 41s\n",
      "Wall time: 42min 47s\n"
     ]
    },
    {
     "data": {
      "text/plain": [
       "TreeFlowWithoutShallow(embedding_size=3200,\n",
       "                       flow_model=<src.probabilistic_flow_boosting.tfboost.flow.flow.ContinuousNormalizingFlow object at 0x7f2dcf1dea20>,\n",
       "                       tree_model=<src.probabilistic_flow_boosting.tfboost.tree.ecatboost.EmbeddableCatBoostPriorNormal object at 0x7f2dcf1deeb8>)"
      ]
     },
     "execution_count": 8,
     "metadata": {},
     "output_type": "execute_result"
    }
   ],
   "source": [
    "%time treeflow.fit(x_tr.values, y_tr.values, x_val.values, y_val.values, n_epochs=30, batch_size=1024, verbose=True)"
   ]
  },
  {
   "cell_type": "code",
   "execution_count": 9,
   "metadata": {},
   "outputs": [
    {
     "name": "stdout",
     "output_type": "stream",
     "text": [
      "3200\n"
     ]
    }
   ],
   "source": [
    "print(num_trees*2**depth)"
   ]
  },
  {
   "cell_type": "code",
   "execution_count": 12,
   "metadata": {},
   "outputs": [
    {
     "name": "stdout",
     "output_type": "stream",
     "text": [
      "CPU times: user 32.1 s, sys: 1.3 s, total: 33.4 s\n",
      "Wall time: 25 s\n"
     ]
    },
    {
     "data": {
      "text/plain": [
       "-2.0762994"
      ]
     },
     "execution_count": 12,
     "metadata": {},
     "output_type": "execute_result"
    }
   ],
   "source": [
    "%time calculate_nll(treeflow, x_train, y_train, batch_size = 1024)"
   ]
  },
  {
   "cell_type": "code",
   "execution_count": 13,
   "metadata": {},
   "outputs": [
    {
     "name": "stdout",
     "output_type": "stream",
     "text": [
      "CPU times: user 12.1 s, sys: 525 ms, total: 12.6 s\n",
      "Wall time: 6.37 s\n"
     ]
    },
    {
     "data": {
      "text/plain": [
       "-1.92711"
      ]
     },
     "execution_count": 13,
     "metadata": {},
     "output_type": "execute_result"
    }
   ],
   "source": [
    "%time calculate_nll(treeflow, x_test, y_test, batch_size = 1024)"
   ]
  }
 ],
 "metadata": {
  "kernelspec": {
   "display_name": "ProbabilisticFlowBoosting",
   "language": "python",
   "name": "python3"
  },
  "language_info": {
   "codemirror_mode": {
    "name": "ipython",
    "version": 3
   },
   "file_extension": ".py",
   "mimetype": "text/x-python",
   "name": "python",
   "nbconvert_exporter": "python",
   "pygments_lexer": "ipython3",
   "version": "3.6.9"
  }
 },
 "nbformat": 4,
 "nbformat_minor": 2
}
