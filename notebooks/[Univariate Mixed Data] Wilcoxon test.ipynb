{
 "cells": [
  {
   "cell_type": "code",
   "execution_count": 1,
   "id": "b2f10b57",
   "metadata": {},
   "outputs": [],
   "source": [
    "from scipy.stats import wilcoxon"
   ]
  },
  {
   "cell_type": "code",
   "execution_count": 2,
   "id": "e916456e",
   "metadata": {},
   "outputs": [],
   "source": [
    "catboost = [-0.40, -0.07, -1.80, -1.87, -0.87, -1.43, -0.46, 4.03]\n",
    "treeflow = [-0.47, -0.14, -1.96, -2.01, -0.92, -1.58, -0.73, 3.82]"
   ]
  },
  {
   "cell_type": "code",
   "execution_count": 6,
   "id": "13acbfb0",
   "metadata": {},
   "outputs": [
    {
     "data": {
      "text/plain": [
       "WilcoxonResult(statistic=0.0, pvalue=0.0078125)"
      ]
     },
     "execution_count": 6,
     "metadata": {},
     "output_type": "execute_result"
    }
   ],
   "source": [
    "wilcoxon(catboost, treeflow)"
   ]
  }
 ],
 "metadata": {
  "kernelspec": {
   "display_name": "Python 3",
   "language": "python",
   "name": "python3"
  },
  "language_info": {
   "codemirror_mode": {
    "name": "ipython",
    "version": 3
   },
   "file_extension": ".py",
   "mimetype": "text/x-python",
   "name": "python",
   "nbconvert_exporter": "python",
   "pygments_lexer": "ipython3",
   "version": "3.6.9"
  }
 },
 "nbformat": 4,
 "nbformat_minor": 5
}
