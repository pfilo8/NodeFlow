{
 "cells": [
  {
   "cell_type": "code",
   "execution_count": 1,
   "metadata": {},
   "outputs": [],
   "source": [
    "from typing import Union\n",
    "\n",
    "import catboost\n",
    "import matplotlib.pyplot as plt\n",
    "import numpy as np\n",
    "import pandas as pd\n",
    "import seaborn as sns\n",
    "import scipy.stats as stats\n",
    "import torch.nn as nn\n",
    "\n",
    "from sklearn.model_selection import train_test_split\n",
    "from nflows.distributions import ConditionalDiagonalNormal\n",
    "\n",
    "from src.probabilistic_flow_boosting.tfboost.tree import EmbeddableCatBoostPriorNormal\n",
    "from src.probabilistic_flow_boosting.tfboost.tfboost import TreeFlowBoost\n",
    "from src.probabilistic_flow_boosting.tfboost.flow import ContinuousNormalizingFlow\n",
    "from src.probabilistic_flow_boosting.pipelines.reporting.nodes import calculate_nll\n",
    "\n",
    "from src.probabilistic_flow_boosting.pipelines.modeling.utils import setup_random_seed\n",
    "\n",
    "RANDOM_SEED = 1\n",
    "\n",
    "setup_random_seed(RANDOM_SEED)"
   ]
  },
  {
   "cell_type": "code",
   "execution_count": 2,
   "metadata": {},
   "outputs": [],
   "source": [
    "df = pd.read_csv('data/01_raw/CatData/wine_reviews/winemag-data_first150k.csv', index_col=0)\n",
    "df['country'] = df['country'].fillna('')\n",
    "df['province'] = df['province'].fillna('')\n",
    "df = df.dropna(subset = ['price'])"
   ]
  },
  {
   "cell_type": "code",
   "execution_count": 3,
   "metadata": {},
   "outputs": [],
   "source": [
    "x = df.drop(columns = ['description', 'price', 'designation', 'region_1', 'region_2', 'winery'])\n",
    "y = df[['price']]"
   ]
  },
  {
   "cell_type": "code",
   "execution_count": 4,
   "metadata": {},
   "outputs": [],
   "source": [
    "x_train, x_test, y_train, y_test = train_test_split(x, y, test_size = 0.2, random_state=42)\n",
    "x_tr, x_val, y_tr, y_val = train_test_split(x_train, y_train, test_size = 0.2, random_state=42)"
   ]
  },
  {
   "cell_type": "code",
   "execution_count": 5,
   "metadata": {},
   "outputs": [
    {
     "data": {
      "text/plain": [
       "((109788, 4), (27447, 4))"
      ]
     },
     "execution_count": 5,
     "metadata": {},
     "output_type": "execute_result"
    }
   ],
   "source": [
    "x_train.shape, x_test.shape"
   ]
  },
  {
   "cell_type": "code",
   "execution_count": 6,
   "metadata": {},
   "outputs": [],
   "source": [
    "class TreeFlowWithoutShallow(TreeFlowBoost):\n",
    "    \n",
    "    def fit(self, X: np.ndarray, y: np.ndarray, X_val: Union[np.ndarray, None] = None,\n",
    "            y_val: Union[np.ndarray, None] = None, n_epochs: int = 100, batch_size: int = 1000, verbose: bool = False):\n",
    "        self.tree_model.fit(X, y)\n",
    "\n",
    "        context: np.ndarray = self.tree_model.embed(X)\n",
    "        params: np.ndarray = self.tree_model.pred_dist_param(X)\n",
    "        y: np.ndarray = y if len(y.shape) == 2 else y.reshape(-1, 1)\n",
    "\n",
    "        if X_val is not None and y_val is not None:\n",
    "            context_val: np.ndarray = self.tree_model.embed(X_val)\n",
    "            params_val: np.ndarray = self.tree_model.pred_dist_param(X_val)\n",
    "            y_val: np.ndarray = y_val if len(y_val.shape) == 2 else y_val.reshape(-1, 1)\n",
    "        else:\n",
    "            context_val = None\n",
    "            params_val = None\n",
    "            y_val = None\n",
    "\n",
    "        self.flow_model.setup_context_encoder(nn.Identity())\n",
    "\n",
    "        self.flow_model.fit(y, context, params, y_val, context_val, params_val, n_epochs=n_epochs,\n",
    "                            batch_size=batch_size, verbose=verbose)\n",
    "        return self\n"
   ]
  },
  {
   "cell_type": "code",
   "execution_count": 7,
   "metadata": {},
   "outputs": [],
   "source": [
    "depth = 3\n",
    "num_trees = 100\n",
    "context_dim = num_trees*2**depth\n",
    "\n",
    "tree = EmbeddableCatBoostPriorNormal(\n",
    "    cat_features=[0, 2, 3], \n",
    "    loss_function=\"RMSEWithUncertainty\",\n",
    "    depth=depth,\n",
    "    num_trees=num_trees,\n",
    "    random_state=RANDOM_SEED\n",
    ")\n",
    "flow = ContinuousNormalizingFlow(input_dim=1, hidden_dims=(200, 200, 100, 50), \n",
    "                                 num_blocks=5, context_dim=context_dim, conditional=True)\n",
    "\n",
    "treeflow = TreeFlowWithoutShallow(tree, flow, embedding_size=context_dim)"
   ]
  },
  {
   "cell_type": "code",
   "execution_count": 8,
   "metadata": {},
   "outputs": [
    {
     "name": "stdout",
     "output_type": "stream",
     "text": [
      "800\n"
     ]
    }
   ],
   "source": [
    "print(context_dim)"
   ]
  },
  {
   "cell_type": "code",
   "execution_count": 9,
   "metadata": {},
   "outputs": [
    {
     "name": "stdout",
     "output_type": "stream",
     "text": [
      "0:\tlearn: 4.8688980\ttotal: 54.8ms\tremaining: 5.42s\n",
      "1:\tlearn: 4.8202157\ttotal: 61.3ms\tremaining: 3s\n",
      "2:\tlearn: 4.7966345\ttotal: 66.7ms\tremaining: 2.16s\n",
      "3:\tlearn: 4.7723665\ttotal: 72.2ms\tremaining: 1.73s\n",
      "4:\tlearn: 4.7528980\ttotal: 79.2ms\tremaining: 1.5s\n",
      "5:\tlearn: 4.7374487\ttotal: 85.4ms\tremaining: 1.34s\n",
      "6:\tlearn: 4.7239708\ttotal: 91.1ms\tremaining: 1.21s\n",
      "7:\tlearn: 4.7077963\ttotal: 97ms\tremaining: 1.11s\n",
      "8:\tlearn: 4.6959009\ttotal: 103ms\tremaining: 1.04s\n",
      "9:\tlearn: 4.6824217\ttotal: 109ms\tremaining: 978ms\n",
      "10:\tlearn: 4.6691157\ttotal: 115ms\tremaining: 927ms\n",
      "11:\tlearn: 4.6575242\ttotal: 120ms\tremaining: 882ms\n",
      "12:\tlearn: 4.6476490\ttotal: 128ms\tremaining: 855ms\n",
      "13:\tlearn: 4.6366159\ttotal: 135ms\tremaining: 828ms\n",
      "14:\tlearn: 4.6277618\ttotal: 140ms\tremaining: 796ms\n",
      "15:\tlearn: 4.6170499\ttotal: 147ms\tremaining: 770ms\n",
      "16:\tlearn: 4.6090884\ttotal: 153ms\tremaining: 745ms\n",
      "17:\tlearn: 4.5992576\ttotal: 158ms\tremaining: 722ms\n",
      "18:\tlearn: 4.5899134\ttotal: 164ms\tremaining: 701ms\n",
      "19:\tlearn: 4.5834340\ttotal: 172ms\tremaining: 689ms\n",
      "20:\tlearn: 4.5767993\ttotal: 179ms\tremaining: 672ms\n",
      "21:\tlearn: 4.5686897\ttotal: 184ms\tremaining: 654ms\n",
      "22:\tlearn: 4.5627499\ttotal: 190ms\tremaining: 637ms\n",
      "23:\tlearn: 4.5552955\ttotal: 196ms\tremaining: 621ms\n",
      "24:\tlearn: 4.5482435\ttotal: 206ms\tremaining: 617ms\n",
      "25:\tlearn: 4.5408599\ttotal: 211ms\tremaining: 602ms\n",
      "26:\tlearn: 4.5340171\ttotal: 217ms\tremaining: 587ms\n",
      "27:\tlearn: 4.5293305\ttotal: 223ms\tremaining: 574ms\n",
      "28:\tlearn: 4.5234462\ttotal: 229ms\tremaining: 561ms\n",
      "29:\tlearn: 4.5195110\ttotal: 235ms\tremaining: 547ms\n",
      "30:\tlearn: 4.5135507\ttotal: 240ms\tremaining: 535ms\n",
      "31:\tlearn: 4.5101005\ttotal: 246ms\tremaining: 523ms\n",
      "32:\tlearn: 4.5046938\ttotal: 252ms\tremaining: 511ms\n",
      "33:\tlearn: 4.4994233\ttotal: 258ms\tremaining: 500ms\n",
      "34:\tlearn: 4.4943954\ttotal: 263ms\tremaining: 489ms\n",
      "35:\tlearn: 4.4915312\ttotal: 269ms\tremaining: 479ms\n",
      "36:\tlearn: 4.4873549\ttotal: 275ms\tremaining: 468ms\n",
      "37:\tlearn: 4.4829498\ttotal: 282ms\tremaining: 460ms\n",
      "38:\tlearn: 4.4787950\ttotal: 291ms\tremaining: 455ms\n",
      "39:\tlearn: 4.4744736\ttotal: 297ms\tremaining: 446ms\n",
      "40:\tlearn: 4.4723580\ttotal: 305ms\tremaining: 439ms\n",
      "41:\tlearn: 4.4691210\ttotal: 312ms\tremaining: 430ms\n",
      "42:\tlearn: 4.4652920\ttotal: 317ms\tremaining: 421ms\n",
      "43:\tlearn: 4.4616554\ttotal: 323ms\tremaining: 412ms\n",
      "44:\tlearn: 4.4596274\ttotal: 329ms\tremaining: 402ms\n",
      "45:\tlearn: 4.4563472\ttotal: 335ms\tremaining: 393ms\n",
      "46:\tlearn: 4.4538319\ttotal: 342ms\tremaining: 386ms\n",
      "47:\tlearn: 4.4510755\ttotal: 348ms\tremaining: 377ms\n",
      "48:\tlearn: 4.4480591\ttotal: 353ms\tremaining: 368ms\n",
      "49:\tlearn: 4.4451858\ttotal: 359ms\tremaining: 359ms\n",
      "50:\tlearn: 4.4440347\ttotal: 365ms\tremaining: 351ms\n",
      "51:\tlearn: 4.4426216\ttotal: 371ms\tremaining: 342ms\n",
      "52:\tlearn: 4.4399571\ttotal: 378ms\tremaining: 335ms\n",
      "53:\tlearn: 4.4355724\ttotal: 385ms\tremaining: 328ms\n",
      "54:\tlearn: 4.4306876\ttotal: 391ms\tremaining: 320ms\n",
      "55:\tlearn: 4.4259162\ttotal: 397ms\tremaining: 312ms\n",
      "56:\tlearn: 4.4223536\ttotal: 402ms\tremaining: 304ms\n",
      "57:\tlearn: 4.4189504\ttotal: 408ms\tremaining: 296ms\n",
      "58:\tlearn: 4.4159563\ttotal: 414ms\tremaining: 288ms\n",
      "59:\tlearn: 4.4129177\ttotal: 420ms\tremaining: 280ms\n",
      "60:\tlearn: 4.4100728\ttotal: 426ms\tremaining: 272ms\n",
      "61:\tlearn: 4.4062545\ttotal: 431ms\tremaining: 264ms\n",
      "62:\tlearn: 4.4034179\ttotal: 438ms\tremaining: 257ms\n",
      "63:\tlearn: 4.3998410\ttotal: 444ms\tremaining: 250ms\n",
      "64:\tlearn: 4.3957092\ttotal: 449ms\tremaining: 242ms\n",
      "65:\tlearn: 4.3920432\ttotal: 457ms\tremaining: 235ms\n",
      "66:\tlearn: 4.3895320\ttotal: 463ms\tremaining: 228ms\n",
      "67:\tlearn: 4.3861112\ttotal: 468ms\tremaining: 220ms\n",
      "68:\tlearn: 4.3841054\ttotal: 474ms\tremaining: 213ms\n",
      "69:\tlearn: 4.3812509\ttotal: 480ms\tremaining: 206ms\n",
      "70:\tlearn: 4.3778467\ttotal: 486ms\tremaining: 199ms\n",
      "71:\tlearn: 4.3757039\ttotal: 492ms\tremaining: 191ms\n",
      "72:\tlearn: 4.3716961\ttotal: 499ms\tremaining: 184ms\n",
      "73:\tlearn: 4.3680999\ttotal: 505ms\tremaining: 177ms\n",
      "74:\tlearn: 4.3646749\ttotal: 510ms\tremaining: 170ms\n",
      "75:\tlearn: 4.3618760\ttotal: 516ms\tremaining: 163ms\n",
      "76:\tlearn: 4.3594651\ttotal: 523ms\tremaining: 156ms\n",
      "77:\tlearn: 4.3576443\ttotal: 530ms\tremaining: 150ms\n",
      "78:\tlearn: 4.3555001\ttotal: 537ms\tremaining: 143ms\n",
      "79:\tlearn: 4.3534476\ttotal: 544ms\tremaining: 136ms\n",
      "80:\tlearn: 4.3516319\ttotal: 552ms\tremaining: 130ms\n",
      "81:\tlearn: 4.3498865\ttotal: 559ms\tremaining: 123ms\n",
      "82:\tlearn: 4.3489866\ttotal: 565ms\tremaining: 116ms\n",
      "83:\tlearn: 4.3477829\ttotal: 571ms\tremaining: 109ms\n",
      "84:\tlearn: 4.3463359\ttotal: 577ms\tremaining: 102ms\n",
      "85:\tlearn: 4.3449851\ttotal: 583ms\tremaining: 94.8ms\n",
      "86:\tlearn: 4.3415085\ttotal: 589ms\tremaining: 87.9ms\n",
      "87:\tlearn: 4.3402078\ttotal: 594ms\tremaining: 81ms\n",
      "88:\tlearn: 4.3381939\ttotal: 600ms\tremaining: 74.2ms\n",
      "89:\tlearn: 4.3364077\ttotal: 607ms\tremaining: 67.4ms\n",
      "90:\tlearn: 4.3350224\ttotal: 613ms\tremaining: 60.6ms\n",
      "91:\tlearn: 4.3325352\ttotal: 619ms\tremaining: 53.8ms\n",
      "92:\tlearn: 4.3312365\ttotal: 625ms\tremaining: 47ms\n",
      "93:\tlearn: 4.3297787\ttotal: 631ms\tremaining: 40.3ms\n",
      "94:\tlearn: 4.3273550\ttotal: 637ms\tremaining: 33.5ms\n",
      "95:\tlearn: 4.3243064\ttotal: 642ms\tremaining: 26.8ms\n",
      "96:\tlearn: 4.3220724\ttotal: 648ms\tremaining: 20ms\n",
      "97:\tlearn: 4.3204495\ttotal: 654ms\tremaining: 13.3ms\n",
      "98:\tlearn: 4.3183910\ttotal: 660ms\tremaining: 6.67ms\n",
      "99:\tlearn: 4.3163131\ttotal: 666ms\tremaining: 0us\n",
      "train loss: 5.019537925720215\n",
      "val loss: 4.904421329498291\n",
      "train loss: 4.067980766296387\n",
      "val loss: 3.996382713317871\n",
      "train loss: 3.9335391521453857\n",
      "val loss: 3.904822826385498\n",
      "train loss: 3.9291510581970215\n",
      "val loss: 3.916814088821411\n",
      "train loss: 3.8613390922546387\n",
      "val loss: 3.8600411415100098\n",
      "train loss: 3.8654186725616455\n",
      "val loss: 3.8493452072143555\n",
      "train loss: 3.8816535472869873\n",
      "val loss: 3.8546981811523438\n",
      "train loss: 3.8449394702911377\n",
      "val loss: 3.8315670490264893\n",
      "train loss: 3.8611021041870117\n",
      "val loss: 3.799222230911255\n",
      "train loss: 3.8408420085906982\n",
      "val loss: 3.7967166900634766\n",
      "Loading model from epoch 9.\n",
      "CPU times: user 22min 51s, sys: 10.5 s, total: 23min 1s\n",
      "Wall time: 20min 45s\n"
     ]
    },
    {
     "data": {
      "text/plain": [
       "TreeFlowWithoutShallow(embedding_size=800,\n",
       "                       flow_model=<src.probabilistic_flow_boosting.tfboost.flow.flow.ContinuousNormalizingFlow object at 0x7f10e9d1d550>,\n",
       "                       tree_model=<src.probabilistic_flow_boosting.tfboost.tree.ecatboost.EmbeddableCatBoostPriorNormal object at 0x7f10e5a85eb8>)"
      ]
     },
     "execution_count": 9,
     "metadata": {},
     "output_type": "execute_result"
    }
   ],
   "source": [
    "%time treeflow.fit(x_tr.values, y_tr.values, x_val.values, y_val.values, n_epochs=10, batch_size=2048, verbose=True)"
   ]
  },
  {
   "cell_type": "code",
   "execution_count": 10,
   "metadata": {},
   "outputs": [
    {
     "name": "stdout",
     "output_type": "stream",
     "text": [
      "CPU times: user 54.9 s, sys: 1.33 s, total: 56.2 s\n",
      "Wall time: 47.3 s\n"
     ]
    },
    {
     "data": {
      "text/plain": [
       "3.8344364"
      ]
     },
     "execution_count": 10,
     "metadata": {},
     "output_type": "execute_result"
    }
   ],
   "source": [
    "%time calculate_nll(treeflow, x_train, y_train, batch_size = 1024)"
   ]
  },
  {
   "cell_type": "code",
   "execution_count": 11,
   "metadata": {},
   "outputs": [
    {
     "name": "stdout",
     "output_type": "stream",
     "text": [
      "CPU times: user 18.3 s, sys: 569 ms, total: 18.9 s\n",
      "Wall time: 12.2 s\n"
     ]
    },
    {
     "data": {
      "text/plain": [
       "3.8115282"
      ]
     },
     "execution_count": 11,
     "metadata": {},
     "output_type": "execute_result"
    }
   ],
   "source": [
    "%time calculate_nll(treeflow, x_test, y_test, batch_size = 1024)"
   ]
  }
 ],
 "metadata": {
  "kernelspec": {
   "display_name": "Python 3",
   "language": "python",
   "name": "python3"
  },
  "language_info": {
   "codemirror_mode": {
    "name": "ipython",
    "version": 3
   },
   "file_extension": ".py",
   "mimetype": "text/x-python",
   "name": "python",
   "nbconvert_exporter": "python",
   "pygments_lexer": "ipython3",
   "version": "3.6.9"
  }
 },
 "nbformat": 4,
 "nbformat_minor": 2
}
