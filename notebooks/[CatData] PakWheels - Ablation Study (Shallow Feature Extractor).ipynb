{
 "cells": [
  {
   "cell_type": "code",
   "execution_count": 1,
   "metadata": {},
   "outputs": [],
   "source": [
    "from typing import Union\n",
    "\n",
    "import catboost\n",
    "import matplotlib.pyplot as plt\n",
    "import numpy as np\n",
    "import pandas as pd\n",
    "import seaborn as sns\n",
    "import scipy.stats as stats\n",
    "import torch.nn as nn\n",
    "\n",
    "from sklearn.model_selection import train_test_split\n",
    "from nflows.distributions import ConditionalDiagonalNormal\n",
    "\n",
    "from src.probabilistic_flow_boosting.tfboost.tree import EmbeddableCatBoostPriorNormal\n",
    "from src.probabilistic_flow_boosting.tfboost.tfboost import TreeFlowBoost\n",
    "from src.probabilistic_flow_boosting.tfboost.flow import ContinuousNormalizingFlow\n",
    "from src.probabilistic_flow_boosting.pipelines.reporting.nodes import calculate_nll\n",
    "\n",
    "from src.probabilistic_flow_boosting.pipelines.modeling.utils import setup_random_seed\n",
    "\n",
    "RANDOM_SEED = 1\n",
    "\n",
    "setup_random_seed(RANDOM_SEED)"
   ]
  },
  {
   "cell_type": "code",
   "execution_count": 2,
   "metadata": {},
   "outputs": [],
   "source": [
    "df = pd.read_csv('data/01_raw/CatData/pak-wheels/PakWheelsDataSet.csv', index_col=0)"
   ]
  },
  {
   "cell_type": "code",
   "execution_count": 3,
   "metadata": {},
   "outputs": [],
   "source": [
    "x = df.drop(columns = ['Name', 'Price'])\n",
    "y = np.log10(df[['Price']])"
   ]
  },
  {
   "cell_type": "code",
   "execution_count": 4,
   "metadata": {},
   "outputs": [],
   "source": [
    "x_train, x_test, y_train, y_test = train_test_split(x, y, test_size = 0.2, random_state=42)\n",
    "x_tr, x_val, y_tr, y_val = train_test_split(x_train, y_train, test_size = 0.2, random_state=42)"
   ]
  },
  {
   "cell_type": "code",
   "execution_count": 5,
   "metadata": {},
   "outputs": [
    {
     "data": {
      "text/plain": [
       "((61352, 7), (15338, 7))"
      ]
     },
     "execution_count": 5,
     "metadata": {},
     "output_type": "execute_result"
    }
   ],
   "source": [
    "x_train.shape, x_test.shape"
   ]
  },
  {
   "cell_type": "code",
   "execution_count": 6,
   "metadata": {},
   "outputs": [],
   "source": [
    "class TreeFlowWithoutShallow(TreeFlowBoost):\n",
    "    \n",
    "    def fit(self, X: np.ndarray, y: np.ndarray, X_val: Union[np.ndarray, None] = None,\n",
    "            y_val: Union[np.ndarray, None] = None, n_epochs: int = 100, batch_size: int = 1000, verbose: bool = False):\n",
    "        self.tree_model.fit(X, y)\n",
    "\n",
    "        context: np.ndarray = self.tree_model.embed(X)\n",
    "        params: np.ndarray = self.tree_model.pred_dist_param(X)\n",
    "        y: np.ndarray = y if len(y.shape) == 2 else y.reshape(-1, 1)\n",
    "\n",
    "        if X_val is not None and y_val is not None:\n",
    "            context_val: np.ndarray = self.tree_model.embed(X_val)\n",
    "            params_val: np.ndarray = self.tree_model.pred_dist_param(X_val)\n",
    "            y_val: np.ndarray = y_val if len(y_val.shape) == 2 else y_val.reshape(-1, 1)\n",
    "        else:\n",
    "            context_val = None\n",
    "            params_val = None\n",
    "            y_val = None\n",
    "\n",
    "        self.flow_model.setup_context_encoder(nn.Identity())\n",
    "\n",
    "        self.flow_model.fit(y, context, params, y_val, context_val, params_val, n_epochs=n_epochs,\n",
    "                            batch_size=batch_size, verbose=verbose)\n",
    "        return self\n"
   ]
  },
  {
   "cell_type": "code",
   "execution_count": 7,
   "metadata": {},
   "outputs": [],
   "source": [
    "depth = 5\n",
    "num_trees = 100\n",
    "context_dim = num_trees*2**depth\n",
    "\n",
    "tree = EmbeddableCatBoostPriorNormal(\n",
    "    cat_features=[0, 1, 2, 5], \n",
    "    loss_function=\"RMSEWithUncertainty\",\n",
    "    depth=depth,\n",
    "    num_trees=num_trees,\n",
    "    random_state=RANDOM_SEED\n",
    ")\n",
    "flow = ContinuousNormalizingFlow(input_dim=1, hidden_dims=(200, 200, 100, 50), \n",
    "                                 num_blocks=5, context_dim=context_dim, conditional=True)\n",
    "\n",
    "treeflow = TreeFlowWithoutShallow(tree, flow, embedding_size=context_dim)"
   ]
  },
  {
   "cell_type": "code",
   "execution_count": 8,
   "metadata": {},
   "outputs": [
    {
     "name": "stdout",
     "output_type": "stream",
     "text": [
      "3200\n"
     ]
    }
   ],
   "source": [
    "print(context_dim)"
   ]
  },
  {
   "cell_type": "code",
   "execution_count": 9,
   "metadata": {
    "scrolled": true
   },
   "outputs": [
    {
     "name": "stdout",
     "output_type": "stream",
     "text": [
      "0:\tlearn: 0.2671206\ttotal: 52.5ms\tremaining: 5.2s\n",
      "1:\tlearn: 0.2335249\ttotal: 58.3ms\tremaining: 2.86s\n",
      "2:\tlearn: 0.1999514\ttotal: 63ms\tremaining: 2.04s\n",
      "3:\tlearn: 0.1708209\ttotal: 68.4ms\tremaining: 1.64s\n",
      "4:\tlearn: 0.1432203\ttotal: 72.9ms\tremaining: 1.39s\n",
      "5:\tlearn: 0.1176186\ttotal: 77.6ms\tremaining: 1.22s\n",
      "6:\tlearn: 0.0947260\ttotal: 82.7ms\tremaining: 1.1s\n",
      "7:\tlearn: 0.0703019\ttotal: 87.8ms\tremaining: 1.01s\n",
      "8:\tlearn: 0.0476655\ttotal: 92.3ms\tremaining: 933ms\n",
      "9:\tlearn: 0.0261943\ttotal: 96.9ms\tremaining: 872ms\n",
      "10:\tlearn: 0.0044785\ttotal: 101ms\tremaining: 821ms\n",
      "11:\tlearn: -0.0152340\ttotal: 106ms\tremaining: 778ms\n",
      "12:\tlearn: -0.0347889\ttotal: 111ms\tremaining: 742ms\n",
      "13:\tlearn: -0.0547275\ttotal: 116ms\tremaining: 710ms\n",
      "14:\tlearn: -0.0736284\ttotal: 120ms\tremaining: 682ms\n",
      "15:\tlearn: -0.0938057\ttotal: 125ms\tremaining: 658ms\n",
      "16:\tlearn: -0.1121780\ttotal: 130ms\tremaining: 634ms\n",
      "17:\tlearn: -0.1316324\ttotal: 135ms\tremaining: 614ms\n",
      "18:\tlearn: -0.1489333\ttotal: 139ms\tremaining: 595ms\n",
      "19:\tlearn: -0.1667219\ttotal: 144ms\tremaining: 577ms\n",
      "20:\tlearn: -0.1844348\ttotal: 149ms\tremaining: 561ms\n",
      "21:\tlearn: -0.2018022\ttotal: 154ms\tremaining: 546ms\n",
      "22:\tlearn: -0.2180520\ttotal: 159ms\tremaining: 532ms\n",
      "23:\tlearn: -0.2360591\ttotal: 164ms\tremaining: 518ms\n",
      "24:\tlearn: -0.2531406\ttotal: 168ms\tremaining: 505ms\n",
      "25:\tlearn: -0.2709118\ttotal: 173ms\tremaining: 493ms\n",
      "26:\tlearn: -0.2885772\ttotal: 178ms\tremaining: 482ms\n",
      "27:\tlearn: -0.3047045\ttotal: 183ms\tremaining: 470ms\n",
      "28:\tlearn: -0.3211429\ttotal: 188ms\tremaining: 460ms\n",
      "29:\tlearn: -0.3383562\ttotal: 192ms\tremaining: 449ms\n",
      "30:\tlearn: -0.3549575\ttotal: 197ms\tremaining: 439ms\n",
      "31:\tlearn: -0.3691067\ttotal: 202ms\tremaining: 429ms\n",
      "32:\tlearn: -0.3850600\ttotal: 207ms\tremaining: 420ms\n",
      "33:\tlearn: -0.3999448\ttotal: 212ms\tremaining: 412ms\n",
      "34:\tlearn: -0.4144044\ttotal: 217ms\tremaining: 403ms\n",
      "35:\tlearn: -0.4293351\ttotal: 222ms\tremaining: 394ms\n",
      "36:\tlearn: -0.4441437\ttotal: 227ms\tremaining: 386ms\n",
      "37:\tlearn: -0.4583375\ttotal: 231ms\tremaining: 377ms\n",
      "38:\tlearn: -0.4730042\ttotal: 236ms\tremaining: 369ms\n",
      "39:\tlearn: -0.4860871\ttotal: 241ms\tremaining: 361ms\n",
      "40:\tlearn: -0.4990131\ttotal: 246ms\tremaining: 353ms\n",
      "41:\tlearn: -0.5139385\ttotal: 250ms\tremaining: 346ms\n",
      "42:\tlearn: -0.5253620\ttotal: 255ms\tremaining: 339ms\n",
      "43:\tlearn: -0.5398607\ttotal: 260ms\tremaining: 331ms\n",
      "44:\tlearn: -0.5534988\ttotal: 265ms\tremaining: 324ms\n",
      "45:\tlearn: -0.5671605\ttotal: 270ms\tremaining: 317ms\n",
      "46:\tlearn: -0.5787631\ttotal: 275ms\tremaining: 310ms\n",
      "47:\tlearn: -0.5893382\ttotal: 281ms\tremaining: 304ms\n",
      "48:\tlearn: -0.6027877\ttotal: 286ms\tremaining: 297ms\n",
      "49:\tlearn: -0.6136323\ttotal: 291ms\tremaining: 291ms\n",
      "50:\tlearn: -0.6242605\ttotal: 296ms\tremaining: 284ms\n",
      "51:\tlearn: -0.6352033\ttotal: 300ms\tremaining: 277ms\n",
      "52:\tlearn: -0.6471202\ttotal: 305ms\tremaining: 271ms\n",
      "53:\tlearn: -0.6595949\ttotal: 310ms\tremaining: 264ms\n",
      "54:\tlearn: -0.6672874\ttotal: 315ms\tremaining: 257ms\n",
      "55:\tlearn: -0.6776796\ttotal: 320ms\tremaining: 251ms\n",
      "56:\tlearn: -0.6865697\ttotal: 325ms\tremaining: 245ms\n",
      "57:\tlearn: -0.6958315\ttotal: 329ms\tremaining: 239ms\n",
      "58:\tlearn: -0.7066232\ttotal: 334ms\tremaining: 232ms\n",
      "59:\tlearn: -0.7175670\ttotal: 339ms\tremaining: 226ms\n",
      "60:\tlearn: -0.7255019\ttotal: 344ms\tremaining: 220ms\n",
      "61:\tlearn: -0.7323727\ttotal: 349ms\tremaining: 214ms\n",
      "62:\tlearn: -0.7416601\ttotal: 354ms\tremaining: 208ms\n",
      "63:\tlearn: -0.7494693\ttotal: 359ms\tremaining: 202ms\n",
      "64:\tlearn: -0.7591034\ttotal: 363ms\tremaining: 196ms\n",
      "65:\tlearn: -0.7690634\ttotal: 368ms\tremaining: 190ms\n",
      "66:\tlearn: -0.7754307\ttotal: 373ms\tremaining: 184ms\n",
      "67:\tlearn: -0.7814297\ttotal: 378ms\tremaining: 178ms\n",
      "68:\tlearn: -0.7877958\ttotal: 382ms\tremaining: 172ms\n",
      "69:\tlearn: -0.7944414\ttotal: 387ms\tremaining: 166ms\n",
      "70:\tlearn: -0.8014591\ttotal: 392ms\tremaining: 160ms\n",
      "71:\tlearn: -0.8112605\ttotal: 397ms\tremaining: 154ms\n",
      "72:\tlearn: -0.8201736\ttotal: 402ms\tremaining: 149ms\n",
      "73:\tlearn: -0.8254903\ttotal: 406ms\tremaining: 143ms\n",
      "74:\tlearn: -0.8330638\ttotal: 411ms\tremaining: 137ms\n",
      "75:\tlearn: -0.8410571\ttotal: 416ms\tremaining: 131ms\n",
      "76:\tlearn: -0.8440655\ttotal: 419ms\tremaining: 125ms\n",
      "77:\tlearn: -0.8511895\ttotal: 424ms\tremaining: 120ms\n",
      "78:\tlearn: -0.8561725\ttotal: 429ms\tremaining: 114ms\n",
      "79:\tlearn: -0.8646343\ttotal: 433ms\tremaining: 108ms\n",
      "80:\tlearn: -0.8728790\ttotal: 438ms\tremaining: 103ms\n",
      "81:\tlearn: -0.8777737\ttotal: 443ms\tremaining: 97.3ms\n",
      "82:\tlearn: -0.8852129\ttotal: 448ms\tremaining: 91.8ms\n",
      "83:\tlearn: -0.8910234\ttotal: 453ms\tremaining: 86.2ms\n",
      "84:\tlearn: -0.8956506\ttotal: 458ms\tremaining: 80.8ms\n",
      "85:\tlearn: -0.9002890\ttotal: 462ms\tremaining: 75.3ms\n",
      "86:\tlearn: -0.9076648\ttotal: 467ms\tremaining: 69.8ms\n",
      "87:\tlearn: -0.9097212\ttotal: 470ms\tremaining: 64.1ms\n",
      "88:\tlearn: -0.9125595\ttotal: 475ms\tremaining: 58.7ms\n",
      "89:\tlearn: -0.9188876\ttotal: 480ms\tremaining: 53.3ms\n",
      "90:\tlearn: -0.9234934\ttotal: 484ms\tremaining: 47.9ms\n",
      "91:\tlearn: -0.9266190\ttotal: 489ms\tremaining: 42.5ms\n",
      "92:\tlearn: -0.9311290\ttotal: 494ms\tremaining: 37.2ms\n",
      "93:\tlearn: -0.9338595\ttotal: 499ms\tremaining: 31.8ms\n",
      "94:\tlearn: -0.9391522\ttotal: 503ms\tremaining: 26.5ms\n",
      "95:\tlearn: -0.9405591\ttotal: 507ms\tremaining: 21.1ms\n",
      "96:\tlearn: -0.9443995\ttotal: 512ms\tremaining: 15.8ms\n",
      "97:\tlearn: -0.9482584\ttotal: 516ms\tremaining: 10.5ms\n",
      "98:\tlearn: -0.9527940\ttotal: 521ms\tremaining: 5.26ms\n",
      "99:\tlearn: -0.9561940\ttotal: 526ms\tremaining: 0us\n",
      "train loss: -0.43060752749443054\n",
      "val loss: -0.6179814338684082\n",
      "train loss: -1.1245827674865723\n",
      "val loss: -1.0795162916183472\n",
      "train loss: -1.1979821920394897\n",
      "val loss: -1.147460699081421\n",
      "train loss: -1.271525502204895\n",
      "val loss: -1.2075403928756714\n",
      "train loss: -1.3247145414352417\n",
      "val loss: -1.2544339895248413\n",
      "train loss: -1.3639172315597534\n",
      "val loss: -1.2884544134140015\n",
      "train loss: -1.406272292137146\n",
      "val loss: -1.3198127746582031\n",
      "train loss: -1.4317232370376587\n",
      "val loss: -1.342918872833252\n",
      "train loss: -1.4546167850494385\n",
      "val loss: -1.3556519746780396\n",
      "train loss: -1.4688127040863037\n",
      "val loss: -1.3713374137878418\n",
      "train loss: -1.4867838621139526\n",
      "val loss: -1.3865830898284912\n",
      "train loss: -1.508049726486206\n",
      "val loss: -1.410196304321289\n",
      "train loss: -1.5292189121246338\n",
      "val loss: -1.4165470600128174\n",
      "train loss: -1.5350587368011475\n",
      "val loss: -1.4307126998901367\n",
      "train loss: -1.5759333372116089\n",
      "val loss: -1.4641519784927368\n",
      "train loss: -1.6085501909255981\n",
      "val loss: -1.5001620054244995\n",
      "train loss: -1.6161231994628906\n",
      "val loss: -1.4912006855010986\n",
      "train loss: -1.622116208076477\n",
      "val loss: -1.4919055700302124\n",
      "train loss: -1.6363734006881714\n",
      "val loss: -1.5052530765533447\n",
      "train loss: -1.6617976427078247\n",
      "val loss: -1.5200214385986328\n",
      "train loss: -1.665125846862793\n",
      "val loss: -1.5286468267440796\n",
      "train loss: -1.6738708019256592\n",
      "val loss: -1.5337581634521484\n",
      "train loss: -1.667609453201294\n",
      "val loss: -1.5221240520477295\n",
      "train loss: -1.6863993406295776\n",
      "val loss: -1.520222783088684\n",
      "train loss: -1.6863324642181396\n",
      "val loss: -1.5351485013961792\n",
      "train loss: -1.6995986700057983\n",
      "val loss: -1.5304388999938965\n",
      "train loss: -1.6914554834365845\n",
      "val loss: -1.5377346277236938\n",
      "train loss: -1.6864027976989746\n",
      "val loss: -1.5225480794906616\n",
      "train loss: -1.6935425996780396\n",
      "val loss: -1.5299100875854492\n",
      "train loss: -1.7177379131317139\n",
      "val loss: -1.5474457740783691\n",
      "train loss: -1.702101469039917\n",
      "val loss: -1.5564286708831787\n",
      "train loss: -1.704014778137207\n",
      "val loss: -1.540149450302124\n",
      "train loss: -1.7215549945831299\n",
      "val loss: -1.5355204343795776\n",
      "train loss: -1.7235604524612427\n",
      "val loss: -1.5612764358520508\n",
      "train loss: -1.7120436429977417\n",
      "val loss: -1.5206929445266724\n",
      "train loss: -1.726747751235962\n",
      "val loss: -1.5391740798950195\n",
      "train loss: -1.7284873723983765\n",
      "val loss: -1.5300496816635132\n",
      "train loss: -1.731323480606079\n",
      "val loss: -1.54006028175354\n",
      "train loss: -1.7350292205810547\n",
      "val loss: -1.5303605794906616\n",
      "train loss: -1.7300467491149902\n",
      "val loss: -1.5342994928359985\n",
      "train loss: -1.7328276634216309\n",
      "val loss: -1.540403127670288\n",
      "train loss: -1.7622179985046387\n",
      "val loss: -1.556280255317688\n",
      "train loss: -1.7712312936782837\n",
      "val loss: -1.55367112159729\n",
      "train loss: -1.7574282884597778\n",
      "val loss: -1.5472792387008667\n",
      "train loss: -1.761544108390808\n",
      "val loss: -1.5455526113510132\n",
      "train loss: -1.7713454961776733\n",
      "val loss: -1.5638988018035889\n",
      "train loss: -1.7629961967468262\n",
      "val loss: -1.53815758228302\n",
      "train loss: -1.7729215621948242\n",
      "val loss: -1.5541660785675049\n",
      "train loss: -1.773664116859436\n",
      "val loss: -1.547005534172058\n",
      "Loading model from epoch 46.\n"
     ]
    },
    {
     "name": "stdout",
     "output_type": "stream",
     "text": [
      "CPU times: user 2h 22min 23s, sys: 1min 7s, total: 2h 23min 30s\n",
      "Wall time: 2h 12min 10s\n"
     ]
    },
    {
     "data": {
      "text/plain": [
       "TreeFlowWithoutShallow(embedding_size=3200,\n",
       "                       flow_model=<src.probabilistic_flow_boosting.tfboost.flow.flow.ContinuousNormalizingFlow object at 0x7f615c267e80>,\n",
       "                       tree_model=<src.probabilistic_flow_boosting.tfboost.tree.ecatboost.EmbeddableCatBoostPriorNormal object at 0x7f615c267e48>)"
      ]
     },
     "execution_count": 9,
     "metadata": {},
     "output_type": "execute_result"
    }
   ],
   "source": [
    "%time treeflow.fit(x_tr.values, y_tr.values, x_val.values, y_val.values, n_epochs=50, batch_size=2048, verbose=True)"
   ]
  },
  {
   "cell_type": "code",
   "execution_count": 10,
   "metadata": {},
   "outputs": [
    {
     "name": "stdout",
     "output_type": "stream",
     "text": [
      "CPU times: user 1min 6s, sys: 1.89 s, total: 1min 8s\n",
      "Wall time: 58.1 s\n"
     ]
    },
    {
     "data": {
      "text/plain": [
       "-1.7180606"
      ]
     },
     "execution_count": 10,
     "metadata": {},
     "output_type": "execute_result"
    }
   ],
   "source": [
    "%time calculate_nll(treeflow, x_train, y_train, batch_size = 1024)"
   ]
  },
  {
   "cell_type": "code",
   "execution_count": 11,
   "metadata": {},
   "outputs": [
    {
     "name": "stdout",
     "output_type": "stream",
     "text": [
      "CPU times: user 21.3 s, sys: 722 ms, total: 22 s\n",
      "Wall time: 15.7 s\n"
     ]
    },
    {
     "data": {
      "text/plain": [
       "-1.5729513"
      ]
     },
     "execution_count": 11,
     "metadata": {},
     "output_type": "execute_result"
    }
   ],
   "source": [
    "%time calculate_nll(treeflow, x_test, y_test, batch_size = 1024)"
   ]
  }
 ],
 "metadata": {
  "kernelspec": {
   "display_name": "Python 3",
   "language": "python",
   "name": "python3"
  },
  "language_info": {
   "codemirror_mode": {
    "name": "ipython",
    "version": 3
   },
   "file_extension": ".py",
   "mimetype": "text/x-python",
   "name": "python",
   "nbconvert_exporter": "python",
   "pygments_lexer": "ipython3",
   "version": "3.6.9"
  }
 },
 "nbformat": 4,
 "nbformat_minor": 2
}
