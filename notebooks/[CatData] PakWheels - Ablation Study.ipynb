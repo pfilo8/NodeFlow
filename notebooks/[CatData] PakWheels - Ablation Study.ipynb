{
 "cells": [
  {
   "cell_type": "code",
   "execution_count": 1,
   "metadata": {},
   "outputs": [
    {
     "name": "stderr",
     "output_type": "stream",
     "text": [
      "/opt/conda/lib/python3.6/site-packages/sweetviz/config.py:14: DeprecationWarning: open_text is deprecated. Use files() instead. Refer to https://importlib-resources.readthedocs.io/en/latest/using.html#migrating-from-legacy for migration advice.\n",
      "  the_open = pkg_resources.open_text(\"sweetviz\", 'sweetviz_defaults.ini')\n"
     ]
    }
   ],
   "source": [
    "import catboost\n",
    "import matplotlib.pyplot as plt\n",
    "import numpy as np\n",
    "import pandas as pd\n",
    "import seaborn as sns\n",
    "import scipy.stats as stats\n",
    "import sweetviz\n",
    "\n",
    "from sklearn.model_selection import train_test_split\n",
    "from nflows.distributions import ConditionalDiagonalNormal\n",
    "\n",
    "from src.probabilistic_flow_boosting.tfboost.tree import EmbeddableCatBoostPriorNormal, EmbeddableOneHotEncoder\n",
    "from src.probabilistic_flow_boosting.tfboost.tfboost import TreeFlowBoost\n",
    "from src.probabilistic_flow_boosting.tfboost.flow import ContinuousNormalizingFlow\n",
    "from src.probabilistic_flow_boosting.pipelines.reporting.nodes import calculate_nll\n",
    "\n",
    "from src.probabilistic_flow_boosting.pipelines.modeling.utils import setup_random_seed\n",
    "\n",
    "RANDOM_SEED = 5\n",
    "\n",
    "setup_random_seed(RANDOM_SEED)"
   ]
  },
  {
   "cell_type": "code",
   "execution_count": 2,
   "metadata": {},
   "outputs": [],
   "source": [
    "df = pd.read_csv('data/01_raw/CatData/pak-wheels/PakWheelsDataSet.csv', index_col=0)"
   ]
  },
  {
   "cell_type": "code",
   "execution_count": 3,
   "metadata": {},
   "outputs": [],
   "source": [
    "x = df.drop(columns = ['Name', 'Price'])\n",
    "y = np.log10(df[['Price']])"
   ]
  },
  {
   "cell_type": "code",
   "execution_count": 4,
   "metadata": {},
   "outputs": [],
   "source": [
    "x_train, x_test, y_train, y_test = train_test_split(x, y, test_size = 0.2, random_state=RANDOM_SEED)\n",
    "x_tr, x_val, y_tr, y_val = train_test_split(x_train, y_train, test_size = 0.2, random_state=RANDOM_SEED)"
   ]
  },
  {
   "cell_type": "code",
   "execution_count": 5,
   "metadata": {},
   "outputs": [
    {
     "data": {
      "text/plain": [
       "((61352, 7), (15338, 7))"
      ]
     },
     "execution_count": 5,
     "metadata": {},
     "output_type": "execute_result"
    }
   ],
   "source": [
    "x_train.shape, x_test.shape"
   ]
  },
  {
   "cell_type": "code",
   "execution_count": 6,
   "metadata": {},
   "outputs": [],
   "source": [
    "tree = EmbeddableOneHotEncoder(handle_unknown='ignore')\n",
    "\n",
    "flow = ContinuousNormalizingFlow(input_dim=1, hidden_dims=(100, 100, 50), context_dim=100, conditional=True)\n",
    "\n",
    "treeflow = TreeFlowBoost(tree, flow, embedding_size=100)"
   ]
  },
  {
   "cell_type": "code",
   "execution_count": 7,
   "metadata": {
    "scrolled": true
   },
   "outputs": [
    {
     "name": "stdout",
     "output_type": "stream",
     "text": [
      "train loss: 0.44481128454208374\n",
      "val loss: 0.34301191568374634\n",
      "train loss: 0.038846708834171295\n",
      "val loss: 0.05016196519136429\n",
      "train loss: -0.46047359704971313\n",
      "val loss: -0.4586866497993469\n",
      "train loss: -0.8465131521224976\n",
      "val loss: -0.8040804266929626\n",
      "train loss: -1.1236224174499512\n",
      "val loss: -1.0377390384674072\n",
      "train loss: -1.2605621814727783\n",
      "val loss: -1.1550791263580322\n",
      "train loss: -1.3348548412322998\n",
      "val loss: -1.2264596223831177\n",
      "train loss: -1.3685139417648315\n",
      "val loss: -1.2428936958312988\n",
      "train loss: -1.410986304283142\n",
      "val loss: -1.2683095932006836\n",
      "train loss: -1.4426792860031128\n",
      "val loss: -1.2816362380981445\n",
      "train loss: -1.4583978652954102\n",
      "val loss: -1.2891217470169067\n",
      "train loss: -1.487503170967102\n",
      "val loss: -1.2996892929077148\n",
      "train loss: -1.4975303411483765\n",
      "val loss: -1.2928766012191772\n",
      "train loss: -1.492586612701416\n",
      "val loss: -1.3095659017562866\n",
      "train loss: -1.5088372230529785\n",
      "val loss: -1.314454197883606\n",
      "train loss: -1.5323435068130493\n",
      "val loss: -1.3472540378570557\n",
      "train loss: -1.5475685596466064\n",
      "val loss: -1.3184270858764648\n",
      "train loss: -1.5598558187484741\n",
      "val loss: -1.3404651880264282\n",
      "train loss: -1.5549184083938599\n",
      "val loss: -1.299286961555481\n",
      "train loss: -1.5689549446105957\n",
      "val loss: -1.309019923210144\n",
      "train loss: -1.581277847290039\n",
      "val loss: -1.325263261795044\n",
      "train loss: -1.5846996307373047\n",
      "val loss: -1.348063588142395\n",
      "train loss: -1.6060711145401\n",
      "val loss: -1.3239129781723022\n",
      "train loss: -1.6056509017944336\n",
      "val loss: -1.358958125114441\n",
      "train loss: -1.6124767065048218\n",
      "val loss: -1.3476126194000244\n",
      "train loss: -1.6052557229995728\n",
      "val loss: -1.3361361026763916\n",
      "train loss: -1.6384352445602417\n",
      "val loss: -1.3408620357513428\n",
      "train loss: -1.6609501838684082\n",
      "val loss: -1.3380239009857178\n",
      "train loss: -1.6496492624282837\n",
      "val loss: -1.3741978406906128\n",
      "train loss: -1.6668578386306763\n",
      "val loss: -1.3415958881378174\n",
      "train loss: -1.6589096784591675\n",
      "val loss: -1.384211540222168\n",
      "train loss: -1.6595467329025269\n",
      "val loss: -1.3601514101028442\n",
      "train loss: -1.665613055229187\n",
      "val loss: -1.3540616035461426\n",
      "train loss: -1.704878807067871\n",
      "val loss: -1.4069912433624268\n",
      "train loss: -1.6978338956832886\n",
      "val loss: -1.3340462446212769\n",
      "train loss: -1.708979606628418\n",
      "val loss: -1.3549507856369019\n",
      "train loss: -1.7006438970565796\n",
      "val loss: -1.3857643604278564\n",
      "train loss: -1.700036883354187\n",
      "val loss: -1.3760286569595337\n",
      "train loss: -1.6963531970977783\n",
      "val loss: -1.338550090789795\n",
      "train loss: -1.721426248550415\n",
      "val loss: -1.3841317892074585\n",
      "train loss: -1.7410595417022705\n",
      "val loss: -1.3633031845092773\n",
      "train loss: -1.7597981691360474\n",
      "val loss: -1.4222559928894043\n",
      "train loss: -1.7638105154037476\n",
      "val loss: -1.3375998735427856\n",
      "train loss: -1.7345470190048218\n",
      "val loss: -1.366597294807434\n",
      "train loss: -1.739930272102356\n",
      "val loss: -1.3564727306365967\n",
      "train loss: -1.7503716945648193\n",
      "val loss: -1.3728114366531372\n",
      "train loss: -1.769380807876587\n",
      "val loss: -1.362229585647583\n",
      "train loss: -1.7473679780960083\n",
      "val loss: -1.3568235635757446\n",
      "train loss: -1.785908579826355\n",
      "val loss: -1.3884183168411255\n",
      "train loss: -1.7501617670059204\n",
      "val loss: -1.4037964344024658\n",
      "Loading model from epoch 41.\n",
      "CPU times: user 19min 9s, sys: 1min 32s, total: 20min 42s\n",
      "Wall time: 9min 40s\n"
     ]
    },
    {
     "data": {
      "text/plain": [
       "TreeFlowBoost(embedding_size=100,\n",
       "              flow_model=<src.probabilistic_flow_boosting.tfboost.flow.flow.ContinuousNormalizingFlow object at 0x7fee3cda6fd0>,\n",
       "              tree_model=EmbeddableOneHotEncoder(handle_unknown='ignore'))"
      ]
     },
     "execution_count": 7,
     "metadata": {},
     "output_type": "execute_result"
    }
   ],
   "source": [
    "%time treeflow.fit(x_tr.values, y_tr.values, x_val.values, y_val.values, n_epochs=50, batch_size=2048, verbose=True)"
   ]
  },
  {
   "cell_type": "code",
   "execution_count": 8,
   "metadata": {},
   "outputs": [
    {
     "data": {
      "text/plain": [
       "Sequential(\n",
       "  (0): Linear(in_features=6382, out_features=100, bias=True)\n",
       "  (1): Tanh()\n",
       ")"
      ]
     },
     "execution_count": 8,
     "metadata": {},
     "output_type": "execute_result"
    }
   ],
   "source": [
    "treeflow.flow_model.context_encoder"
   ]
  },
  {
   "cell_type": "code",
   "execution_count": 9,
   "metadata": {},
   "outputs": [
    {
     "name": "stdout",
     "output_type": "stream",
     "text": [
      "CPU times: user 14.5 s, sys: 2.02 s, total: 16.5 s\n",
      "Wall time: 7.68 s\n"
     ]
    },
    {
     "data": {
      "text/plain": [
       "-1.7017101"
      ]
     },
     "execution_count": 9,
     "metadata": {},
     "output_type": "execute_result"
    }
   ],
   "source": [
    "%time calculate_nll(treeflow, x_train, y_train, batch_size = 1024)"
   ]
  },
  {
   "cell_type": "code",
   "execution_count": 10,
   "metadata": {},
   "outputs": [
    {
     "name": "stdout",
     "output_type": "stream",
     "text": [
      "CPU times: user 4.79 s, sys: 544 ms, total: 5.34 s\n",
      "Wall time: 1.92 s\n"
     ]
    },
    {
     "data": {
      "text/plain": [
       "-1.3777525"
      ]
     },
     "execution_count": 10,
     "metadata": {},
     "output_type": "execute_result"
    }
   ],
   "source": [
    "%time calculate_nll(treeflow, x_test, y_test, batch_size = 1024)"
   ]
  }
 ],
 "metadata": {
  "kernelspec": {
   "display_name": "ProbabilisticFlowBoosting",
   "language": "python",
   "name": "python3"
  },
  "language_info": {
   "codemirror_mode": {
    "name": "ipython",
    "version": 3
   },
   "file_extension": ".py",
   "mimetype": "text/x-python",
   "name": "python",
   "nbconvert_exporter": "python",
   "pygments_lexer": "ipython3",
   "version": "3.6.9"
  }
 },
 "nbformat": 4,
 "nbformat_minor": 2
}
