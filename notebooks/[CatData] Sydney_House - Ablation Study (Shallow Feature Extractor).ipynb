{
 "cells": [
  {
   "cell_type": "code",
   "execution_count": 1,
   "metadata": {},
   "outputs": [],
   "source": [
    "from typing import Union\n",
    "\n",
    "import catboost\n",
    "import matplotlib.pyplot as plt\n",
    "import numpy as np\n",
    "import pandas as pd\n",
    "import seaborn as sns\n",
    "import scipy.stats as stats\n",
    "import torch.nn as nn\n",
    "\n",
    "from sklearn.model_selection import train_test_split\n",
    "from nflows.distributions import ConditionalDiagonalNormal\n",
    "\n",
    "from src.probabilistic_flow_boosting.tfboost.tree import EmbeddableCatBoostPriorNormal\n",
    "from src.probabilistic_flow_boosting.tfboost.tfboost import TreeFlowBoost\n",
    "from src.probabilistic_flow_boosting.tfboost.flow import ContinuousNormalizingFlow\n",
    "from src.probabilistic_flow_boosting.pipelines.reporting.nodes import calculate_nll\n",
    "\n",
    "from src.probabilistic_flow_boosting.pipelines.modeling.utils import setup_random_seed\n",
    "\n",
    "RANDOM_SEED = 1\n",
    "\n",
    "setup_random_seed(RANDOM_SEED)"
   ]
  },
  {
   "cell_type": "code",
   "execution_count": 2,
   "metadata": {},
   "outputs": [],
   "source": [
    "df = pd.read_csv('data/01_raw/CatData/sydney_house/SydneyHousePrices.csv')"
   ]
  },
  {
   "cell_type": "code",
   "execution_count": 3,
   "metadata": {},
   "outputs": [],
   "source": [
    "x = df.drop(columns = ['Date', 'Id', 'sellPrice'])\n",
    "y = np.log10(df[['sellPrice']])"
   ]
  },
  {
   "cell_type": "code",
   "execution_count": 4,
   "metadata": {},
   "outputs": [],
   "source": [
    "x_train, x_test, y_train, y_test = train_test_split(x, y, test_size = 0.2, random_state=42)\n",
    "x_tr, x_val, y_tr, y_val = train_test_split(x_train, y_train, test_size = 0.2, random_state=42)"
   ]
  },
  {
   "cell_type": "code",
   "execution_count": 5,
   "metadata": {},
   "outputs": [
    {
     "data": {
      "text/plain": [
       "((159603, 6), (39901, 6))"
      ]
     },
     "execution_count": 5,
     "metadata": {},
     "output_type": "execute_result"
    }
   ],
   "source": [
    "x_train.shape, x_test.shape"
   ]
  },
  {
   "cell_type": "code",
   "execution_count": 6,
   "metadata": {},
   "outputs": [],
   "source": [
    "class TreeFlowWithoutShallow(TreeFlowBoost):\n",
    "    \n",
    "    def fit(self, X: np.ndarray, y: np.ndarray, X_val: Union[np.ndarray, None] = None,\n",
    "            y_val: Union[np.ndarray, None] = None, n_epochs: int = 100, batch_size: int = 1000, verbose: bool = False):\n",
    "        self.tree_model.fit(X, y)\n",
    "\n",
    "        context: np.ndarray = self.tree_model.embed(X)\n",
    "        params: np.ndarray = self.tree_model.pred_dist_param(X)\n",
    "        y: np.ndarray = y if len(y.shape) == 2 else y.reshape(-1, 1)\n",
    "\n",
    "        if X_val is not None and y_val is not None:\n",
    "            context_val: np.ndarray = self.tree_model.embed(X_val)\n",
    "            params_val: np.ndarray = self.tree_model.pred_dist_param(X_val)\n",
    "            y_val: np.ndarray = y_val if len(y_val.shape) == 2 else y_val.reshape(-1, 1)\n",
    "        else:\n",
    "            context_val = None\n",
    "            params_val = None\n",
    "            y_val = None\n",
    "\n",
    "        self.flow_model.setup_context_encoder(nn.Identity())\n",
    "\n",
    "        self.flow_model.fit(y, context, params, y_val, context_val, params_val, n_epochs=n_epochs,\n",
    "                            batch_size=batch_size, verbose=verbose)\n",
    "        return self\n"
   ]
  },
  {
   "cell_type": "code",
   "execution_count": 7,
   "metadata": {},
   "outputs": [],
   "source": [
    "depth = 4\n",
    "num_trees = 200\n",
    "context_dim = num_trees*2**depth\n",
    "\n",
    "tree = EmbeddableCatBoostPriorNormal(\n",
    "    cat_features=[0, 1, 5], \n",
    "    loss_function=\"RMSEWithUncertainty\",\n",
    "    depth=depth,\n",
    "    num_trees=num_trees,\n",
    "    random_state=RANDOM_SEED\n",
    ")\n",
    "flow = ContinuousNormalizingFlow(input_dim=1, hidden_dims=(200, 200, 100, 50), \n",
    "                                 num_blocks=5, context_dim=context_dim, conditional=True)\n",
    "\n",
    "treeflow = TreeFlowWithoutShallow(tree, flow, embedding_size=context_dim)"
   ]
  },
  {
   "cell_type": "code",
   "execution_count": 8,
   "metadata": {},
   "outputs": [
    {
     "name": "stdout",
     "output_type": "stream",
     "text": [
      "3200\n"
     ]
    }
   ],
   "source": [
    "print(context_dim)"
   ]
  },
  {
   "cell_type": "code",
   "execution_count": 9,
   "metadata": {
    "scrolled": true
   },
   "outputs": [
    {
     "name": "stdout",
     "output_type": "stream",
     "text": [
      "0:\tlearn: 0.0035320\ttotal: 67.4ms\tremaining: 13.4s\n",
      "1:\tlearn: -0.0151538\ttotal: 86.4ms\tremaining: 8.55s\n",
      "2:\tlearn: -0.0336699\ttotal: 104ms\tremaining: 6.84s\n",
      "3:\tlearn: -0.0495297\ttotal: 117ms\tremaining: 5.72s\n",
      "4:\tlearn: -0.0647242\ttotal: 130ms\tremaining: 5.05s\n",
      "5:\tlearn: -0.0762334\ttotal: 145ms\tremaining: 4.69s\n",
      "6:\tlearn: -0.0890393\ttotal: 157ms\tremaining: 4.32s\n",
      "7:\tlearn: -0.1007857\ttotal: 167ms\tremaining: 4s\n",
      "8:\tlearn: -0.1102937\ttotal: 177ms\tremaining: 3.76s\n",
      "9:\tlearn: -0.1220026\ttotal: 190ms\tremaining: 3.62s\n",
      "10:\tlearn: -0.1324600\ttotal: 203ms\tremaining: 3.48s\n",
      "11:\tlearn: -0.1430619\ttotal: 217ms\tremaining: 3.39s\n",
      "12:\tlearn: -0.1520155\ttotal: 228ms\tremaining: 3.28s\n",
      "13:\tlearn: -0.1621167\ttotal: 243ms\tremaining: 3.22s\n",
      "14:\tlearn: -0.1714296\ttotal: 258ms\tremaining: 3.19s\n",
      "15:\tlearn: -0.1800285\ttotal: 271ms\tremaining: 3.11s\n",
      "16:\tlearn: -0.1886189\ttotal: 284ms\tremaining: 3.06s\n",
      "17:\tlearn: -0.1968616\ttotal: 302ms\tremaining: 3.05s\n",
      "18:\tlearn: -0.2041539\ttotal: 311ms\tremaining: 2.97s\n",
      "19:\tlearn: -0.2099215\ttotal: 324ms\tremaining: 2.92s\n",
      "20:\tlearn: -0.2165670\ttotal: 336ms\tremaining: 2.86s\n",
      "21:\tlearn: -0.2217823\ttotal: 350ms\tremaining: 2.83s\n",
      "22:\tlearn: -0.2269827\ttotal: 366ms\tremaining: 2.81s\n",
      "23:\tlearn: -0.2342394\ttotal: 380ms\tremaining: 2.78s\n",
      "24:\tlearn: -0.2408334\ttotal: 391ms\tremaining: 2.74s\n",
      "25:\tlearn: -0.2470479\ttotal: 405ms\tremaining: 2.71s\n",
      "26:\tlearn: -0.2523353\ttotal: 416ms\tremaining: 2.66s\n",
      "27:\tlearn: -0.2567918\ttotal: 425ms\tremaining: 2.61s\n",
      "28:\tlearn: -0.2597132\ttotal: 437ms\tremaining: 2.58s\n",
      "29:\tlearn: -0.2650851\ttotal: 447ms\tremaining: 2.53s\n",
      "30:\tlearn: -0.2700645\ttotal: 458ms\tremaining: 2.5s\n",
      "31:\tlearn: -0.2734130\ttotal: 470ms\tremaining: 2.47s\n",
      "32:\tlearn: -0.2781881\ttotal: 480ms\tremaining: 2.43s\n",
      "33:\tlearn: -0.2815778\ttotal: 491ms\tremaining: 2.4s\n",
      "34:\tlearn: -0.2858260\ttotal: 505ms\tremaining: 2.38s\n",
      "35:\tlearn: -0.2908853\ttotal: 519ms\tremaining: 2.37s\n",
      "36:\tlearn: -0.2957775\ttotal: 532ms\tremaining: 2.34s\n",
      "37:\tlearn: -0.3003420\ttotal: 548ms\tremaining: 2.33s\n",
      "38:\tlearn: -0.3044273\ttotal: 558ms\tremaining: 2.3s\n",
      "39:\tlearn: -0.3083190\ttotal: 570ms\tremaining: 2.28s\n",
      "40:\tlearn: -0.3131675\ttotal: 580ms\tremaining: 2.25s\n",
      "41:\tlearn: -0.3183959\ttotal: 594ms\tremaining: 2.23s\n",
      "42:\tlearn: -0.3217469\ttotal: 606ms\tremaining: 2.21s\n",
      "43:\tlearn: -0.3245912\ttotal: 614ms\tremaining: 2.18s\n",
      "44:\tlearn: -0.3273228\ttotal: 620ms\tremaining: 2.14s\n",
      "45:\tlearn: -0.3303723\ttotal: 636ms\tremaining: 2.13s\n",
      "46:\tlearn: -0.3333233\ttotal: 651ms\tremaining: 2.12s\n",
      "47:\tlearn: -0.3361350\ttotal: 664ms\tremaining: 2.1s\n",
      "48:\tlearn: -0.3396681\ttotal: 678ms\tremaining: 2.09s\n",
      "49:\tlearn: -0.3421906\ttotal: 691ms\tremaining: 2.07s\n",
      "50:\tlearn: -0.3449997\ttotal: 709ms\tremaining: 2.07s\n",
      "51:\tlearn: -0.3478023\ttotal: 719ms\tremaining: 2.05s\n",
      "52:\tlearn: -0.3505923\ttotal: 732ms\tremaining: 2.03s\n",
      "53:\tlearn: -0.3531099\ttotal: 747ms\tremaining: 2.02s\n",
      "54:\tlearn: -0.3558798\ttotal: 760ms\tremaining: 2s\n",
      "55:\tlearn: -0.3587137\ttotal: 770ms\tremaining: 1.98s\n",
      "56:\tlearn: -0.3612095\ttotal: 780ms\tremaining: 1.96s\n",
      "57:\tlearn: -0.3641420\ttotal: 792ms\tremaining: 1.94s\n",
      "58:\tlearn: -0.3662357\ttotal: 801ms\tremaining: 1.91s\n",
      "59:\tlearn: -0.3678143\ttotal: 809ms\tremaining: 1.89s\n",
      "60:\tlearn: -0.3699291\ttotal: 819ms\tremaining: 1.86s\n",
      "61:\tlearn: -0.3727087\ttotal: 831ms\tremaining: 1.85s\n",
      "62:\tlearn: -0.3741959\ttotal: 843ms\tremaining: 1.83s\n",
      "63:\tlearn: -0.3764780\ttotal: 856ms\tremaining: 1.82s\n",
      "64:\tlearn: -0.3781411\ttotal: 866ms\tremaining: 1.8s\n",
      "65:\tlearn: -0.3800201\ttotal: 876ms\tremaining: 1.78s\n",
      "66:\tlearn: -0.3818373\ttotal: 886ms\tremaining: 1.76s\n",
      "67:\tlearn: -0.3832464\ttotal: 893ms\tremaining: 1.73s\n",
      "68:\tlearn: -0.3853179\ttotal: 907ms\tremaining: 1.72s\n",
      "69:\tlearn: -0.3870917\ttotal: 916ms\tremaining: 1.7s\n",
      "70:\tlearn: -0.3887283\ttotal: 928ms\tremaining: 1.69s\n",
      "71:\tlearn: -0.3903646\ttotal: 937ms\tremaining: 1.67s\n",
      "72:\tlearn: -0.3926167\ttotal: 950ms\tremaining: 1.65s\n",
      "73:\tlearn: -0.3944915\ttotal: 962ms\tremaining: 1.64s\n",
      "74:\tlearn: -0.3956844\ttotal: 974ms\tremaining: 1.62s\n",
      "75:\tlearn: -0.3972024\ttotal: 984ms\tremaining: 1.6s\n",
      "76:\tlearn: -0.3988825\ttotal: 994ms\tremaining: 1.59s\n",
      "77:\tlearn: -0.4010350\ttotal: 1.01s\tremaining: 1.57s\n",
      "78:\tlearn: -0.4031361\ttotal: 1.02s\tremaining: 1.56s\n",
      "79:\tlearn: -0.4054347\ttotal: 1.03s\tremaining: 1.55s\n",
      "80:\tlearn: -0.4063649\ttotal: 1.04s\tremaining: 1.53s\n",
      "81:\tlearn: -0.4076825\ttotal: 1.06s\tremaining: 1.52s\n",
      "82:\tlearn: -0.4104102\ttotal: 1.07s\tremaining: 1.51s\n",
      "83:\tlearn: -0.4116332\ttotal: 1.09s\tremaining: 1.5s\n",
      "84:\tlearn: -0.4129438\ttotal: 1.1s\tremaining: 1.48s\n",
      "85:\tlearn: -0.4140760\ttotal: 1.11s\tremaining: 1.47s\n",
      "86:\tlearn: -0.4150605\ttotal: 1.13s\tremaining: 1.46s\n",
      "87:\tlearn: -0.4170265\ttotal: 1.14s\tremaining: 1.45s\n",
      "88:\tlearn: -0.4184138\ttotal: 1.15s\tremaining: 1.43s\n",
      "89:\tlearn: -0.4196569\ttotal: 1.16s\tremaining: 1.42s\n",
      "90:\tlearn: -0.4205363\ttotal: 1.17s\tremaining: 1.4s\n",
      "91:\tlearn: -0.4212437\ttotal: 1.19s\tremaining: 1.39s\n",
      "92:\tlearn: -0.4222403\ttotal: 1.2s\tremaining: 1.37s\n",
      "93:\tlearn: -0.4231024\ttotal: 1.21s\tremaining: 1.36s\n",
      "94:\tlearn: -0.4245337\ttotal: 1.22s\tremaining: 1.35s\n",
      "95:\tlearn: -0.4258024\ttotal: 1.24s\tremaining: 1.34s\n",
      "96:\tlearn: -0.4267031\ttotal: 1.25s\tremaining: 1.32s\n",
      "97:\tlearn: -0.4276450\ttotal: 1.26s\tremaining: 1.31s\n",
      "98:\tlearn: -0.4287093\ttotal: 1.27s\tremaining: 1.29s\n",
      "99:\tlearn: -0.4292411\ttotal: 1.28s\tremaining: 1.28s\n",
      "100:\tlearn: -0.4300382\ttotal: 1.29s\tremaining: 1.27s\n",
      "101:\tlearn: -0.4306609\ttotal: 1.31s\tremaining: 1.25s\n",
      "102:\tlearn: -0.4315989\ttotal: 1.32s\tremaining: 1.24s\n",
      "103:\tlearn: -0.4332371\ttotal: 1.33s\tremaining: 1.23s\n",
      "104:\tlearn: -0.4335993\ttotal: 1.34s\tremaining: 1.22s\n",
      "105:\tlearn: -0.4351649\ttotal: 1.36s\tremaining: 1.2s\n",
      "106:\tlearn: -0.4359301\ttotal: 1.37s\tremaining: 1.19s\n",
      "107:\tlearn: -0.4366004\ttotal: 1.38s\tremaining: 1.18s\n",
      "108:\tlearn: -0.4375004\ttotal: 1.39s\tremaining: 1.16s\n",
      "109:\tlearn: -0.4382677\ttotal: 1.4s\tremaining: 1.15s\n",
      "110:\tlearn: -0.4387680\ttotal: 1.42s\tremaining: 1.13s\n",
      "111:\tlearn: -0.4395390\ttotal: 1.43s\tremaining: 1.12s\n",
      "112:\tlearn: -0.4401747\ttotal: 1.44s\tremaining: 1.11s\n",
      "113:\tlearn: -0.4408366\ttotal: 1.45s\tremaining: 1.09s\n",
      "114:\tlearn: -0.4419934\ttotal: 1.46s\tremaining: 1.08s\n",
      "115:\tlearn: -0.4425688\ttotal: 1.47s\tremaining: 1.06s\n",
      "116:\tlearn: -0.4431625\ttotal: 1.48s\tremaining: 1.05s\n",
      "117:\tlearn: -0.4438028\ttotal: 1.49s\tremaining: 1.04s\n",
      "118:\tlearn: -0.4443278\ttotal: 1.5s\tremaining: 1.02s\n",
      "119:\tlearn: -0.4447884\ttotal: 1.51s\tremaining: 1.01s\n",
      "120:\tlearn: -0.4456669\ttotal: 1.52s\tremaining: 994ms\n",
      "121:\tlearn: -0.4470129\ttotal: 1.53s\tremaining: 980ms\n",
      "122:\tlearn: -0.4475029\ttotal: 1.54s\tremaining: 968ms\n",
      "123:\tlearn: -0.4488865\ttotal: 1.55s\tremaining: 954ms\n",
      "124:\tlearn: -0.4501685\ttotal: 1.57s\tremaining: 943ms\n",
      "125:\tlearn: -0.4505295\ttotal: 1.58s\tremaining: 929ms\n",
      "126:\tlearn: -0.4517988\ttotal: 1.59s\tremaining: 915ms\n",
      "127:\tlearn: -0.4521802\ttotal: 1.6s\tremaining: 900ms\n",
      "128:\tlearn: -0.4523832\ttotal: 1.61s\tremaining: 888ms\n",
      "129:\tlearn: -0.4527410\ttotal: 1.62s\tremaining: 874ms\n",
      "130:\tlearn: -0.4533221\ttotal: 1.63s\tremaining: 861ms\n",
      "131:\tlearn: -0.4540267\ttotal: 1.65s\tremaining: 852ms\n",
      "132:\tlearn: -0.4542832\ttotal: 1.66s\tremaining: 838ms\n",
      "133:\tlearn: -0.4553256\ttotal: 1.67s\tremaining: 824ms\n",
      "134:\tlearn: -0.4556714\ttotal: 1.69s\tremaining: 813ms\n",
      "135:\tlearn: -0.4560540\ttotal: 1.7s\tremaining: 799ms\n",
      "136:\tlearn: -0.4573778\ttotal: 1.71s\tremaining: 787ms\n",
      "137:\tlearn: -0.4582860\ttotal: 1.72s\tremaining: 774ms\n",
      "138:\tlearn: -0.4584915\ttotal: 1.73s\tremaining: 760ms\n",
      "139:\tlearn: -0.4588847\ttotal: 1.74s\tremaining: 747ms\n",
      "140:\tlearn: -0.4595539\ttotal: 1.75s\tremaining: 735ms\n",
      "141:\tlearn: -0.4599904\ttotal: 1.76s\tremaining: 721ms\n",
      "142:\tlearn: -0.4602514\ttotal: 1.78s\tremaining: 709ms\n",
      "143:\tlearn: -0.4605263\ttotal: 1.79s\tremaining: 696ms\n",
      "144:\tlearn: -0.4613894\ttotal: 1.8s\tremaining: 683ms\n",
      "145:\tlearn: -0.4623761\ttotal: 1.81s\tremaining: 671ms\n",
      "146:\tlearn: -0.4628656\ttotal: 1.82s\tremaining: 658ms\n",
      "147:\tlearn: -0.4631552\ttotal: 1.83s\tremaining: 645ms\n",
      "148:\tlearn: -0.4637859\ttotal: 1.84s\tremaining: 631ms\n",
      "149:\tlearn: -0.4651881\ttotal: 1.86s\tremaining: 619ms\n",
      "150:\tlearn: -0.4654542\ttotal: 1.87s\tremaining: 606ms\n",
      "151:\tlearn: -0.4655619\ttotal: 1.88s\tremaining: 593ms\n",
      "152:\tlearn: -0.4668525\ttotal: 1.9s\tremaining: 582ms\n",
      "153:\tlearn: -0.4681796\ttotal: 1.91s\tremaining: 570ms\n",
      "154:\tlearn: -0.4685183\ttotal: 1.92s\tremaining: 558ms\n",
      "155:\tlearn: -0.4689726\ttotal: 1.94s\tremaining: 546ms\n",
      "156:\tlearn: -0.4693969\ttotal: 1.95s\tremaining: 533ms\n",
      "157:\tlearn: -0.4702957\ttotal: 1.96s\tremaining: 520ms\n",
      "158:\tlearn: -0.4705714\ttotal: 1.97s\tremaining: 507ms\n",
      "159:\tlearn: -0.4708002\ttotal: 1.98s\tremaining: 495ms\n",
      "160:\tlearn: -0.4722966\ttotal: 1.99s\tremaining: 482ms\n",
      "161:\tlearn: -0.4725560\ttotal: 2s\tremaining: 469ms\n",
      "162:\tlearn: -0.4726542\ttotal: 2.01s\tremaining: 456ms\n",
      "163:\tlearn: -0.4730376\ttotal: 2.02s\tremaining: 444ms\n",
      "164:\tlearn: -0.4732319\ttotal: 2.03s\tremaining: 431ms\n",
      "165:\tlearn: -0.4734342\ttotal: 2.04s\tremaining: 419ms\n",
      "166:\tlearn: -0.4744233\ttotal: 2.06s\tremaining: 407ms\n",
      "167:\tlearn: -0.4746789\ttotal: 2.07s\tremaining: 394ms\n",
      "168:\tlearn: -0.4749744\ttotal: 2.09s\tremaining: 383ms\n",
      "169:\tlearn: -0.4751739\ttotal: 2.1s\tremaining: 371ms\n",
      "170:\tlearn: -0.4756831\ttotal: 2.12s\tremaining: 359ms\n"
     ]
    },
    {
     "name": "stdout",
     "output_type": "stream",
     "text": [
      "171:\tlearn: -0.4760313\ttotal: 2.13s\tremaining: 346ms\n",
      "172:\tlearn: -0.4765562\ttotal: 2.14s\tremaining: 334ms\n",
      "173:\tlearn: -0.4769260\ttotal: 2.15s\tremaining: 321ms\n",
      "174:\tlearn: -0.4773330\ttotal: 2.16s\tremaining: 308ms\n",
      "175:\tlearn: -0.4780509\ttotal: 2.17s\tremaining: 296ms\n",
      "176:\tlearn: -0.4788050\ttotal: 2.18s\tremaining: 283ms\n",
      "177:\tlearn: -0.4796816\ttotal: 2.19s\tremaining: 271ms\n",
      "178:\tlearn: -0.4804328\ttotal: 2.2s\tremaining: 259ms\n",
      "179:\tlearn: -0.4810728\ttotal: 2.22s\tremaining: 246ms\n",
      "180:\tlearn: -0.4817289\ttotal: 2.23s\tremaining: 234ms\n",
      "181:\tlearn: -0.4820343\ttotal: 2.24s\tremaining: 222ms\n",
      "182:\tlearn: -0.4821689\ttotal: 2.25s\tremaining: 209ms\n",
      "183:\tlearn: -0.4829828\ttotal: 2.26s\tremaining: 197ms\n",
      "184:\tlearn: -0.4831353\ttotal: 2.27s\tremaining: 184ms\n",
      "185:\tlearn: -0.4839128\ttotal: 2.29s\tremaining: 172ms\n",
      "186:\tlearn: -0.4842209\ttotal: 2.3s\tremaining: 160ms\n",
      "187:\tlearn: -0.4843860\ttotal: 2.31s\tremaining: 148ms\n",
      "188:\tlearn: -0.4848666\ttotal: 2.33s\tremaining: 135ms\n",
      "189:\tlearn: -0.4853992\ttotal: 2.34s\tremaining: 123ms\n",
      "190:\tlearn: -0.4859478\ttotal: 2.35s\tremaining: 111ms\n",
      "191:\tlearn: -0.4865444\ttotal: 2.36s\tremaining: 98.5ms\n",
      "192:\tlearn: -0.4871979\ttotal: 2.37s\tremaining: 86.1ms\n",
      "193:\tlearn: -0.4880902\ttotal: 2.38s\tremaining: 73.7ms\n",
      "194:\tlearn: -0.4888859\ttotal: 2.39s\tremaining: 61.4ms\n",
      "195:\tlearn: -0.4891182\ttotal: 2.4s\tremaining: 49.1ms\n",
      "196:\tlearn: -0.4892617\ttotal: 2.42s\tremaining: 36.8ms\n",
      "197:\tlearn: -0.4897479\ttotal: 2.43s\tremaining: 24.5ms\n",
      "198:\tlearn: -0.4898867\ttotal: 2.44s\tremaining: 12.2ms\n",
      "199:\tlearn: -0.4901054\ttotal: 2.45s\tremaining: 0us\n",
      "train loss: -0.4307355582714081\n",
      "val loss: -0.383795827627182\n",
      "train loss: -0.44272035360336304\n",
      "val loss: -0.39349979162216187\n",
      "train loss: -0.44258782267570496\n",
      "val loss: -0.3931508958339691\n",
      "train loss: -0.44864994287490845\n",
      "val loss: -0.395532488822937\n",
      "train loss: -0.4516427516937256\n",
      "val loss: -0.3966376781463623\n",
      "train loss: -0.45504704117774963\n",
      "val loss: -0.3975455164909363\n",
      "train loss: -0.45881855487823486\n",
      "val loss: -0.4000038206577301\n",
      "train loss: -0.5322860479354858\n",
      "val loss: -0.4886884093284607\n",
      "train loss: -0.6241893768310547\n",
      "val loss: -0.5891904830932617\n",
      "train loss: -0.6501374840736389\n",
      "val loss: -0.6202405691146851\n",
      "train loss: -0.6860796809196472\n",
      "val loss: -0.6447874903678894\n",
      "train loss: -0.6984795928001404\n",
      "val loss: -0.6718797087669373\n",
      "train loss: -0.7067636251449585\n",
      "val loss: -0.671718955039978\n",
      "train loss: -0.7211813926696777\n",
      "val loss: -0.7007789015769958\n",
      "train loss: -0.730526328086853\n",
      "val loss: -0.6874721050262451\n",
      "train loss: -0.7296009659767151\n",
      "val loss: -0.7026363611221313\n",
      "train loss: -0.7373738288879395\n",
      "val loss: -0.6832816004753113\n",
      "train loss: -0.7606762647628784\n",
      "val loss: -0.6907085180282593\n",
      "train loss: -0.7676581740379333\n",
      "val loss: -0.7062388062477112\n",
      "train loss: -0.7598971128463745\n",
      "val loss: -0.7181686758995056\n",
      "train loss: -0.7628544569015503\n",
      "val loss: -0.707761824131012\n",
      "train loss: -0.7590151429176331\n",
      "val loss: -0.7213943600654602\n",
      "train loss: -0.763974130153656\n",
      "val loss: -0.7190343737602234\n",
      "train loss: -0.7854743599891663\n",
      "val loss: -0.7160287499427795\n",
      "train loss: -0.7639302015304565\n",
      "val loss: -0.6901764273643494\n",
      "train loss: -0.7895037531852722\n",
      "val loss: -0.7098227143287659\n",
      "train loss: -0.7794221043586731\n",
      "val loss: -0.7261582612991333\n",
      "train loss: -0.8038825988769531\n",
      "val loss: -0.7393189668655396\n",
      "train loss: -0.8001706600189209\n",
      "val loss: -0.7102335095405579\n",
      "train loss: -0.7949409484863281\n",
      "val loss: -0.7183648347854614\n",
      "Loading model from epoch 27.\n",
      "CPU times: user 11h 10min 39s, sys: 2min 2s, total: 11h 12min 42s\n",
      "Wall time: 11h 2min 40s\n"
     ]
    },
    {
     "data": {
      "text/plain": [
       "TreeFlowWithoutShallow(embedding_size=3200,\n",
       "                       flow_model=<src.probabilistic_flow_boosting.tfboost.flow.flow.ContinuousNormalizingFlow object at 0x7efcd994a908>,\n",
       "                       tree_model=<src.probabilistic_flow_boosting.tfboost.tree.ecatboost.EmbeddableCatBoostPriorNormal object at 0x7efcd994a8d0>)"
      ]
     },
     "execution_count": 9,
     "metadata": {},
     "output_type": "execute_result"
    }
   ],
   "source": [
    "%time treeflow.fit(x_tr.values, y_tr.values, x_val.values, y_val.values, n_epochs=30, batch_size=1024, verbose=True)"
   ]
  },
  {
   "cell_type": "code",
   "execution_count": 10,
   "metadata": {},
   "outputs": [
    {
     "name": "stdout",
     "output_type": "stream",
     "text": [
      "CPU times: user 8min 8s, sys: 5.33 s, total: 8min 14s\n",
      "Wall time: 7min 59s\n"
     ]
    },
    {
     "data": {
      "text/plain": [
       "-0.78106695"
      ]
     },
     "execution_count": 10,
     "metadata": {},
     "output_type": "execute_result"
    }
   ],
   "source": [
    "%time calculate_nll(treeflow, x_train, y_train, batch_size = 1024)"
   ]
  },
  {
   "cell_type": "code",
   "execution_count": 12,
   "metadata": {},
   "outputs": [
    {
     "name": "stdout",
     "output_type": "stream",
     "text": [
      "CPU times: user 2min 19s, sys: 1.64 s, total: 2min 21s\n",
      "Wall time: 2min 11s\n"
     ]
    },
    {
     "data": {
      "text/plain": [
       "-0.7062259"
      ]
     },
     "execution_count": 12,
     "metadata": {},
     "output_type": "execute_result"
    }
   ],
   "source": [
    "%time calculate_nll(treeflow, x_test, y_test, batch_size = 1024)"
   ]
  }
 ],
 "metadata": {
  "kernelspec": {
   "display_name": "Python 3",
   "language": "python",
   "name": "python3"
  },
  "language_info": {
   "codemirror_mode": {
    "name": "ipython",
    "version": 3
   },
   "file_extension": ".py",
   "mimetype": "text/x-python",
   "name": "python",
   "nbconvert_exporter": "python",
   "pygments_lexer": "ipython3",
   "version": "3.6.9"
  }
 },
 "nbformat": 4,
 "nbformat_minor": 2
}
