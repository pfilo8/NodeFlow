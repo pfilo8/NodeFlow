{
 "cells": [
  {
   "cell_type": "code",
   "execution_count": 1,
   "metadata": {},
   "outputs": [],
   "source": [
    "import catboost\n",
    "import matplotlib.pyplot as plt\n",
    "import numpy as np\n",
    "import pandas as pd\n",
    "import seaborn as sns\n",
    "import scipy.stats as stats\n",
    "import sweetviz\n",
    "\n",
    "from sklearn.model_selection import train_test_split\n",
    "from nflows.distributions import ConditionalDiagonalNormal\n",
    "\n",
    "from src.probabilistic_flow_boosting.tfboost.tree import EmbeddableCatBoostPriorNormal, EmbeddableOneHotEncoder\n",
    "from src.probabilistic_flow_boosting.tfboost.tfboost import TreeFlowBoost\n",
    "from src.probabilistic_flow_boosting.tfboost.flow import ContinuousNormalizingFlow\n",
    "from src.probabilistic_flow_boosting.pipelines.reporting.nodes import calculate_nll\n",
    "\n",
    "from src.probabilistic_flow_boosting.pipelines.modeling.utils import setup_random_seed\n",
    "\n",
    "RANDOM_SEED = 5\n",
    "\n",
    "setup_random_seed(RANDOM_SEED)"
   ]
  },
  {
   "cell_type": "code",
   "execution_count": 2,
   "metadata": {},
   "outputs": [],
   "source": [
    "df = pd.read_csv('data/01_raw/CatData/laptop/laptop_price.csv', index_col=0, engine='python')"
   ]
  },
  {
   "cell_type": "code",
   "execution_count": 3,
   "metadata": {},
   "outputs": [],
   "source": [
    "df['Weight'] = pd.to_numeric(df['Weight'].str.replace('kg', ''))\n",
    "df['Ram'] = pd.to_numeric(df['Ram'].str.replace('GB', ''))"
   ]
  },
  {
   "cell_type": "code",
   "execution_count": 4,
   "metadata": {},
   "outputs": [],
   "source": [
    "x = df.drop(columns = ['Product', 'Price_euros'])\n",
    "y = np.log10(df[['Price_euros']])"
   ]
  },
  {
   "cell_type": "code",
   "execution_count": 5,
   "metadata": {},
   "outputs": [],
   "source": [
    "x_train, x_test, y_train, y_test = train_test_split(x, y, test_size = 0.2, random_state=42)\n",
    "x_tr, x_val, y_tr, y_val = train_test_split(x_train, y_train, test_size = 0.2, random_state=42)"
   ]
  },
  {
   "cell_type": "code",
   "execution_count": 6,
   "metadata": {},
   "outputs": [
    {
     "data": {
      "text/plain": [
       "((1042, 10), (261, 10))"
      ]
     },
     "execution_count": 6,
     "metadata": {},
     "output_type": "execute_result"
    }
   ],
   "source": [
    "x_train.shape, x_test.shape"
   ]
  },
  {
   "cell_type": "code",
   "execution_count": 7,
   "metadata": {},
   "outputs": [],
   "source": [
    "tree = EmbeddableOneHotEncoder(handle_unknown='ignore')\n",
    "\n",
    "flow = ContinuousNormalizingFlow(input_dim=1, hidden_dims=(100, 100, 50), context_dim=100, conditional=True)\n",
    "\n",
    "treeflow = TreeFlowBoost(tree, flow, embedding_size=100)"
   ]
  },
  {
   "cell_type": "code",
   "execution_count": 8,
   "metadata": {
    "scrolled": true
   },
   "outputs": [
    {
     "name": "stdout",
     "output_type": "stream",
     "text": [
      "train loss: 3.2222917079925537\n",
      "val loss: 1.7729004621505737\n",
      "train loss: 0.38600438833236694\n",
      "val loss: 0.30256685614585876\n",
      "train loss: 0.7481980919837952\n",
      "val loss: 1.1910451650619507\n",
      "train loss: 1.443959355354309\n",
      "val loss: 1.712947964668274\n",
      "train loss: 1.1559293270111084\n",
      "val loss: 1.1653051376342773\n",
      "train loss: 0.5228358507156372\n",
      "val loss: 0.494785338640213\n",
      "train loss: 0.16350610554218292\n",
      "val loss: 0.15999746322631836\n",
      "train loss: 0.06433457136154175\n",
      "val loss: 0.06044280156493187\n",
      "train loss: 0.0651116594672203\n",
      "val loss: 0.05712459236383438\n",
      "train loss: 0.08496250957250595\n",
      "val loss: 0.07111535966396332\n",
      "train loss: 0.09465315192937851\n",
      "val loss: 0.07099626213312149\n",
      "train loss: 0.08225344866514206\n",
      "val loss: 0.04929893836379051\n",
      "train loss: 0.051612358540296555\n",
      "val loss: 0.03311000391840935\n",
      "train loss: 0.02245158702135086\n",
      "val loss: 0.00802470650523901\n",
      "train loss: -0.009251898154616356\n",
      "val loss: -0.015717990696430206\n",
      "train loss: -0.039429083466529846\n",
      "val loss: -0.04586835205554962\n",
      "train loss: -0.07610317319631577\n",
      "val loss: -0.06359098851680756\n",
      "train loss: -0.1075710579752922\n",
      "val loss: -0.09087724983692169\n",
      "train loss: -0.13586728274822235\n",
      "val loss: -0.11445795744657516\n",
      "train loss: -0.17878682911396027\n",
      "val loss: -0.134566530585289\n",
      "train loss: -0.21511529386043549\n",
      "val loss: -0.16526152193546295\n",
      "train loss: -0.25428783893585205\n",
      "val loss: -0.19769740104675293\n",
      "train loss: -0.30269855260849\n",
      "val loss: -0.23189599812030792\n",
      "train loss: -0.34955644607543945\n",
      "val loss: -0.28517234325408936\n",
      "train loss: -0.40830957889556885\n",
      "val loss: -0.3270323574542999\n",
      "train loss: -0.4794764220714569\n",
      "val loss: -0.3828723728656769\n",
      "train loss: -0.5423159599304199\n",
      "val loss: -0.4192274808883667\n",
      "train loss: -0.6152585744857788\n",
      "val loss: -0.48732221126556396\n",
      "train loss: -0.697124719619751\n",
      "val loss: -0.5336682796478271\n",
      "train loss: -0.7741658091545105\n",
      "val loss: -0.5768918991088867\n",
      "train loss: -0.8432672619819641\n",
      "val loss: -0.6150867342948914\n",
      "train loss: -0.8842670917510986\n",
      "val loss: -0.6150833964347839\n",
      "train loss: -0.9191586971282959\n",
      "val loss: -0.6137772798538208\n",
      "train loss: -0.931503176689148\n",
      "val loss: -0.6088837385177612\n",
      "train loss: -0.9477481842041016\n",
      "val loss: -0.5971750020980835\n",
      "train loss: -0.9747834801673889\n",
      "val loss: -0.5958006381988525\n",
      "train loss: -1.0191575288772583\n",
      "val loss: -0.6502094268798828\n",
      "train loss: -1.0609736442565918\n",
      "val loss: -0.6709074974060059\n",
      "train loss: -1.1020703315734863\n",
      "val loss: -0.7173373103141785\n",
      "train loss: -1.1287137269973755\n",
      "val loss: -0.759994626045227\n",
      "train loss: -1.1570030450820923\n",
      "val loss: -0.7928934097290039\n",
      "train loss: -1.1605265140533447\n",
      "val loss: -0.7983847260475159\n",
      "train loss: -1.176844835281372\n",
      "val loss: -0.8087942600250244\n",
      "train loss: -1.1952451467514038\n",
      "val loss: -0.8341060280799866\n",
      "train loss: -1.2106951475143433\n",
      "val loss: -0.8302618265151978\n",
      "train loss: -1.230123519897461\n",
      "val loss: -0.8270412683486938\n",
      "train loss: -1.2446092367172241\n",
      "val loss: -0.8270056843757629\n",
      "train loss: -1.2669464349746704\n",
      "val loss: -0.8216558694839478\n",
      "train loss: -1.2831259965896606\n",
      "val loss: -0.8103783130645752\n",
      "train loss: -1.2997835874557495\n",
      "val loss: -0.7843359112739563\n",
      "train loss: -1.3175617456436157\n",
      "val loss: -0.7691904902458191\n",
      "train loss: -1.3307682275772095\n",
      "val loss: -0.7463402152061462\n",
      "train loss: -1.342408537864685\n",
      "val loss: -0.7156366109848022\n",
      "train loss: -1.3548963069915771\n",
      "val loss: -0.7140545845031738\n",
      "train loss: -1.3624992370605469\n",
      "val loss: -0.7099447250366211\n",
      "train loss: -1.3683182001113892\n",
      "val loss: -0.707301139831543\n",
      "train loss: -1.371295690536499\n",
      "val loss: -0.7017922401428223\n",
      "train loss: -1.3841272592544556\n",
      "val loss: -0.7058596014976501\n",
      "train loss: -1.3835221529006958\n",
      "val loss: -0.7044272422790527\n",
      "train loss: -1.3896273374557495\n",
      "val loss: -0.7095509171485901\n",
      "train loss: -1.3949095010757446\n",
      "val loss: -0.7143192291259766\n",
      "train loss: -1.3994561433792114\n",
      "val loss: -0.7220659852027893\n",
      "train loss: -1.4085439443588257\n",
      "val loss: -0.6965195536613464\n",
      "train loss: -1.4171738624572754\n",
      "val loss: -0.6854773759841919\n",
      "train loss: -1.4205756187438965\n",
      "val loss: -0.6755212545394897\n",
      "train loss: -1.4239380359649658\n",
      "val loss: -0.6869947910308838\n",
      "train loss: -1.4350603818893433\n",
      "val loss: -0.6754610538482666\n",
      "train loss: -1.464885950088501\n",
      "val loss: -0.6385224461555481\n",
      "train loss: -1.4571059942245483\n",
      "val loss: -0.6204993724822998\n",
      "train loss: -1.4536367654800415\n",
      "val loss: -0.596021831035614\n",
      "train loss: -1.4834175109863281\n",
      "val loss: -0.6242690086364746\n",
      "train loss: -1.4725922346115112\n",
      "val loss: -0.6305621862411499\n",
      "train loss: -1.4880485534667969\n",
      "val loss: -0.6326075196266174\n",
      "train loss: -1.4952218532562256\n",
      "val loss: -0.6256595849990845\n",
      "train loss: -1.5011574029922485\n",
      "val loss: -0.6046211123466492\n",
      "train loss: -1.5446453094482422\n",
      "val loss: -0.6448630094528198\n",
      "train loss: -1.5147031545639038\n",
      "val loss: -0.5375405550003052\n",
      "train loss: -1.5533753633499146\n",
      "val loss: -0.49378639459609985\n",
      "train loss: -1.5598185062408447\n",
      "val loss: -0.5847724676132202\n",
      "train loss: -1.5931787490844727\n",
      "val loss: -0.5773511528968811\n",
      "train loss: -1.589544415473938\n",
      "val loss: -0.4740275740623474\n",
      "train loss: -1.6104155778884888\n",
      "val loss: -0.38496923446655273\n",
      "train loss: -1.5849522352218628\n",
      "val loss: -0.41338229179382324\n",
      "train loss: -1.5622916221618652\n",
      "val loss: -0.5018532276153564\n",
      "train loss: -1.686607837677002\n",
      "val loss: -0.33507394790649414\n",
      "train loss: -1.5874145030975342\n",
      "val loss: -0.42411819100379944\n",
      "train loss: -1.4772647619247437\n",
      "val loss: -0.448665976524353\n",
      "train loss: -1.588679313659668\n",
      "val loss: -0.43197712302207947\n",
      "train loss: -1.6543049812316895\n",
      "val loss: -0.5580048561096191\n",
      "train loss: -1.596174955368042\n",
      "val loss: -0.4530182182788849\n",
      "train loss: -1.5928622484207153\n",
      "val loss: -0.34528928995132446\n",
      "train loss: -1.3951373100280762\n",
      "val loss: -0.4551645815372467\n",
      "train loss: -1.6817803382873535\n",
      "val loss: -0.35303252935409546\n",
      "train loss: -1.4101213216781616\n",
      "val loss: -0.46854591369628906\n",
      "train loss: -1.7241719961166382\n",
      "val loss: -0.46139049530029297\n",
      "train loss: -1.5437835454940796\n",
      "val loss: -0.23967282474040985\n",
      "train loss: -1.7251583337783813\n",
      "val loss: -0.18379104137420654\n",
      "train loss: -1.5772737264633179\n",
      "val loss: -0.17866241931915283\n",
      "train loss: -1.5634393692016602\n",
      "val loss: -0.2936584949493408\n",
      "train loss: -1.6474026441574097\n",
      "val loss: -0.2338334172964096\n",
      "Loading model from epoch 43.\n",
      "CPU times: user 7min 45s, sys: 12.2 s, total: 7min 57s\n",
      "Wall time: 42.6 s\n"
     ]
    },
    {
     "data": {
      "text/plain": [
       "TreeFlowBoost(embedding_size=100,\n",
       "              flow_model=<src.probabilistic_flow_boosting.tfboost.flow.flow.ContinuousNormalizingFlow object at 0x7f36599b20f0>,\n",
       "              tree_model=EmbeddableOneHotEncoder(handle_unknown='ignore'))"
      ]
     },
     "execution_count": 8,
     "metadata": {},
     "output_type": "execute_result"
    }
   ],
   "source": [
    "%time treeflow.fit(x_tr.values, y_tr.values, x_val.values, y_val.values, n_epochs=100, batch_size=1024, verbose=True)"
   ]
  },
  {
   "cell_type": "code",
   "execution_count": 9,
   "metadata": {},
   "outputs": [
    {
     "data": {
      "text/plain": [
       "Sequential(\n",
       "  (0): Linear(in_features=470, out_features=100, bias=True)\n",
       "  (1): Tanh()\n",
       ")"
      ]
     },
     "execution_count": 9,
     "metadata": {},
     "output_type": "execute_result"
    }
   ],
   "source": [
    "treeflow.flow_model.context_encoder"
   ]
  },
  {
   "cell_type": "code",
   "execution_count": 10,
   "metadata": {},
   "outputs": [
    {
     "name": "stdout",
     "output_type": "stream",
     "text": [
      "CPU times: user 3.24 s, sys: 56.8 ms, total: 3.3 s\n",
      "Wall time: 213 ms\n"
     ]
    },
    {
     "data": {
      "text/plain": [
       "-1.4508755"
      ]
     },
     "execution_count": 10,
     "metadata": {},
     "output_type": "execute_result"
    }
   ],
   "source": [
    "%time calculate_nll(treeflow, x_train, y_train, batch_size = 1024)"
   ]
  },
  {
   "cell_type": "code",
   "execution_count": 11,
   "metadata": {},
   "outputs": [
    {
     "name": "stdout",
     "output_type": "stream",
     "text": [
      "CPU times: user 1.46 s, sys: 32.5 ms, total: 1.5 s\n",
      "Wall time: 97.2 ms\n"
     ]
    },
    {
     "data": {
      "text/plain": [
       "-0.40516832"
      ]
     },
     "execution_count": 11,
     "metadata": {},
     "output_type": "execute_result"
    }
   ],
   "source": [
    "%time calculate_nll(treeflow, x_test, y_test, batch_size = 1024)"
   ]
  }
 ],
 "metadata": {
  "kernelspec": {
   "display_name": "Python 3",
   "language": "python",
   "name": "python3"
  },
  "language_info": {
   "codemirror_mode": {
    "name": "ipython",
    "version": 3
   },
   "file_extension": ".py",
   "mimetype": "text/x-python",
   "name": "python",
   "nbconvert_exporter": "python",
   "pygments_lexer": "ipython3",
   "version": "3.6.9"
  }
 },
 "nbformat": 4,
 "nbformat_minor": 2
}
