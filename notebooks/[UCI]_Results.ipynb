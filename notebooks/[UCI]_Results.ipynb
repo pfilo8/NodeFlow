{
 "cells": [
  {
   "cell_type": "code",
   "execution_count": 2,
   "metadata": {},
   "outputs": [],
   "source": [
    "import pandas as pd"
   ]
  },
  {
   "cell_type": "code",
   "execution_count": 20,
   "metadata": {},
   "outputs": [],
   "source": [
    "datasets = [\"concrete\", \"energy\", \"kin8nm\", \"naval_propulsion_plant\", \"power_plant\", \"protein_tertiary_structure\", \"wine_quality_red\", \"yacht\"]\n",
    "metrics = [\"nll\", \"rmse_2\", \"crps\"]\n",
    "results = []\n",
    "for dataset in datasets:\n",
    "    df = pd.read_csv(f\"gs://nodeflow/nodeflow_entmax15/08_reporting/UCI/{dataset}/summary.csv\", storage_options={\"token\": \"../conf/local/sa_token.json\"})\n",
    "    result = {\n",
    "        \"dataset\": dataset,\n",
    "    }\n",
    "    for metric in metrics:\n",
    "        mean = df.loc[(df[\"set\"] == \"test\") & (df[\"metric\"] == metric), \"mean\"].iloc[0]\n",
    "        std = df.loc[(df[\"set\"] == \"test\") & (df[\"metric\"] == metric), \"std\"].iloc[0]\n",
    "        result[metric] = f\"{mean:.2f}+-{std:.2f}\"\n",
    "    results.append(result)"
   ]
  },
  {
   "cell_type": "code",
   "execution_count": 21,
   "metadata": {},
   "outputs": [
    {
     "name": "stdout",
     "output_type": "stream",
     "text": [
      "|    | dataset                    | nll         | rmse_2     | crps          |\n",
      "|---:|:---------------------------|:------------|:-----------|:--------------|\n",
      "|  0 | concrete                   | 3.17+-0.25  | 5.69+-0.75 | 15.45+-6.57   |\n",
      "|  1 | energy                     | 0.98+-0.25  | 0.73+-0.22 | 9.50+-2.10    |\n",
      "|  2 | kin8nm                     | -1.00+-0.07 | 0.09+-0.01 | 91.75+-14.37  |\n",
      "|  3 | naval_propulsion_plant     | -5.11+-0.14 | 0.00+-0.00 | 119.16+-1.28  |\n",
      "|  4 | power_plant                | 2.64+-0.04  | 3.99+-0.14 | 96.98+-0.83   |\n",
      "|  5 | protein_tertiary_structure | 2.03+-0.03  | 4.46+-0.14 | 512.61+-18.81 |\n",
      "|  6 | wine_quality_red           | -0.02+-0.28 | 0.50+-0.08 | 20.52+-4.43   |\n",
      "|  7 | yacht                      | 1.29+-0.55  | 1.45+-0.70 | 3.74+-0.68    |\n"
     ]
    }
   ],
   "source": [
    "print(pd.DataFrame(results).to_markdown())"
   ]
  },
  {
   "cell_type": "code",
   "execution_count": null,
   "metadata": {},
   "outputs": [],
   "source": []
  }
 ],
 "metadata": {
  "kernelspec": {
   "display_name": "venv",
   "language": "python",
   "name": "python3"
  },
  "language_info": {
   "codemirror_mode": {
    "name": "ipython",
    "version": 3
   },
   "file_extension": ".py",
   "mimetype": "text/x-python",
   "name": "python",
   "nbconvert_exporter": "python",
   "pygments_lexer": "ipython3",
   "version": "3.8.10"
  }
 },
 "nbformat": 4,
 "nbformat_minor": 2
}
