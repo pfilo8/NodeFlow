{
 "cells": [
  {
   "cell_type": "code",
   "execution_count": 1,
   "metadata": {},
   "outputs": [],
   "source": [
    "import catboost\n",
    "import matplotlib.pyplot as plt\n",
    "import numpy as np\n",
    "import pandas as pd\n",
    "import seaborn as sns\n",
    "import scipy.stats as stats\n",
    "import sweetviz\n",
    "\n",
    "from sklearn.model_selection import train_test_split\n",
    "from nflows.distributions import ConditionalDiagonalNormal\n",
    "\n",
    "from src.probabilistic_flow_boosting.tfboost.tree import EmbeddableCatBoostPriorNormal, EmbeddableOneHotEncoder\n",
    "from src.probabilistic_flow_boosting.tfboost.tfboost import TreeFlowBoost\n",
    "from src.probabilistic_flow_boosting.tfboost.flow import ContinuousNormalizingFlow\n",
    "from src.probabilistic_flow_boosting.pipelines.reporting.nodes import calculate_nll\n",
    "\n",
    "from src.probabilistic_flow_boosting.pipelines.modeling.utils import setup_random_seed\n",
    "\n",
    "RANDOM_SEED = 5\n",
    "\n",
    "setup_random_seed(RANDOM_SEED)"
   ]
  },
  {
   "cell_type": "code",
   "execution_count": 2,
   "metadata": {},
   "outputs": [],
   "source": [
    "df = pd.read_csv('data/01_raw/CatData/diamonds2/diamonds_dataset.csv')"
   ]
  },
  {
   "cell_type": "code",
   "execution_count": 3,
   "metadata": {},
   "outputs": [],
   "source": [
    "x = df.drop(columns = ['id', 'url', 'price', 'date_fetched'])\n",
    "y = np.log10(df[['price']])"
   ]
  },
  {
   "cell_type": "code",
   "execution_count": 4,
   "metadata": {},
   "outputs": [],
   "source": [
    "x_train, x_test, y_train, y_test = train_test_split(x, y, test_size = 0.2, random_state=42)\n",
    "x_tr, x_val, y_tr, y_val = train_test_split(x_train, y_train, test_size = 0.2, random_state=42)"
   ]
  },
  {
   "cell_type": "code",
   "execution_count": 5,
   "metadata": {},
   "outputs": [
    {
     "data": {
      "text/plain": [
       "((95445, 7), (23862, 7))"
      ]
     },
     "execution_count": 5,
     "metadata": {},
     "output_type": "execute_result"
    }
   ],
   "source": [
    "x_train.shape, x_test.shape"
   ]
  },
  {
   "cell_type": "code",
   "execution_count": 6,
   "metadata": {},
   "outputs": [],
   "source": [
    "tree = EmbeddableOneHotEncoder(handle_unknown='ignore')\n",
    "\n",
    "flow = ContinuousNormalizingFlow(input_dim=1, hidden_dims=(100, 100, 50), context_dim=100, num_blocks=5, conditional=True)\n",
    "\n",
    "treeflow = TreeFlowBoost(tree, flow, embedding_size=100)"
   ]
  },
  {
   "cell_type": "code",
   "execution_count": 7,
   "metadata": {
    "scrolled": true
   },
   "outputs": [
    {
     "name": "stdout",
     "output_type": "stream",
     "text": [
      "train loss: 0.49053284525871277\n",
      "val loss: 0.4877220392227173\n",
      "train loss: -0.12036976963281631\n",
      "val loss: -0.09005609154701233\n",
      "train loss: -1.3124052286148071\n",
      "val loss: -1.2509196996688843\n",
      "train loss: -1.465296983718872\n",
      "val loss: -1.4238975048065186\n",
      "train loss: -1.5932127237319946\n",
      "val loss: -1.5700442790985107\n",
      "train loss: -1.6743978261947632\n",
      "val loss: -1.6016372442245483\n",
      "train loss: -1.7202945947647095\n",
      "val loss: -1.6876670122146606\n",
      "train loss: -1.7367184162139893\n",
      "val loss: -1.6935948133468628\n",
      "train loss: -1.7682219743728638\n",
      "val loss: -1.6992747783660889\n",
      "train loss: -1.7774919271469116\n",
      "val loss: -1.7305521965026855\n",
      "train loss: -1.8075511455535889\n",
      "val loss: -1.754086971282959\n",
      "train loss: -1.822334885597229\n",
      "val loss: -1.7573074102401733\n",
      "train loss: -1.8080549240112305\n",
      "val loss: -1.7386784553527832\n",
      "train loss: -1.8101378679275513\n",
      "val loss: -1.7380850315093994\n",
      "train loss: -1.8186490535736084\n",
      "val loss: -1.8118560314178467\n",
      "train loss: -1.8749128580093384\n",
      "val loss: -1.767313003540039\n",
      "train loss: -1.8630825281143188\n",
      "val loss: -1.7641948461532593\n",
      "train loss: -1.8949493169784546\n",
      "val loss: -1.8379085063934326\n",
      "train loss: -1.9113038778305054\n",
      "val loss: -1.828781008720398\n",
      "train loss: -1.906335711479187\n",
      "val loss: -1.826210856437683\n",
      "train loss: -1.9338696002960205\n",
      "val loss: -1.8542085886001587\n",
      "train loss: -1.950461745262146\n",
      "val loss: -1.8371243476867676\n",
      "train loss: -1.949336051940918\n",
      "val loss: -1.8375775814056396\n",
      "train loss: -1.95370352268219\n",
      "val loss: -1.8706494569778442\n",
      "train loss: -1.9493597745895386\n",
      "val loss: -1.8651705980300903\n",
      "train loss: -1.941148042678833\n",
      "val loss: -1.8655911684036255\n",
      "train loss: -1.9477460384368896\n",
      "val loss: -1.8469805717468262\n",
      "train loss: -1.9401098489761353\n",
      "val loss: -1.8612983226776123\n",
      "train loss: -1.9619706869125366\n",
      "val loss: -1.8630762100219727\n",
      "train loss: -1.9753988981246948\n",
      "val loss: -1.885885238647461\n",
      "Loading model from epoch 29.\n",
      "CPU times: user 17min 22s, sys: 16.8 s, total: 17min 39s\n",
      "Wall time: 12min 39s\n"
     ]
    },
    {
     "data": {
      "text/plain": [
       "TreeFlowBoost(embedding_size=100,\n",
       "              flow_model=<src.probabilistic_flow_boosting.tfboost.flow.flow.ContinuousNormalizingFlow object at 0x7f932a6f7c18>,\n",
       "              tree_model=EmbeddableOneHotEncoder(handle_unknown='ignore'))"
      ]
     },
     "execution_count": 7,
     "metadata": {},
     "output_type": "execute_result"
    }
   ],
   "source": [
    "%time treeflow.fit(x_tr.values, y_tr.values, x_val.values, y_val.values, n_epochs=30, batch_size=2048, verbose=True)"
   ]
  },
  {
   "cell_type": "code",
   "execution_count": 8,
   "metadata": {},
   "outputs": [
    {
     "data": {
      "text/plain": [
       "Sequential(\n",
       "  (0): Linear(in_features=502, out_features=100, bias=True)\n",
       "  (1): Tanh()\n",
       ")"
      ]
     },
     "execution_count": 8,
     "metadata": {},
     "output_type": "execute_result"
    }
   ],
   "source": [
    "treeflow.flow_model.context_encoder"
   ]
  },
  {
   "cell_type": "code",
   "execution_count": 9,
   "metadata": {},
   "outputs": [
    {
     "name": "stdout",
     "output_type": "stream",
     "text": [
      "CPU times: user 18 s, sys: 522 ms, total: 18.6 s\n",
      "Wall time: 14.7 s\n"
     ]
    },
    {
     "data": {
      "text/plain": [
       "-1.9325382"
      ]
     },
     "execution_count": 9,
     "metadata": {},
     "output_type": "execute_result"
    }
   ],
   "source": [
    "%time calculate_nll(treeflow, x_train, y_train, batch_size = 1024)"
   ]
  },
  {
   "cell_type": "code",
   "execution_count": 10,
   "metadata": {},
   "outputs": [
    {
     "name": "stdout",
     "output_type": "stream",
     "text": [
      "CPU times: user 6.8 s, sys: 181 ms, total: 6.98 s\n",
      "Wall time: 3.71 s\n"
     ]
    },
    {
     "data": {
      "text/plain": [
       "-1.8576276"
      ]
     },
     "execution_count": 10,
     "metadata": {},
     "output_type": "execute_result"
    }
   ],
   "source": [
    "%time calculate_nll(treeflow, x_test, y_test, batch_size = 1024)"
   ]
  }
 ],
 "metadata": {
  "kernelspec": {
   "display_name": "Python 3",
   "language": "python",
   "name": "python3"
  },
  "language_info": {
   "codemirror_mode": {
    "name": "ipython",
    "version": 3
   },
   "file_extension": ".py",
   "mimetype": "text/x-python",
   "name": "python",
   "nbconvert_exporter": "python",
   "pygments_lexer": "ipython3",
   "version": "3.6.9"
  }
 },
 "nbformat": 4,
 "nbformat_minor": 2
}
