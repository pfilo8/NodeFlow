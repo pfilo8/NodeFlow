{
 "cells": [
  {
   "cell_type": "code",
   "execution_count": 1,
   "metadata": {},
   "outputs": [
    {
     "name": "stderr",
     "output_type": "stream",
     "text": [
      "/opt/conda/lib/python3.6/site-packages/sweetviz/config.py:14: DeprecationWarning: open_text is deprecated. Use files() instead. Refer to https://importlib-resources.readthedocs.io/en/latest/using.html#migrating-from-legacy for migration advice.\n",
      "  the_open = pkg_resources.open_text(\"sweetviz\", 'sweetviz_defaults.ini')\n"
     ]
    }
   ],
   "source": [
    "import catboost\n",
    "import matplotlib.pyplot as plt\n",
    "import numpy as np\n",
    "import pandas as pd\n",
    "import seaborn as sns\n",
    "import scipy.stats as stats\n",
    "import sweetviz\n",
    "\n",
    "from sklearn.model_selection import train_test_split\n",
    "from nflows.distributions import ConditionalDiagonalNormal\n",
    "\n",
    "from src.probabilistic_flow_boosting.tfboost.tree import EmbeddableCatBoostPriorNormal, EmbeddableOneHotEncoder\n",
    "from src.probabilistic_flow_boosting.tfboost.tfboost import TreeFlowBoost\n",
    "from src.probabilistic_flow_boosting.tfboost.flow import ContinuousNormalizingFlow\n",
    "from src.probabilistic_flow_boosting.pipelines.reporting.nodes import calculate_nll\n",
    "\n",
    "from src.probabilistic_flow_boosting.pipelines.modeling.utils import setup_random_seed\n",
    "\n",
    "RANDOM_SEED = 6\n",
    "\n",
    "setup_random_seed(RANDOM_SEED)"
   ]
  },
  {
   "cell_type": "code",
   "execution_count": 2,
   "metadata": {},
   "outputs": [],
   "source": [
    "df = pd.read_csv('data/01_raw/CatData/sydney_house/SydneyHousePrices.csv')"
   ]
  },
  {
   "cell_type": "code",
   "execution_count": 3,
   "metadata": {},
   "outputs": [],
   "source": [
    "x = df.drop(columns = ['Date', 'Id', 'sellPrice'])\n",
    "y = np.log10(df[['sellPrice']])"
   ]
  },
  {
   "cell_type": "code",
   "execution_count": 4,
   "metadata": {},
   "outputs": [],
   "source": [
    "x_train, x_test, y_train, y_test = train_test_split(x, y, test_size = 0.2, random_state=42)\n",
    "x_tr, x_val, y_tr, y_val = train_test_split(x_train, y_train, test_size = 0.2, random_state=42)"
   ]
  },
  {
   "cell_type": "code",
   "execution_count": 5,
   "metadata": {},
   "outputs": [
    {
     "data": {
      "text/plain": [
       "((159603, 6), (39901, 6))"
      ]
     },
     "execution_count": 5,
     "metadata": {},
     "output_type": "execute_result"
    }
   ],
   "source": [
    "x_train.shape, x_test.shape"
   ]
  },
  {
   "cell_type": "code",
   "execution_count": 6,
   "metadata": {},
   "outputs": [],
   "source": [
    "tree = EmbeddableOneHotEncoder(handle_unknown='ignore')\n",
    "\n",
    "flow = ContinuousNormalizingFlow(input_dim=1, hidden_dims=(200, 100, 100, 50), \n",
    "                                 num_blocks=5, context_dim=100, conditional=True)\n",
    "\n",
    "treeflow = TreeFlowBoost(tree, flow, embedding_size=100)"
   ]
  },
  {
   "cell_type": "code",
   "execution_count": 7,
   "metadata": {
    "scrolled": true
   },
   "outputs": [
    {
     "name": "stdout",
     "output_type": "stream",
     "text": [
      "train loss: -0.5944143533706665\n",
      "val loss: -0.5773606896400452\n",
      "train loss: -0.6990615129470825\n",
      "val loss: -0.6973952651023865\n",
      "train loss: -0.6980648636817932\n",
      "val loss: -0.702696681022644\n",
      "train loss: -0.7341952919960022\n",
      "val loss: -0.7150513529777527\n",
      "train loss: -0.7289525866508484\n",
      "val loss: -0.7285265326499939\n",
      "train loss: -0.7520254254341125\n",
      "val loss: -0.7270306944847107\n",
      "train loss: -0.7512805461883545\n",
      "val loss: -0.7472221851348877\n",
      "train loss: -0.7484387755393982\n",
      "val loss: -0.7244043946266174\n",
      "train loss: -0.7585622668266296\n",
      "val loss: -0.7461666464805603\n",
      "train loss: -0.7700321674346924\n",
      "val loss: -0.7539765238761902\n",
      "train loss: -0.76412433385849\n",
      "val loss: -0.7553876042366028\n",
      "train loss: -0.7613753080368042\n",
      "val loss: -0.7377872467041016\n",
      "train loss: -0.7848649024963379\n",
      "val loss: -0.75248122215271\n",
      "train loss: -0.7779479622840881\n",
      "val loss: -0.7524102330207825\n",
      "train loss: -0.7632037997245789\n",
      "val loss: -0.7426278591156006\n",
      "train loss: -0.7723843455314636\n",
      "val loss: -0.7416003346443176\n",
      "train loss: -0.7756703495979309\n",
      "val loss: -0.7624959349632263\n",
      "train loss: -0.7770183682441711\n",
      "val loss: -0.7716272473335266\n",
      "train loss: -0.7724408507347107\n",
      "val loss: -0.7718592882156372\n",
      "train loss: -0.7799049615859985\n",
      "val loss: -0.75767982006073\n",
      "train loss: -0.7857800126075745\n",
      "val loss: -0.7391583919525146\n",
      "train loss: -0.7860076427459717\n",
      "val loss: -0.7564154863357544\n",
      "train loss: -0.7814654111862183\n",
      "val loss: -0.7476199865341187\n",
      "train loss: -0.7872689366340637\n",
      "val loss: -0.7583584189414978\n",
      "train loss: -0.7807965874671936\n",
      "val loss: -0.7593998908996582\n",
      "train loss: -0.7907591462135315\n",
      "val loss: -0.7690559029579163\n",
      "train loss: -0.783005952835083\n",
      "val loss: -0.7449343800544739\n",
      "train loss: -0.7920500040054321\n",
      "val loss: -0.7571828961372375\n",
      "train loss: -0.787051260471344\n",
      "val loss: -0.752375602722168\n",
      "Loading model from epoch 19.\n",
      "CPU times: user 1h 40min 55s, sys: 37.3 s, total: 1h 41min 33s\n",
      "Wall time: 1h 35min 36s\n"
     ]
    },
    {
     "data": {
      "text/plain": [
       "TreeFlowBoost(embedding_size=100,\n",
       "              flow_model=<src.probabilistic_flow_boosting.tfboost.flow.flow.ContinuousNormalizingFlow object at 0x7f93bb412fd0>,\n",
       "              tree_model=EmbeddableOneHotEncoder(handle_unknown='ignore'))"
      ]
     },
     "execution_count": 7,
     "metadata": {},
     "output_type": "execute_result"
    }
   ],
   "source": [
    "%time treeflow.fit(x_tr.values, y_tr.values, x_val.values, y_val.values, n_epochs=30, batch_size=1024, verbose=True)"
   ]
  },
  {
   "cell_type": "code",
   "execution_count": 8,
   "metadata": {},
   "outputs": [
    {
     "data": {
      "text/plain": [
       "Sequential(\n",
       "  (0): Linear(in_features=983, out_features=100, bias=True)\n",
       "  (1): Tanh()\n",
       ")"
      ]
     },
     "execution_count": 8,
     "metadata": {},
     "output_type": "execute_result"
    }
   ],
   "source": [
    "treeflow.flow_model.context_encoder"
   ]
  },
  {
   "cell_type": "code",
   "execution_count": 9,
   "metadata": {},
   "outputs": [
    {
     "name": "stdout",
     "output_type": "stream",
     "text": [
      "CPU times: user 38.3 s, sys: 1.31 s, total: 39.6 s\n",
      "Wall time: 33.7 s\n"
     ]
    },
    {
     "data": {
      "text/plain": [
       "-0.78461576"
      ]
     },
     "execution_count": 9,
     "metadata": {},
     "output_type": "execute_result"
    }
   ],
   "source": [
    "%time calculate_nll(treeflow, x_train, y_train, batch_size = 1024)"
   ]
  },
  {
   "cell_type": "code",
   "execution_count": 10,
   "metadata": {},
   "outputs": [
    {
     "name": "stdout",
     "output_type": "stream",
     "text": [
      "CPU times: user 10.7 s, sys: 405 ms, total: 11.2 s\n",
      "Wall time: 7.41 s\n"
     ]
    },
    {
     "data": {
      "text/plain": [
       "-0.74705976"
      ]
     },
     "execution_count": 10,
     "metadata": {},
     "output_type": "execute_result"
    }
   ],
   "source": [
    "%time calculate_nll(treeflow, x_test, y_test, batch_size = 1024)"
   ]
  }
 ],
 "metadata": {
  "kernelspec": {
   "display_name": "ProbabilisticFlowBoosting",
   "language": "python",
   "name": "python3"
  },
  "language_info": {
   "codemirror_mode": {
    "name": "ipython",
    "version": 3
   },
   "file_extension": ".py",
   "mimetype": "text/x-python",
   "name": "python",
   "nbconvert_exporter": "python",
   "pygments_lexer": "ipython3",
   "version": "3.6.9"
  }
 },
 "nbformat": 4,
 "nbformat_minor": 2
}
