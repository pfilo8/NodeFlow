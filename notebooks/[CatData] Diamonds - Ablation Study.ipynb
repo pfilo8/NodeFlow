{
 "cells": [
  {
   "cell_type": "code",
   "execution_count": 1,
   "metadata": {},
   "outputs": [],
   "source": [
    "import catboost\n",
    "import matplotlib.pyplot as plt\n",
    "import numpy as np\n",
    "import pandas as pd\n",
    "import seaborn as sns\n",
    "import scipy.stats as stats\n",
    "import sweetviz\n",
    "\n",
    "from sklearn.model_selection import train_test_split\n",
    "from nflows.distributions import ConditionalDiagonalNormal\n",
    "\n",
    "from src.probabilistic_flow_boosting.tfboost.tree import EmbeddableCatBoostPriorNormal, EmbeddableOneHotEncoder\n",
    "from src.probabilistic_flow_boosting.tfboost.tfboost import TreeFlowBoost\n",
    "from src.probabilistic_flow_boosting.tfboost.flow import ContinuousNormalizingFlow\n",
    "from src.probabilistic_flow_boosting.pipelines.reporting.nodes import calculate_nll\n",
    "\n",
    "from src.probabilistic_flow_boosting.pipelines.modeling.utils import setup_random_seed\n",
    "\n",
    "RANDOM_SEED = 5\n",
    "\n",
    "setup_random_seed(RANDOM_SEED)"
   ]
  },
  {
   "cell_type": "code",
   "execution_count": 2,
   "metadata": {},
   "outputs": [],
   "source": [
    "df = pd.read_csv('data/01_raw/CatData/diamonds/diamonds.csv', index_col=0)"
   ]
  },
  {
   "cell_type": "code",
   "execution_count": 3,
   "metadata": {},
   "outputs": [],
   "source": [
    "x = df.drop(columns = ['price'])\n",
    "y = np.log10(df[['price']])"
   ]
  },
  {
   "cell_type": "code",
   "execution_count": 4,
   "metadata": {},
   "outputs": [],
   "source": [
    "x_train, x_test, y_train, y_test = train_test_split(x, y, test_size = 0.2, random_state=RANDOM_SEED)\n",
    "x_tr, x_val, y_tr, y_val = train_test_split(x_train, y_train, test_size = 0.2, random_state=RANDOM_SEED)"
   ]
  },
  {
   "cell_type": "code",
   "execution_count": 5,
   "metadata": {},
   "outputs": [
    {
     "data": {
      "text/plain": [
       "((43152, 9), (10788, 9))"
      ]
     },
     "execution_count": 5,
     "metadata": {},
     "output_type": "execute_result"
    }
   ],
   "source": [
    "x_train.shape, x_test.shape"
   ]
  },
  {
   "cell_type": "code",
   "execution_count": 6,
   "metadata": {},
   "outputs": [],
   "source": [
    "tree = EmbeddableOneHotEncoder(handle_unknown='ignore')\n",
    "\n",
    "flow = ContinuousNormalizingFlow(input_dim=1, hidden_dims=(200, 100, 100, 50), \n",
    "                                 num_blocks=5, context_dim=100, conditional=True)\n",
    "\n",
    "treeflow = TreeFlowBoost(tree, flow, embedding_size=100)"
   ]
  },
  {
   "cell_type": "code",
   "execution_count": 7,
   "metadata": {
    "scrolled": true
   },
   "outputs": [
    {
     "name": "stdout",
     "output_type": "stream",
     "text": [
      "train loss: 0.25159910321235657\n",
      "val loss: 0.2535964548587799\n",
      "train loss: -1.2872874736785889\n",
      "val loss: -1.2271534204483032\n",
      "train loss: -1.5062850713729858\n",
      "val loss: -1.4050979614257812\n",
      "train loss: -1.576640009880066\n",
      "val loss: -1.4800983667373657\n",
      "train loss: -1.6313048601150513\n",
      "val loss: -1.5697342157363892\n",
      "train loss: -1.6580137014389038\n",
      "val loss: -1.5726337432861328\n",
      "train loss: -1.681809902191162\n",
      "val loss: -1.5855497121810913\n",
      "train loss: -1.6887626647949219\n",
      "val loss: -1.5832712650299072\n",
      "train loss: -1.7148464918136597\n",
      "val loss: -1.6190495491027832\n",
      "train loss: -1.710597038269043\n",
      "val loss: -1.624446988105774\n",
      "train loss: -1.7448806762695312\n",
      "val loss: -1.6535016298294067\n",
      "train loss: -1.7591785192489624\n",
      "val loss: -1.6457291841506958\n",
      "train loss: -1.7624907493591309\n",
      "val loss: -1.6599860191345215\n",
      "train loss: -1.7715531587600708\n",
      "val loss: -1.6820719242095947\n",
      "train loss: -1.8196821212768555\n",
      "val loss: -1.7107113599777222\n",
      "train loss: -1.8270525932312012\n",
      "val loss: -1.6838397979736328\n",
      "train loss: -1.8289451599121094\n",
      "val loss: -1.7116706371307373\n",
      "train loss: -1.8561962842941284\n",
      "val loss: -1.7179875373840332\n",
      "train loss: -1.867293357849121\n",
      "val loss: -1.6944828033447266\n",
      "train loss: -1.8821722269058228\n",
      "val loss: -1.7220580577850342\n",
      "train loss: -1.8807883262634277\n",
      "val loss: -1.698797583580017\n",
      "train loss: -1.893725037574768\n",
      "val loss: -1.7333179712295532\n",
      "train loss: -1.9006752967834473\n",
      "val loss: -1.723130702972412\n",
      "train loss: -1.9131231307983398\n",
      "val loss: -1.7577533721923828\n",
      "train loss: -1.9141136407852173\n",
      "val loss: -1.7267954349517822\n",
      "train loss: -1.9055429697036743\n",
      "val loss: -1.7102307081222534\n",
      "train loss: -1.9354548454284668\n",
      "val loss: -1.7374824285507202\n",
      "train loss: -1.9350221157073975\n",
      "val loss: -1.7506901025772095\n",
      "train loss: -1.9444636106491089\n",
      "val loss: -1.7577601671218872\n",
      "train loss: -1.943253517150879\n",
      "val loss: -1.738465666770935\n",
      "Loading model from epoch 28.\n"
     ]
    },
    {
     "data": {
      "text/plain": [
       "TreeFlowBoost(embedding_size=100,\n",
       "              flow_model=<src.probabilistic_flow_boosting.tfboost.flow.flow.ContinuousNormalizingFlow object at 0x7f590ae76358>,\n",
       "              tree_model=EmbeddableOneHotEncoder(handle_unknown='ignore'))"
      ]
     },
     "execution_count": 7,
     "metadata": {},
     "output_type": "execute_result"
    }
   ],
   "source": [
    "treeflow.fit(x_tr.values, y_tr.values, x_val.values, y_val.values, n_epochs=30, batch_size=1024, verbose=True)"
   ]
  },
  {
   "cell_type": "code",
   "execution_count": 8,
   "metadata": {},
   "outputs": [
    {
     "data": {
      "text/plain": [
       "Sequential(\n",
       "  (0): Linear(in_features=2010, out_features=100, bias=True)\n",
       "  (1): Tanh()\n",
       ")"
      ]
     },
     "execution_count": 8,
     "metadata": {},
     "output_type": "execute_result"
    }
   ],
   "source": [
    "treeflow.flow_model.context_encoder"
   ]
  },
  {
   "cell_type": "code",
   "execution_count": 9,
   "metadata": {},
   "outputs": [
    {
     "data": {
      "text/plain": [
       "-1.8927356"
      ]
     },
     "execution_count": 9,
     "metadata": {},
     "output_type": "execute_result"
    }
   ],
   "source": [
    "calculate_nll(treeflow, x_train, y_train, batch_size = 1024)"
   ]
  },
  {
   "cell_type": "code",
   "execution_count": 10,
   "metadata": {},
   "outputs": [
    {
     "data": {
      "text/plain": [
       "-1.7069154"
      ]
     },
     "execution_count": 10,
     "metadata": {},
     "output_type": "execute_result"
    }
   ],
   "source": [
    "calculate_nll(treeflow, x_test, y_test, batch_size = 1024)"
   ]
  }
 ],
 "metadata": {
  "kernelspec": {
   "display_name": "ProbabilisticFlowBoosting",
   "language": "python",
   "name": "python3"
  },
  "language_info": {
   "codemirror_mode": {
    "name": "ipython",
    "version": 3
   },
   "file_extension": ".py",
   "mimetype": "text/x-python",
   "name": "python",
   "nbconvert_exporter": "python",
   "pygments_lexer": "ipython3",
   "version": "3.6.9"
  }
 },
 "nbformat": 4,
 "nbformat_minor": 2
}
