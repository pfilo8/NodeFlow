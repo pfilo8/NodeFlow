{
 "cells": [
  {
   "cell_type": "code",
   "execution_count": 1,
   "metadata": {},
   "outputs": [
    {
     "name": "stderr",
     "output_type": "stream",
     "text": [
      "/opt/conda/lib/python3.6/site-packages/sweetviz/config.py:14: DeprecationWarning: open_text is deprecated. Use files() instead. Refer to https://importlib-resources.readthedocs.io/en/latest/using.html#migrating-from-legacy for migration advice.\n",
      "  the_open = pkg_resources.open_text(\"sweetviz\", 'sweetviz_defaults.ini')\n"
     ]
    }
   ],
   "source": [
    "import catboost\n",
    "import matplotlib.pyplot as plt\n",
    "import numpy as np\n",
    "import pandas as pd\n",
    "import seaborn as sns\n",
    "import scipy.stats as stats\n",
    "import sweetviz\n",
    "\n",
    "from sklearn.model_selection import train_test_split\n",
    "from nflows.distributions import ConditionalDiagonalNormal\n",
    "\n",
    "from src.probabilistic_flow_boosting.tfboost.tree import EmbeddableCatBoostPriorNormal, EmbeddableOneHotEncoder\n",
    "from src.probabilistic_flow_boosting.tfboost.tfboost import TreeFlowBoost\n",
    "from src.probabilistic_flow_boosting.tfboost.flow import ContinuousNormalizingFlow\n",
    "from src.probabilistic_flow_boosting.pipelines.reporting.nodes import calculate_nll\n",
    "\n",
    "from src.probabilistic_flow_boosting.pipelines.modeling.utils import setup_random_seed\n",
    "\n",
    "RANDOM_SEED = 5\n",
    "\n",
    "setup_random_seed(RANDOM_SEED)"
   ]
  },
  {
   "cell_type": "code",
   "execution_count": 2,
   "metadata": {},
   "outputs": [],
   "source": [
    "df = pd.read_csv('data/01_raw/CatData/avocado/avocado.csv', index_col=0)"
   ]
  },
  {
   "cell_type": "code",
   "execution_count": 3,
   "metadata": {},
   "outputs": [],
   "source": [
    "x = df.drop(columns = ['Date', 'AveragePrice'])\n",
    "y = df[['AveragePrice']]"
   ]
  },
  {
   "cell_type": "code",
   "execution_count": 4,
   "metadata": {},
   "outputs": [],
   "source": [
    "x_train, x_test, y_train, y_test = train_test_split(x, y, test_size = 0.2, random_state=RANDOM_SEED)\n",
    "x_tr, x_val, y_tr, y_val = train_test_split(x_train, y_train, test_size = 0.2, random_state=RANDOM_SEED)"
   ]
  },
  {
   "cell_type": "code",
   "execution_count": 5,
   "metadata": {},
   "outputs": [
    {
     "data": {
      "text/plain": [
       "((14599, 11), (3650, 11))"
      ]
     },
     "execution_count": 5,
     "metadata": {},
     "output_type": "execute_result"
    }
   ],
   "source": [
    "x_train.shape, x_test.shape"
   ]
  },
  {
   "cell_type": "code",
   "execution_count": 6,
   "metadata": {},
   "outputs": [],
   "source": [
    "tree = EmbeddableOneHotEncoder(handle_unknown='ignore')\n",
    "\n",
    "flow = ContinuousNormalizingFlow(input_dim=1, hidden_dims=(200, 200, 100, 50), \n",
    "                                 num_blocks=5, context_dim=100, conditional=True)\n",
    "\n",
    "treeflow = TreeFlowBoost(tree, flow, embedding_size=100)"
   ]
  },
  {
   "cell_type": "code",
   "execution_count": 7,
   "metadata": {
    "scrolled": true
   },
   "outputs": [
    {
     "name": "stdout",
     "output_type": "stream",
     "text": [
      "train loss: 0.7906872034072876\n",
      "val loss: 0.5152111649513245\n",
      "train loss: 0.41929954290390015\n",
      "val loss: 0.46670013666152954\n",
      "train loss: 0.11511001735925674\n",
      "val loss: 0.43532973527908325\n",
      "train loss: -0.3087172210216522\n",
      "val loss: 0.8091915845870972\n",
      "train loss: -0.7739049196243286\n",
      "val loss: 1.4377697706222534\n",
      "train loss: -1.3526742458343506\n",
      "val loss: 2.2293899059295654\n",
      "train loss: -1.0905277729034424\n",
      "val loss: 1.1892861127853394\n",
      "train loss: -0.9489802718162537\n",
      "val loss: 1.0897233486175537\n",
      "train loss: -1.143115520477295\n",
      "val loss: 1.49009108543396\n",
      "train loss: -1.338901400566101\n",
      "val loss: 1.7425740957260132\n",
      "train loss: -1.4264782667160034\n",
      "val loss: 1.709668755531311\n",
      "train loss: -1.3676371574401855\n",
      "val loss: 1.5509556531906128\n",
      "train loss: -1.3279303312301636\n",
      "val loss: 1.5048450231552124\n",
      "train loss: -1.2836774587631226\n",
      "val loss: 1.5272753238677979\n",
      "train loss: -1.3537825345993042\n",
      "val loss: 1.6036006212234497\n",
      "train loss: -1.3392995595932007\n",
      "val loss: 1.6194915771484375\n",
      "train loss: -1.3009791374206543\n",
      "val loss: 1.4900684356689453\n",
      "train loss: -1.2523809671401978\n",
      "val loss: 1.478538155555725\n",
      "train loss: -1.1922208070755005\n",
      "val loss: 1.5987435579299927\n",
      "train loss: -1.1537822484970093\n",
      "val loss: 1.590166449546814\n",
      "train loss: -1.2407859563827515\n",
      "val loss: 1.5735620260238647\n",
      "train loss: -1.3044779300689697\n",
      "val loss: 1.567745327949524\n",
      "train loss: -1.3345720767974854\n",
      "val loss: 1.6006931066513062\n",
      "train loss: -1.328870415687561\n",
      "val loss: 1.6711584329605103\n",
      "train loss: -1.2903717756271362\n",
      "val loss: 1.7200309038162231\n",
      "train loss: -1.3218910694122314\n",
      "val loss: 1.76676607131958\n",
      "train loss: -1.4231704473495483\n",
      "val loss: 1.8293688297271729\n",
      "train loss: -1.4299358129501343\n",
      "val loss: 1.8313159942626953\n",
      "train loss: -1.4131642580032349\n",
      "val loss: 1.8171651363372803\n",
      "train loss: -1.3355724811553955\n",
      "val loss: 1.8302055597305298\n",
      "train loss: -1.4345496892929077\n",
      "val loss: 1.8507330417633057\n",
      "train loss: -1.35008704662323\n",
      "val loss: 1.8495575189590454\n",
      "train loss: -1.379065752029419\n",
      "val loss: 1.9535139799118042\n",
      "train loss: -1.3642849922180176\n",
      "val loss: 1.8938618898391724\n",
      "train loss: -1.398823857307434\n",
      "val loss: 1.9093067646026611\n",
      "train loss: -1.4215903282165527\n",
      "val loss: 1.9918363094329834\n",
      "train loss: -1.3752068281173706\n",
      "val loss: 1.9795323610305786\n",
      "train loss: -1.466478943824768\n",
      "val loss: 2.1049740314483643\n",
      "train loss: -1.4255856275558472\n",
      "val loss: 2.0492494106292725\n",
      "train loss: -1.4687014818191528\n",
      "val loss: 2.1278233528137207\n",
      "train loss: -1.4709458351135254\n",
      "val loss: 2.1721065044403076\n",
      "train loss: -1.4599759578704834\n",
      "val loss: 2.2434511184692383\n",
      "train loss: -1.5064873695373535\n",
      "val loss: 2.2960376739501953\n",
      "train loss: -1.4620084762573242\n",
      "val loss: 2.301820755004883\n",
      "train loss: -1.5450600385665894\n",
      "val loss: 2.1628267765045166\n",
      "train loss: -1.5730128288269043\n",
      "val loss: 2.2849464416503906\n",
      "train loss: -1.517980694770813\n",
      "val loss: 2.216892719268799\n",
      "train loss: -1.551406741142273\n",
      "val loss: 2.1300594806671143\n",
      "train loss: -1.531347632408142\n",
      "val loss: 2.1451101303100586\n",
      "train loss: -1.4993237257003784\n",
      "val loss: 2.264038324356079\n",
      "Loading model from epoch 2.\n",
      "CPU times: user 10min 22s, sys: 3min 50s, total: 14min 13s\n",
      "Wall time: 5min 20s\n"
     ]
    },
    {
     "data": {
      "text/plain": [
       "TreeFlowBoost(embedding_size=100,\n",
       "              flow_model=<src.probabilistic_flow_boosting.tfboost.flow.flow.ContinuousNormalizingFlow object at 0x7f299caaf710>,\n",
       "              tree_model=EmbeddableOneHotEncoder(handle_unknown='ignore'))"
      ]
     },
     "execution_count": 7,
     "metadata": {},
     "output_type": "execute_result"
    }
   ],
   "source": [
    "%time treeflow.fit(x_tr.values, y_tr.values, x_val.values, y_val.values, n_epochs=50, batch_size=2048, verbose=True)"
   ]
  },
  {
   "cell_type": "code",
   "execution_count": 8,
   "metadata": {},
   "outputs": [
    {
     "data": {
      "text/plain": [
       "Sequential(\n",
       "  (0): Linear(in_features=78795, out_features=100, bias=True)\n",
       "  (1): Tanh()\n",
       ")"
      ]
     },
     "execution_count": 8,
     "metadata": {},
     "output_type": "execute_result"
    }
   ],
   "source": [
    "treeflow.flow_model.context_encoder"
   ]
  },
  {
   "cell_type": "code",
   "execution_count": 9,
   "metadata": {},
   "outputs": [
    {
     "name": "stdout",
     "output_type": "stream",
     "text": [
      "CPU times: user 8.08 s, sys: 5.12 s, total: 13.2 s\n",
      "Wall time: 5.29 s\n"
     ]
    },
    {
     "data": {
      "text/plain": [
       "-0.9765982"
      ]
     },
     "execution_count": 9,
     "metadata": {},
     "output_type": "execute_result"
    }
   ],
   "source": [
    "%time calculate_nll(treeflow, x_train, y_train, batch_size = 1024)"
   ]
  },
  {
   "cell_type": "code",
   "execution_count": 10,
   "metadata": {},
   "outputs": [
    {
     "name": "stdout",
     "output_type": "stream",
     "text": [
      "CPU times: user 4.37 s, sys: 1.32 s, total: 5.69 s\n",
      "Wall time: 1.46 s\n"
     ]
    },
    {
     "data": {
      "text/plain": [
       "1.4423742"
      ]
     },
     "execution_count": 10,
     "metadata": {},
     "output_type": "execute_result"
    }
   ],
   "source": [
    "%time calculate_nll(treeflow, x_test, y_test, batch_size = 1024)"
   ]
  }
 ],
 "metadata": {
  "kernelspec": {
   "display_name": "Python 3 (ipykernel)",
   "language": "python",
   "name": "python3"
  },
  "language_info": {
   "codemirror_mode": {
    "name": "ipython",
    "version": 3
   },
   "file_extension": ".py",
   "mimetype": "text/x-python",
   "name": "python",
   "nbconvert_exporter": "python",
   "pygments_lexer": "ipython3",
   "version": "3.9.12"
  }
 },
 "nbformat": 4,
 "nbformat_minor": 4
}
