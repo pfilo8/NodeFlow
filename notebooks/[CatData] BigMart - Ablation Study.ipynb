{
 "cells": [
  {
   "cell_type": "code",
   "execution_count": 1,
   "metadata": {},
   "outputs": [],
   "source": [
    "import catboost\n",
    "import matplotlib.pyplot as plt\n",
    "import numpy as np\n",
    "import pandas as pd\n",
    "import seaborn as sns\n",
    "import scipy.stats as stats\n",
    "import sweetviz\n",
    "\n",
    "from sklearn.model_selection import train_test_split\n",
    "from nflows.distributions import ConditionalDiagonalNormal\n",
    "\n",
    "from src.probabilistic_flow_boosting.tfboost.tree import EmbeddableCatBoostPriorNormal, EmbeddableOneHotEncoder\n",
    "from src.probabilistic_flow_boosting.tfboost.tfboost import TreeFlowBoost\n",
    "from src.probabilistic_flow_boosting.tfboost.flow import ContinuousNormalizingFlow\n",
    "from src.probabilistic_flow_boosting.pipelines.reporting.nodes import calculate_nll\n",
    "\n",
    "from src.probabilistic_flow_boosting.pipelines.modeling.utils import setup_random_seed\n",
    "\n",
    "RANDOM_SEED = 5\n",
    "\n",
    "setup_random_seed(RANDOM_SEED)"
   ]
  },
  {
   "cell_type": "code",
   "execution_count": 2,
   "metadata": {},
   "outputs": [],
   "source": [
    "df = pd.read_csv('data/01_raw/CatData/bigmart/bigmart.csv')\n",
    "df['Outlet_Size'] = df['Outlet_Size'].fillna('')"
   ]
  },
  {
   "cell_type": "code",
   "execution_count": 3,
   "metadata": {},
   "outputs": [],
   "source": [
    "x = df.drop(columns = ['Item_Identifier', 'Item_Outlet_Sales'])\n",
    "y = np.log10(df[['Item_Outlet_Sales']])"
   ]
  },
  {
   "cell_type": "code",
   "execution_count": 4,
   "metadata": {},
   "outputs": [],
   "source": [
    "x_train, x_test, y_train, y_test = train_test_split(x, y, test_size = 0.2, random_state=RANDOM_SEED)\n",
    "x_tr, x_val, y_tr, y_val = train_test_split(x_train, y_train, test_size = 0.2, random_state=RANDOM_SEED)"
   ]
  },
  {
   "cell_type": "code",
   "execution_count": 5,
   "metadata": {},
   "outputs": [
    {
     "data": {
      "text/plain": [
       "((6818, 10), (1705, 10))"
      ]
     },
     "execution_count": 5,
     "metadata": {},
     "output_type": "execute_result"
    }
   ],
   "source": [
    "x_train.shape, x_test.shape"
   ]
  },
  {
   "cell_type": "code",
   "execution_count": 6,
   "metadata": {},
   "outputs": [],
   "source": [
    "tree = EmbeddableOneHotEncoder(handle_unknown='ignore')\n",
    "\n",
    "flow = ContinuousNormalizingFlow(input_dim=1, hidden_dims=(200, 200, 100, 50), \n",
    "                                 num_blocks=5, context_dim=100, conditional=True)\n",
    "\n",
    "treeflow = TreeFlowBoost(tree, flow, embedding_size=100)"
   ]
  },
  {
   "cell_type": "code",
   "execution_count": 7,
   "metadata": {
    "scrolled": true
   },
   "outputs": [
    {
     "name": "stdout",
     "output_type": "stream",
     "text": [
      "train loss: 1.8014585971832275\n",
      "val loss: 0.6603795289993286\n",
      "train loss: 0.7233642339706421\n",
      "val loss: 0.7000609040260315\n",
      "train loss: 0.5211040377616882\n",
      "val loss: 0.5605458617210388\n",
      "train loss: 0.46064162254333496\n",
      "val loss: 0.525473415851593\n",
      "train loss: 0.3091070055961609\n",
      "val loss: 0.46055570244789124\n",
      "train loss: 0.053367119282484055\n",
      "val loss: 0.4002683758735657\n",
      "train loss: -0.16838619112968445\n",
      "val loss: 0.5585408806800842\n",
      "train loss: -0.4493491053581238\n",
      "val loss: 0.7991998791694641\n",
      "train loss: -0.8942146897315979\n",
      "val loss: 1.11782968044281\n",
      "train loss: -1.0229706764221191\n",
      "val loss: 1.1887085437774658\n",
      "train loss: -0.9945207834243774\n",
      "val loss: 1.3554311990737915\n",
      "train loss: -1.1414368152618408\n",
      "val loss: 1.626350998878479\n",
      "train loss: -1.2368595600128174\n",
      "val loss: 1.9534368515014648\n",
      "train loss: -1.245989203453064\n",
      "val loss: 1.5981853008270264\n",
      "train loss: -1.2558151483535767\n",
      "val loss: 1.4987298250198364\n",
      "train loss: -1.2536827325820923\n",
      "val loss: 1.4748587608337402\n",
      "train loss: -1.3801389932632446\n",
      "val loss: 1.5975563526153564\n",
      "train loss: -1.309376835823059\n",
      "val loss: 1.7724801301956177\n",
      "train loss: -1.2059344053268433\n",
      "val loss: 1.5702900886535645\n",
      "train loss: -1.169616460800171\n",
      "val loss: 1.539138913154602\n",
      "Loading model from epoch 5.\n",
      "CPU times: user 1h 21min 4s, sys: 1min 25s, total: 1h 22min 30s\n",
      "Wall time: 5min 9s\n"
     ]
    },
    {
     "data": {
      "text/plain": [
       "TreeFlowBoost(embedding_size=100,\n",
       "              flow_model=<src.probabilistic_flow_boosting.tfboost.flow.flow.ContinuousNormalizingFlow object at 0x7f603e19e080>,\n",
       "              tree_model=EmbeddableOneHotEncoder(handle_unknown='ignore'))"
      ]
     },
     "execution_count": 7,
     "metadata": {},
     "output_type": "execute_result"
    }
   ],
   "source": [
    "%time treeflow.fit(x_tr.values, y_tr.values, x_val.values, y_val.values, n_epochs=20, batch_size=1024, verbose=True)"
   ]
  },
  {
   "cell_type": "code",
   "execution_count": 8,
   "metadata": {},
   "outputs": [
    {
     "data": {
      "text/plain": [
       "Sequential(\n",
       "  (0): Linear(in_features=9831, out_features=100, bias=True)\n",
       "  (1): Tanh()\n",
       ")"
      ]
     },
     "execution_count": 8,
     "metadata": {},
     "output_type": "execute_result"
    }
   ],
   "source": [
    "treeflow.flow_model.context_encoder"
   ]
  },
  {
   "cell_type": "code",
   "execution_count": 9,
   "metadata": {},
   "outputs": [
    {
     "data": {
      "text/plain": [
       "-0.6209551"
      ]
     },
     "execution_count": 9,
     "metadata": {},
     "output_type": "execute_result"
    }
   ],
   "source": [
    "calculate_nll(treeflow, x_train, y_train, batch_size = 1024)"
   ]
  },
  {
   "cell_type": "code",
   "execution_count": 10,
   "metadata": {},
   "outputs": [
    {
     "data": {
      "text/plain": [
       "1.1821038"
      ]
     },
     "execution_count": 10,
     "metadata": {},
     "output_type": "execute_result"
    }
   ],
   "source": [
    "calculate_nll(treeflow, x_test, y_test, batch_size = 1024)"
   ]
  }
 ],
 "metadata": {
  "kernelspec": {
   "display_name": "Python 3",
   "language": "python",
   "name": "python3"
  },
  "language_info": {
   "codemirror_mode": {
    "name": "ipython",
    "version": 3
   },
   "file_extension": ".py",
   "mimetype": "text/x-python",
   "name": "python",
   "nbconvert_exporter": "python",
   "pygments_lexer": "ipython3",
   "version": "3.6.9"
  }
 },
 "nbformat": 4,
 "nbformat_minor": 2
}
