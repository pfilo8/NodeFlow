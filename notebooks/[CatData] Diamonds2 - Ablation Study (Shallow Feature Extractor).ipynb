{
 "cells": [
  {
   "cell_type": "code",
   "execution_count": 1,
   "metadata": {},
   "outputs": [],
   "source": [
    "from typing import Union\n",
    "\n",
    "import catboost\n",
    "import matplotlib.pyplot as plt\n",
    "import numpy as np\n",
    "import pandas as pd\n",
    "import seaborn as sns\n",
    "import scipy.stats as stats\n",
    "import torch.nn as nn\n",
    "\n",
    "from sklearn.model_selection import train_test_split\n",
    "from nflows.distributions import ConditionalDiagonalNormal\n",
    "\n",
    "from src.probabilistic_flow_boosting.tfboost.tree import EmbeddableCatBoostPriorNormal\n",
    "from src.probabilistic_flow_boosting.tfboost.tfboost import TreeFlowBoost\n",
    "from src.probabilistic_flow_boosting.tfboost.flow import ContinuousNormalizingFlow\n",
    "from src.probabilistic_flow_boosting.pipelines.reporting.nodes import calculate_nll\n",
    "\n",
    "from src.probabilistic_flow_boosting.pipelines.modeling.utils import setup_random_seed\n",
    "\n",
    "RANDOM_SEED = 1\n",
    "\n",
    "setup_random_seed(RANDOM_SEED)"
   ]
  },
  {
   "cell_type": "code",
   "execution_count": 2,
   "metadata": {},
   "outputs": [],
   "source": [
    "df = pd.read_csv('data/01_raw/CatData/diamonds2/diamonds_dataset.csv')"
   ]
  },
  {
   "cell_type": "code",
   "execution_count": 3,
   "metadata": {},
   "outputs": [],
   "source": [
    "x = df.drop(columns = ['id', 'url', 'price', 'date_fetched'])\n",
    "y = np.log10(df[['price']])"
   ]
  },
  {
   "cell_type": "code",
   "execution_count": 4,
   "metadata": {},
   "outputs": [],
   "source": [
    "x_train, x_test, y_train, y_test = train_test_split(x, y, test_size = 0.2, random_state=42)\n",
    "x_tr, x_val, y_tr, y_val = train_test_split(x_train, y_train, test_size = 0.2, random_state=42)"
   ]
  },
  {
   "cell_type": "code",
   "execution_count": 5,
   "metadata": {},
   "outputs": [
    {
     "data": {
      "text/plain": [
       "((95445, 7), (23862, 7))"
      ]
     },
     "execution_count": 5,
     "metadata": {},
     "output_type": "execute_result"
    }
   ],
   "source": [
    "x_train.shape, x_test.shape"
   ]
  },
  {
   "cell_type": "code",
   "execution_count": 6,
   "metadata": {},
   "outputs": [],
   "source": [
    "class TreeFlowWithoutShallow(TreeFlowBoost):\n",
    "    \n",
    "    def fit(self, X: np.ndarray, y: np.ndarray, X_val: Union[np.ndarray, None] = None,\n",
    "            y_val: Union[np.ndarray, None] = None, n_epochs: int = 100, batch_size: int = 1000, verbose: bool = False):\n",
    "        self.tree_model.fit(X, y)\n",
    "\n",
    "        context: np.ndarray = self.tree_model.embed(X)\n",
    "        params: np.ndarray = self.tree_model.pred_dist_param(X)\n",
    "        y: np.ndarray = y if len(y.shape) == 2 else y.reshape(-1, 1)\n",
    "\n",
    "        if X_val is not None and y_val is not None:\n",
    "            context_val: np.ndarray = self.tree_model.embed(X_val)\n",
    "            params_val: np.ndarray = self.tree_model.pred_dist_param(X_val)\n",
    "            y_val: np.ndarray = y_val if len(y_val.shape) == 2 else y_val.reshape(-1, 1)\n",
    "        else:\n",
    "            context_val = None\n",
    "            params_val = None\n",
    "            y_val = None\n",
    "\n",
    "        self.flow_model.setup_context_encoder(nn.Identity())\n",
    "\n",
    "        self.flow_model.fit(y, context, params, y_val, context_val, params_val, n_epochs=n_epochs,\n",
    "                            batch_size=batch_size, verbose=verbose)\n",
    "        return self\n"
   ]
  },
  {
   "cell_type": "code",
   "execution_count": 7,
   "metadata": {},
   "outputs": [],
   "source": [
    "depth = 4\n",
    "num_trees = 200\n",
    "context_dim = num_trees*2**depth\n",
    "\n",
    "tree = EmbeddableCatBoostPriorNormal(\n",
    "    cat_features=[0, 2, 3, 4, 5, 6], \n",
    "    loss_function=\"RMSEWithUncertainty\",\n",
    "    depth=depth,\n",
    "    num_trees=num_trees,\n",
    "    random_state=RANDOM_SEED\n",
    ")\n",
    "flow = ContinuousNormalizingFlow(input_dim=1, hidden_dims=(200, 200, 100, 50), \n",
    "                                 num_blocks=5, context_dim=context_dim, conditional=True)\n",
    "\n",
    "treeflow = TreeFlowWithoutShallow(tree, flow, embedding_size=context_dim)"
   ]
  },
  {
   "cell_type": "code",
   "execution_count": 8,
   "metadata": {
    "scrolled": true
   },
   "outputs": [
    {
     "name": "stdout",
     "output_type": "stream",
     "text": [
      "0:\tlearn: 0.4777632\ttotal: 62.2ms\tremaining: 12.4s\n",
      "1:\tlearn: 0.4378460\ttotal: 76.8ms\tremaining: 7.6s\n",
      "2:\tlearn: 0.4033551\ttotal: 90ms\tremaining: 5.91s\n",
      "3:\tlearn: 0.3773403\ttotal: 105ms\tremaining: 5.13s\n",
      "4:\tlearn: 0.3495352\ttotal: 119ms\tremaining: 4.64s\n",
      "5:\tlearn: 0.3231689\ttotal: 132ms\tremaining: 4.27s\n",
      "6:\tlearn: 0.2991023\ttotal: 144ms\tremaining: 3.98s\n",
      "7:\tlearn: 0.2755703\ttotal: 155ms\tremaining: 3.72s\n",
      "8:\tlearn: 0.2528433\ttotal: 167ms\tremaining: 3.54s\n",
      "9:\tlearn: 0.2306212\ttotal: 179ms\tremaining: 3.41s\n",
      "10:\tlearn: 0.2110095\ttotal: 191ms\tremaining: 3.27s\n",
      "11:\tlearn: 0.1936577\ttotal: 202ms\tremaining: 3.17s\n",
      "12:\tlearn: 0.1764162\ttotal: 214ms\tremaining: 3.07s\n",
      "13:\tlearn: 0.1555244\ttotal: 225ms\tremaining: 2.99s\n",
      "14:\tlearn: 0.1356510\ttotal: 237ms\tremaining: 2.92s\n",
      "15:\tlearn: 0.1153216\ttotal: 250ms\tremaining: 2.87s\n",
      "16:\tlearn: 0.0953899\ttotal: 261ms\tremaining: 2.81s\n",
      "17:\tlearn: 0.0775564\ttotal: 274ms\tremaining: 2.77s\n",
      "18:\tlearn: 0.0598135\ttotal: 286ms\tremaining: 2.72s\n",
      "19:\tlearn: 0.0406675\ttotal: 299ms\tremaining: 2.69s\n",
      "20:\tlearn: 0.0229469\ttotal: 311ms\tremaining: 2.65s\n",
      "21:\tlearn: 0.0045765\ttotal: 323ms\tremaining: 2.61s\n",
      "22:\tlearn: -0.0130430\ttotal: 335ms\tremaining: 2.58s\n",
      "23:\tlearn: -0.0307798\ttotal: 346ms\tremaining: 2.54s\n",
      "24:\tlearn: -0.0484691\ttotal: 364ms\tremaining: 2.55s\n",
      "25:\tlearn: -0.0662840\ttotal: 376ms\tremaining: 2.51s\n",
      "26:\tlearn: -0.0833429\ttotal: 388ms\tremaining: 2.48s\n",
      "27:\tlearn: -0.1004891\ttotal: 399ms\tremaining: 2.45s\n",
      "28:\tlearn: -0.1172362\ttotal: 410ms\tremaining: 2.42s\n",
      "29:\tlearn: -0.1327419\ttotal: 421ms\tremaining: 2.39s\n",
      "30:\tlearn: -0.1480358\ttotal: 434ms\tremaining: 2.37s\n",
      "31:\tlearn: -0.1648470\ttotal: 445ms\tremaining: 2.34s\n",
      "32:\tlearn: -0.1810495\ttotal: 460ms\tremaining: 2.33s\n",
      "33:\tlearn: -0.1962459\ttotal: 475ms\tremaining: 2.32s\n",
      "34:\tlearn: -0.2113242\ttotal: 487ms\tremaining: 2.3s\n",
      "35:\tlearn: -0.2288062\ttotal: 501ms\tremaining: 2.28s\n",
      "36:\tlearn: -0.2455512\ttotal: 514ms\tremaining: 2.26s\n",
      "37:\tlearn: -0.2612657\ttotal: 524ms\tremaining: 2.23s\n",
      "38:\tlearn: -0.2759603\ttotal: 535ms\tremaining: 2.21s\n",
      "39:\tlearn: -0.2925562\ttotal: 547ms\tremaining: 2.19s\n",
      "40:\tlearn: -0.3081882\ttotal: 558ms\tremaining: 2.16s\n",
      "41:\tlearn: -0.3249381\ttotal: 568ms\tremaining: 2.14s\n",
      "42:\tlearn: -0.3397460\ttotal: 577ms\tremaining: 2.11s\n",
      "43:\tlearn: -0.3543842\ttotal: 588ms\tremaining: 2.08s\n",
      "44:\tlearn: -0.3681553\ttotal: 602ms\tremaining: 2.07s\n",
      "45:\tlearn: -0.3823821\ttotal: 614ms\tremaining: 2.05s\n",
      "46:\tlearn: -0.3974943\ttotal: 627ms\tremaining: 2.04s\n",
      "47:\tlearn: -0.4112288\ttotal: 639ms\tremaining: 2.02s\n",
      "48:\tlearn: -0.4245065\ttotal: 650ms\tremaining: 2s\n",
      "49:\tlearn: -0.4394399\ttotal: 661ms\tremaining: 1.98s\n",
      "50:\tlearn: -0.4531015\ttotal: 672ms\tremaining: 1.96s\n",
      "51:\tlearn: -0.4679636\ttotal: 683ms\tremaining: 1.94s\n",
      "52:\tlearn: -0.4807119\ttotal: 693ms\tremaining: 1.92s\n",
      "53:\tlearn: -0.4917415\ttotal: 706ms\tremaining: 1.91s\n",
      "54:\tlearn: -0.5024522\ttotal: 718ms\tremaining: 1.89s\n",
      "55:\tlearn: -0.5150882\ttotal: 728ms\tremaining: 1.87s\n",
      "56:\tlearn: -0.5279310\ttotal: 740ms\tremaining: 1.85s\n",
      "57:\tlearn: -0.5405564\ttotal: 750ms\tremaining: 1.84s\n",
      "58:\tlearn: -0.5508789\ttotal: 761ms\tremaining: 1.82s\n",
      "59:\tlearn: -0.5638779\ttotal: 771ms\tremaining: 1.8s\n",
      "60:\tlearn: -0.5752688\ttotal: 781ms\tremaining: 1.78s\n",
      "61:\tlearn: -0.5882325\ttotal: 793ms\tremaining: 1.76s\n",
      "62:\tlearn: -0.6006377\ttotal: 804ms\tremaining: 1.75s\n",
      "63:\tlearn: -0.6130660\ttotal: 814ms\tremaining: 1.73s\n",
      "64:\tlearn: -0.6219117\ttotal: 827ms\tremaining: 1.72s\n",
      "65:\tlearn: -0.6327537\ttotal: 839ms\tremaining: 1.7s\n",
      "66:\tlearn: -0.6446833\ttotal: 851ms\tremaining: 1.69s\n",
      "67:\tlearn: -0.6558565\ttotal: 867ms\tremaining: 1.68s\n",
      "68:\tlearn: -0.6689052\ttotal: 880ms\tremaining: 1.67s\n",
      "69:\tlearn: -0.6801093\ttotal: 891ms\tremaining: 1.65s\n",
      "70:\tlearn: -0.6908602\ttotal: 904ms\tremaining: 1.64s\n",
      "71:\tlearn: -0.7025891\ttotal: 913ms\tremaining: 1.62s\n",
      "72:\tlearn: -0.7106063\ttotal: 921ms\tremaining: 1.6s\n",
      "73:\tlearn: -0.7220014\ttotal: 931ms\tremaining: 1.58s\n",
      "74:\tlearn: -0.7288400\ttotal: 941ms\tremaining: 1.57s\n",
      "75:\tlearn: -0.7389320\ttotal: 950ms\tremaining: 1.55s\n",
      "76:\tlearn: -0.7435958\ttotal: 954ms\tremaining: 1.52s\n",
      "77:\tlearn: -0.7479228\ttotal: 957ms\tremaining: 1.5s\n",
      "78:\tlearn: -0.7565064\ttotal: 970ms\tremaining: 1.49s\n",
      "79:\tlearn: -0.7662665\ttotal: 979ms\tremaining: 1.47s\n",
      "80:\tlearn: -0.7738199\ttotal: 991ms\tremaining: 1.46s\n",
      "81:\tlearn: -0.7819177\ttotal: 1s\tremaining: 1.44s\n",
      "82:\tlearn: -0.7908838\ttotal: 1.01s\tremaining: 1.43s\n",
      "83:\tlearn: -0.7974723\ttotal: 1.02s\tremaining: 1.41s\n",
      "84:\tlearn: -0.8088595\ttotal: 1.03s\tremaining: 1.4s\n",
      "85:\tlearn: -0.8196974\ttotal: 1.04s\tremaining: 1.39s\n",
      "86:\tlearn: -0.8294176\ttotal: 1.06s\tremaining: 1.37s\n",
      "87:\tlearn: -0.8397527\ttotal: 1.07s\tremaining: 1.36s\n",
      "88:\tlearn: -0.8485491\ttotal: 1.08s\tremaining: 1.35s\n",
      "89:\tlearn: -0.8573510\ttotal: 1.09s\tremaining: 1.34s\n",
      "90:\tlearn: -0.8659932\ttotal: 1.1s\tremaining: 1.32s\n",
      "91:\tlearn: -0.8742442\ttotal: 1.11s\tremaining: 1.31s\n",
      "92:\tlearn: -0.8809422\ttotal: 1.13s\tremaining: 1.3s\n",
      "93:\tlearn: -0.8878133\ttotal: 1.14s\tremaining: 1.28s\n",
      "94:\tlearn: -0.8949986\ttotal: 1.15s\tremaining: 1.27s\n",
      "95:\tlearn: -0.9055153\ttotal: 1.16s\tremaining: 1.26s\n",
      "96:\tlearn: -0.9142297\ttotal: 1.17s\tremaining: 1.25s\n",
      "97:\tlearn: -0.9201248\ttotal: 1.18s\tremaining: 1.23s\n",
      "98:\tlearn: -0.9270937\ttotal: 1.19s\tremaining: 1.22s\n",
      "99:\tlearn: -0.9358687\ttotal: 1.2s\tremaining: 1.2s\n",
      "100:\tlearn: -0.9421804\ttotal: 1.21s\tremaining: 1.19s\n",
      "101:\tlearn: -0.9482816\ttotal: 1.22s\tremaining: 1.18s\n",
      "102:\tlearn: -0.9547079\ttotal: 1.24s\tremaining: 1.16s\n",
      "103:\tlearn: -0.9622408\ttotal: 1.25s\tremaining: 1.15s\n",
      "104:\tlearn: -0.9674889\ttotal: 1.26s\tremaining: 1.14s\n",
      "105:\tlearn: -0.9733935\ttotal: 1.27s\tremaining: 1.13s\n",
      "106:\tlearn: -0.9789365\ttotal: 1.28s\tremaining: 1.11s\n",
      "107:\tlearn: -0.9836378\ttotal: 1.29s\tremaining: 1.1s\n",
      "108:\tlearn: -0.9882739\ttotal: 1.3s\tremaining: 1.08s\n",
      "109:\tlearn: -0.9955635\ttotal: 1.31s\tremaining: 1.07s\n",
      "110:\tlearn: -1.0018773\ttotal: 1.32s\tremaining: 1.06s\n",
      "111:\tlearn: -1.0089833\ttotal: 1.33s\tremaining: 1.05s\n",
      "112:\tlearn: -1.0136335\ttotal: 1.34s\tremaining: 1.03s\n",
      "113:\tlearn: -1.0171214\ttotal: 1.35s\tremaining: 1.02s\n",
      "114:\tlearn: -1.0220177\ttotal: 1.37s\tremaining: 1.01s\n",
      "115:\tlearn: -1.0270874\ttotal: 1.38s\tremaining: 1000ms\n",
      "116:\tlearn: -1.0309728\ttotal: 1.39s\tremaining: 986ms\n",
      "117:\tlearn: -1.0389882\ttotal: 1.4s\tremaining: 972ms\n",
      "118:\tlearn: -1.0444370\ttotal: 1.41s\tremaining: 958ms\n",
      "119:\tlearn: -1.0512766\ttotal: 1.42s\tremaining: 946ms\n",
      "120:\tlearn: -1.0549450\ttotal: 1.43s\tremaining: 935ms\n",
      "121:\tlearn: -1.0613389\ttotal: 1.44s\tremaining: 924ms\n",
      "122:\tlearn: -1.0655081\ttotal: 1.46s\tremaining: 912ms\n",
      "123:\tlearn: -1.0700359\ttotal: 1.47s\tremaining: 898ms\n",
      "124:\tlearn: -1.0752191\ttotal: 1.48s\tremaining: 886ms\n",
      "125:\tlearn: -1.0800656\ttotal: 1.49s\tremaining: 873ms\n",
      "126:\tlearn: -1.0888363\ttotal: 1.5s\tremaining: 860ms\n",
      "127:\tlearn: -1.0925635\ttotal: 1.51s\tremaining: 848ms\n",
      "128:\tlearn: -1.0978189\ttotal: 1.51s\tremaining: 834ms\n",
      "129:\tlearn: -1.1011251\ttotal: 1.52s\tremaining: 821ms\n",
      "130:\tlearn: -1.1048350\ttotal: 1.54s\tremaining: 810ms\n",
      "131:\tlearn: -1.1078494\ttotal: 1.55s\tremaining: 797ms\n",
      "132:\tlearn: -1.1108225\ttotal: 1.56s\tremaining: 785ms\n",
      "133:\tlearn: -1.1168618\ttotal: 1.57s\tremaining: 772ms\n",
      "134:\tlearn: -1.1223433\ttotal: 1.58s\tremaining: 759ms\n",
      "135:\tlearn: -1.1257783\ttotal: 1.59s\tremaining: 748ms\n",
      "136:\tlearn: -1.1308740\ttotal: 1.6s\tremaining: 736ms\n",
      "137:\tlearn: -1.1340864\ttotal: 1.61s\tremaining: 724ms\n",
      "138:\tlearn: -1.1388606\ttotal: 1.63s\tremaining: 714ms\n",
      "139:\tlearn: -1.1440444\ttotal: 1.64s\tremaining: 702ms\n",
      "140:\tlearn: -1.1470478\ttotal: 1.65s\tremaining: 690ms\n",
      "141:\tlearn: -1.1496410\ttotal: 1.66s\tremaining: 678ms\n",
      "142:\tlearn: -1.1531055\ttotal: 1.67s\tremaining: 666ms\n",
      "143:\tlearn: -1.1556786\ttotal: 1.68s\tremaining: 654ms\n",
      "144:\tlearn: -1.1583204\ttotal: 1.69s\tremaining: 642ms\n",
      "145:\tlearn: -1.1635897\ttotal: 1.7s\tremaining: 630ms\n",
      "146:\tlearn: -1.1659210\ttotal: 1.71s\tremaining: 618ms\n",
      "147:\tlearn: -1.1685233\ttotal: 1.72s\tremaining: 606ms\n",
      "148:\tlearn: -1.1713557\ttotal: 1.74s\tremaining: 594ms\n",
      "149:\tlearn: -1.1737719\ttotal: 1.75s\tremaining: 583ms\n",
      "150:\tlearn: -1.1775205\ttotal: 1.76s\tremaining: 571ms\n",
      "151:\tlearn: -1.1805350\ttotal: 1.77s\tremaining: 559ms\n",
      "152:\tlearn: -1.1878855\ttotal: 1.78s\tremaining: 547ms\n",
      "153:\tlearn: -1.1894772\ttotal: 1.79s\tremaining: 534ms\n",
      "154:\tlearn: -1.1943729\ttotal: 1.8s\tremaining: 523ms\n",
      "155:\tlearn: -1.1984448\ttotal: 1.81s\tremaining: 511ms\n",
      "156:\tlearn: -1.2010175\ttotal: 1.82s\tremaining: 500ms\n",
      "157:\tlearn: -1.2059496\ttotal: 1.83s\tremaining: 488ms\n",
      "158:\tlearn: -1.2111523\ttotal: 1.85s\tremaining: 476ms\n",
      "159:\tlearn: -1.2132368\ttotal: 1.86s\tremaining: 464ms\n",
      "160:\tlearn: -1.2151536\ttotal: 1.87s\tremaining: 452ms\n",
      "161:\tlearn: -1.2197185\ttotal: 1.88s\tremaining: 440ms\n",
      "162:\tlearn: -1.2225569\ttotal: 1.89s\tremaining: 429ms\n",
      "163:\tlearn: -1.2260973\ttotal: 1.9s\tremaining: 417ms\n"
     ]
    },
    {
     "name": "stdout",
     "output_type": "stream",
     "text": [
      "164:\tlearn: -1.2291296\ttotal: 1.91s\tremaining: 406ms\n",
      "165:\tlearn: -1.2323368\ttotal: 1.92s\tremaining: 394ms\n",
      "166:\tlearn: -1.2344290\ttotal: 1.94s\tremaining: 382ms\n",
      "167:\tlearn: -1.2373028\ttotal: 1.95s\tremaining: 371ms\n",
      "168:\tlearn: -1.2394368\ttotal: 1.96s\tremaining: 360ms\n",
      "169:\tlearn: -1.2414209\ttotal: 1.97s\tremaining: 348ms\n",
      "170:\tlearn: -1.2444188\ttotal: 1.98s\tremaining: 336ms\n",
      "171:\tlearn: -1.2470315\ttotal: 1.99s\tremaining: 324ms\n",
      "172:\tlearn: -1.2489727\ttotal: 2s\tremaining: 312ms\n",
      "173:\tlearn: -1.2519358\ttotal: 2.01s\tremaining: 300ms\n",
      "174:\tlearn: -1.2559915\ttotal: 2.02s\tremaining: 289ms\n",
      "175:\tlearn: -1.2595412\ttotal: 2.03s\tremaining: 277ms\n",
      "176:\tlearn: -1.2612947\ttotal: 2.04s\tremaining: 265ms\n",
      "177:\tlearn: -1.2630619\ttotal: 2.05s\tremaining: 254ms\n",
      "178:\tlearn: -1.2648368\ttotal: 2.07s\tremaining: 243ms\n",
      "179:\tlearn: -1.2663116\ttotal: 2.08s\tremaining: 231ms\n",
      "180:\tlearn: -1.2716811\ttotal: 2.09s\tremaining: 219ms\n",
      "181:\tlearn: -1.2719955\ttotal: 2.09s\tremaining: 207ms\n",
      "182:\tlearn: -1.2748397\ttotal: 2.1s\tremaining: 195ms\n",
      "183:\tlearn: -1.2766461\ttotal: 2.11s\tremaining: 184ms\n",
      "184:\tlearn: -1.2818027\ttotal: 2.12s\tremaining: 172ms\n",
      "185:\tlearn: -1.2833366\ttotal: 2.14s\tremaining: 161ms\n",
      "186:\tlearn: -1.2858484\ttotal: 2.15s\tremaining: 149ms\n",
      "187:\tlearn: -1.2879409\ttotal: 2.16s\tremaining: 138ms\n",
      "188:\tlearn: -1.2890679\ttotal: 2.17s\tremaining: 126ms\n",
      "189:\tlearn: -1.2917896\ttotal: 2.18s\tremaining: 115ms\n",
      "190:\tlearn: -1.2955209\ttotal: 2.2s\tremaining: 104ms\n",
      "191:\tlearn: -1.2968477\ttotal: 2.2s\tremaining: 91.9ms\n",
      "192:\tlearn: -1.2975066\ttotal: 2.21s\tremaining: 80.4ms\n",
      "193:\tlearn: -1.3002914\ttotal: 2.23s\tremaining: 68.8ms\n",
      "194:\tlearn: -1.3012212\ttotal: 2.24s\tremaining: 57.4ms\n",
      "195:\tlearn: -1.3035418\ttotal: 2.25s\tremaining: 45.8ms\n",
      "196:\tlearn: -1.3059362\ttotal: 2.25s\tremaining: 34.3ms\n",
      "197:\tlearn: -1.3069320\ttotal: 2.26s\tremaining: 22.9ms\n",
      "198:\tlearn: -1.3087796\ttotal: 2.28s\tremaining: 11.4ms\n",
      "199:\tlearn: -1.3107981\ttotal: 2.29s\tremaining: 0us\n",
      "train loss: -1.1666910648345947\n",
      "val loss: -1.6260805130004883\n",
      "train loss: -1.680560827255249\n",
      "val loss: -1.7001067399978638\n",
      "train loss: -1.7366241216659546\n",
      "val loss: -1.719278335571289\n",
      "train loss: -1.7558040618896484\n",
      "val loss: -1.735984206199646\n",
      "train loss: -1.7712428569793701\n",
      "val loss: -1.7494523525238037\n",
      "train loss: -1.7903977632522583\n",
      "val loss: -1.7632659673690796\n",
      "train loss: -1.80984365940094\n",
      "val loss: -1.7865526676177979\n",
      "train loss: -1.8566292524337769\n",
      "val loss: -1.8437100648880005\n",
      "train loss: -1.9110908508300781\n",
      "val loss: -1.8758115768432617\n",
      "train loss: -1.9309462308883667\n",
      "val loss: -1.8942371606826782\n",
      "train loss: -1.9500174522399902\n",
      "val loss: -1.9327621459960938\n",
      "train loss: -2.0185399055480957\n",
      "val loss: -1.9724897146224976\n",
      "train loss: -2.0183522701263428\n",
      "val loss: -1.9801067113876343\n",
      "train loss: -2.0399296283721924\n",
      "val loss: -1.9907293319702148\n",
      "train loss: -2.036710262298584\n",
      "val loss: -1.9907106161117554\n",
      "train loss: -1.9876718521118164\n",
      "val loss: -1.9589407444000244\n",
      "train loss: -2.0429799556732178\n",
      "val loss: -1.987741231918335\n",
      "train loss: -2.135028123855591\n",
      "val loss: -2.0745434761047363\n",
      "train loss: -2.10966420173645\n",
      "val loss: -2.0332016944885254\n",
      "train loss: -2.110203504562378\n",
      "val loss: -2.049145221710205\n",
      "train loss: -2.1347432136535645\n",
      "val loss: -2.0497114658355713\n",
      "train loss: -2.100130796432495\n",
      "val loss: -2.0564146041870117\n",
      "train loss: -2.109076499938965\n",
      "val loss: -2.025444269180298\n",
      "train loss: -2.094074249267578\n",
      "val loss: -2.0243985652923584\n",
      "train loss: -2.1750714778900146\n",
      "val loss: -2.08617901802063\n",
      "train loss: -2.200573444366455\n",
      "val loss: -2.106632947921753\n",
      "train loss: -2.237157106399536\n",
      "val loss: -2.1309595108032227\n",
      "train loss: -2.2271313667297363\n",
      "val loss: -2.137687921524048\n",
      "train loss: -2.2125802040100098\n",
      "val loss: -2.104492664337158\n",
      "train loss: -2.1565136909484863\n",
      "val loss: -2.039357900619507\n",
      "Loading model from epoch 27.\n",
      "CPU times: user 2h 58min 3s, sys: 1min 19s, total: 2h 59min 23s\n",
      "Wall time: 2h 50min 22s\n"
     ]
    },
    {
     "data": {
      "text/plain": [
       "TreeFlowWithoutShallow(embedding_size=3200,\n",
       "                       flow_model=<src.probabilistic_flow_boosting.tfboost.flow.flow.ContinuousNormalizingFlow object at 0x7f917adc1358>,\n",
       "                       tree_model=<src.probabilistic_flow_boosting.tfboost.tree.ecatboost.EmbeddableCatBoostPriorNormal object at 0x7f917adc1320>)"
      ]
     },
     "execution_count": 8,
     "metadata": {},
     "output_type": "execute_result"
    }
   ],
   "source": [
    "%time treeflow.fit(x_tr.values, y_tr.values, x_val.values, y_val.values, n_epochs=30, batch_size=2048, verbose=True)"
   ]
  },
  {
   "cell_type": "code",
   "execution_count": 9,
   "metadata": {},
   "outputs": [
    {
     "name": "stdout",
     "output_type": "stream",
     "text": [
      "3200\n"
     ]
    }
   ],
   "source": [
    "print(context_dim)"
   ]
  },
  {
   "cell_type": "code",
   "execution_count": 10,
   "metadata": {},
   "outputs": [
    {
     "name": "stdout",
     "output_type": "stream",
     "text": [
      "CPU times: user 2min 4s, sys: 4.36 s, total: 2min 8s\n",
      "Wall time: 1min 54s\n"
     ]
    },
    {
     "data": {
      "text/plain": [
       "-2.1184237"
      ]
     },
     "execution_count": 10,
     "metadata": {},
     "output_type": "execute_result"
    }
   ],
   "source": [
    "%time calculate_nll(treeflow, x_train, y_train, batch_size = 1024)"
   ]
  },
  {
   "cell_type": "code",
   "execution_count": 11,
   "metadata": {},
   "outputs": [
    {
     "name": "stdout",
     "output_type": "stream",
     "text": [
      "CPU times: user 37.9 s, sys: 1.1 s, total: 39 s\n",
      "Wall time: 30.5 s\n"
     ]
    },
    {
     "data": {
      "text/plain": [
       "-2.0629003"
      ]
     },
     "execution_count": 11,
     "metadata": {},
     "output_type": "execute_result"
    }
   ],
   "source": [
    "%time calculate_nll(treeflow, x_test, y_test, batch_size = 1024)"
   ]
  }
 ],
 "metadata": {
  "kernelspec": {
   "display_name": "Python 3",
   "language": "python",
   "name": "python3"
  },
  "language_info": {
   "codemirror_mode": {
    "name": "ipython",
    "version": 3
   },
   "file_extension": ".py",
   "mimetype": "text/x-python",
   "name": "python",
   "nbconvert_exporter": "python",
   "pygments_lexer": "ipython3",
   "version": "3.6.9"
  }
 },
 "nbformat": 4,
 "nbformat_minor": 2
}
