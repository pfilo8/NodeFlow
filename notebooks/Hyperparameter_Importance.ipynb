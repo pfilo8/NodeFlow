{
 "cells": [
  {
   "cell_type": "code",
   "execution_count": null,
   "id": "c7ba6b81-09ea-411d-88c0-d9d6c4fe4820",
   "metadata": {},
   "outputs": [],
   "source": [
    "import pandas as pd\n",
    "import matplotlib.pyplot as plt\n",
    "import seaborn as sns\n",
    "\n",
    "data = pd.read_csv('NodeFlow Results Hyperparameters.csv')\n",
    "\n",
    "data[\"Dataset\"] = data[\"Dataset\"].str.upper()\n",
    "data = data.set_index(\"Dataset\")\n",
    "data.columns = [col.upper() for col in data.columns]\n",
    "\n",
    "# Create a heatmap using seaborn\n",
    "plt.figure(figsize=(12, 4))\n",
    "ax = sns.heatmap(data[['NUM LAYERS', 'DEPTH', 'TREE OUTPUT DIM', 'NUM TREES', 'FLOW HIDDEN DIMS']], annot=True, cmap='Blues', fmt=\".2f\", linewidths=.5, cbar=True)\n",
    "\n",
    "plt.savefig('../figures/hyperparameter_importance.pdf')"
   ]
  },
  {
   "cell_type": "code",
   "execution_count": null,
   "id": "5eac1d45-de9f-4dbd-989a-f16741c01ac0",
   "metadata": {},
   "outputs": [],
   "source": []
  }
 ],
 "metadata": {
  "kernelspec": {
   "display_name": "Python 3 (ipykernel)",
   "language": "python",
   "name": "python3"
  },
  "language_info": {
   "codemirror_mode": {
    "name": "ipython",
    "version": 3
   },
   "file_extension": ".py",
   "mimetype": "text/x-python",
   "name": "python",
   "nbconvert_exporter": "python",
   "pygments_lexer": "ipython3",
   "version": "3.8.17"
  }
 },
 "nbformat": 4,
 "nbformat_minor": 5
}
