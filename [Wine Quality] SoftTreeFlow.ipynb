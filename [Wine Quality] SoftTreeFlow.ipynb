{
 "cells": [
  {
   "cell_type": "code",
   "execution_count": 1,
   "id": "2210eb37-bfe3-4c30-a32e-a3ff23baad10",
   "metadata": {},
   "outputs": [],
   "source": [
    "from typing import Any, Dict, List, Union\n",
    "\n",
    "import matplotlib.pyplot as plt\n",
    "import numpy as np\n",
    "import pandas as pd\n",
    "import seaborn as sns\n",
    "import torch\n",
    "import uncertainty_toolbox as uct\n",
    "\n",
    "from sklearn.model_selection import train_test_split, GridSearchCV\n",
    "\n",
    "from src.probabilistic_flow_boosting.extras.datasets.uci_dataset import UCIDataSet\n",
    "from src.probabilistic_flow_boosting.pipelines.modeling.utils import setup_random_seed\n",
    "from src.probabilistic_flow_boosting.tfboost.softtreeflow import SoftTreeFlow\n",
    "\n",
    "pd.set_option('display.float_format', lambda x: '%.5f' % x)"
   ]
  },
  {
   "cell_type": "code",
   "execution_count": 2,
   "id": "89702633-2ac7-4f86-b30a-8f051f3a5fa6",
   "metadata": {},
   "outputs": [],
   "source": [
    "RANDOM_SEED = 42\n",
    "\n",
    "setup_random_seed(RANDOM_SEED)"
   ]
  },
  {
   "cell_type": "code",
   "execution_count": 3,
   "id": "ef43411e-4bce-4ba4-b5ec-c3e4476f338b",
   "metadata": {},
   "outputs": [],
   "source": [
    "x_train = UCIDataSet(\n",
    "    filepath_data = \"data/01_raw/UCI/wine-quality-red/data.txt\",\n",
    "    filepath_index_columns = \"data/01_raw/UCI/wine-quality-red/index_features.txt\",\n",
    "    filepath_index_rows = \"data/01_raw/UCI/wine-quality-red/index_train_1.txt\"\n",
    ").load()\n",
    "y_train = UCIDataSet(\n",
    "    filepath_data = \"data/01_raw/UCI/wine-quality-red/data.txt\",\n",
    "    filepath_index_columns = \"data/01_raw/UCI/wine-quality-red/index_target.txt\",\n",
    "    filepath_index_rows = \"data/01_raw/UCI/wine-quality-red/index_train_1.txt\"\n",
    ").load()\n",
    "\n",
    "x_test = UCIDataSet(\n",
    "    filepath_data = \"data/01_raw/UCI/wine-quality-red/data.txt\",\n",
    "    filepath_index_columns = \"data/01_raw/UCI/wine-quality-red/index_features.txt\",\n",
    "    filepath_index_rows = \"data/01_raw/UCI/wine-quality-red/index_test_1.txt\"\n",
    ").load()\n",
    "y_test = UCIDataSet(\n",
    "    filepath_data = \"data/01_raw/UCI/wine-quality-red/data.txt\",\n",
    "    filepath_index_columns = \"data/01_raw/UCI/wine-quality-red/index_target.txt\",\n",
    "    filepath_index_rows = \"data/01_raw/UCI/wine-quality-red/index_test_1.txt\"\n",
    ").load()"
   ]
  },
  {
   "cell_type": "code",
   "execution_count": 4,
   "id": "45fac750-55ef-4c7a-a1a6-bb40aa4f241b",
   "metadata": {},
   "outputs": [],
   "source": [
    "def softtreeflow_logprob(model: SoftTreeFlow, X: torch.Tensor, y: torch.Tensor):\n",
    "    model.eval()\n",
    "    \n",
    "    with torch.no_grad():\n",
    "        result = model.log_prob(X, y).mean().item()\n",
    "        \n",
    "    model.train()\n",
    "    return result\n",
    "\n",
    "\n",
    "def fit_softtreeflow(\n",
    "    x_train: np.ndarray, \n",
    "    y_train: np.ndarray, \n",
    "    param_grid: Dict[str, List[Any]],\n",
    "    cv: int = 3,\n",
    "    n_epochs: int = 200, \n",
    "    patience: int = 50,\n",
    "    batch_size: int = 128,\n",
    "    random_state: int = 42,\n",
    "    test_size: float = 0.2\n",
    "):  \n",
    "    model = SoftTreeFlow(\n",
    "        input_dim=x_train.shape[1],\n",
    "        output_dim=y_train.shape[1],\n",
    "    )\n",
    "    model.train()\n",
    "    \n",
    "    x_tr, x_val, y_tr, y_val = train_test_split(x_train, y_train, test_size = test_size, random_state=random_state)\n",
    "    \n",
    "    grid = GridSearchCV(\n",
    "        estimator=model,\n",
    "        scoring=softtreeflow_logprob,\n",
    "        cv=cv,\n",
    "        param_grid=param_grid,\n",
    "        refit=True,\n",
    "        return_train_score=True\n",
    "    )\n",
    "\n",
    "    grid.fit(x_tr, y_tr, X_val=x_val, y_val=y_val, n_epochs=1)\n",
    "    return grid.best_estimator_"
   ]
  },
  {
   "cell_type": "code",
   "execution_count": 5,
   "id": "da2acc4d-f259-4855-8403-493e5a97a5ce",
   "metadata": {},
   "outputs": [
    {
     "name": "stderr",
     "output_type": "stream",
     "text": [
      "100%|███████████████████████████████████████████████████████████████████████████████████████████████████████████████████████████████████████████████████████████████████████████████████████████████████████████████████████| 1/1 [00:01<00:00,  1.39s/it]\n",
      "100%|███████████████████████████████████████████████████████████████████████████████████████████████████████████████████████████████████████████████████████████████████████████████████████████████████████████████████████| 1/1 [00:01<00:00,  1.35s/it]\n",
      "100%|███████████████████████████████████████████████████████████████████████████████████████████████████████████████████████████████████████████████████████████████████████████████████████████████████████████████████████| 1/1 [00:01<00:00,  1.31s/it]\n",
      "100%|███████████████████████████████████████████████████████████████████████████████████████████████████████████████████████████████████████████████████████████████████████████████████████████████████████████████████████| 1/1 [00:01<00:00,  1.32s/it]\n",
      "100%|███████████████████████████████████████████████████████████████████████████████████████████████████████████████████████████████████████████████████████████████████████████████████████████████████████████████████████| 1/1 [00:01<00:00,  1.29s/it]\n",
      "100%|███████████████████████████████████████████████████████████████████████████████████████████████████████████████████████████████████████████████████████████████████████████████████████████████████████████████████████| 1/1 [00:01<00:00,  1.32s/it]\n",
      "100%|███████████████████████████████████████████████████████████████████████████████████████████████████████████████████████████████████████████████████████████████████████████████████████████████████████████████████████| 1/1 [00:01<00:00,  1.31s/it]\n",
      "100%|███████████████████████████████████████████████████████████████████████████████████████████████████████████████████████████████████████████████████████████████████████████████████████████████████████████████████████| 1/1 [00:01<00:00,  1.29s/it]\n",
      "100%|███████████████████████████████████████████████████████████████████████████████████████████████████████████████████████████████████████████████████████████████████████████████████████████████████████████████████████| 1/1 [00:01<00:00,  1.33s/it]\n",
      "100%|███████████████████████████████████████████████████████████████████████████████████████████████████████████████████████████████████████████████████████████████████████████████████████████████████████████████████████| 1/1 [00:01<00:00,  1.32s/it]\n",
      "100%|███████████████████████████████████████████████████████████████████████████████████████████████████████████████████████████████████████████████████████████████████████████████████████████████████████████████████████| 1/1 [00:01<00:00,  1.30s/it]\n",
      "100%|███████████████████████████████████████████████████████████████████████████████████████████████████████████████████████████████████████████████████████████████████████████████████████████████████████████████████████| 1/1 [00:01<00:00,  1.30s/it]\n",
      "100%|███████████████████████████████████████████████████████████████████████████████████████████████████████████████████████████████████████████████████████████████████████████████████████████████████████████████████████| 1/1 [00:01<00:00,  1.76s/it]\n"
     ]
    }
   ],
   "source": [
    "param_grid = {\n",
    "    \"tree_depth\": [2, 3, 4, 5]\n",
    "}\n",
    "\n",
    "\n",
    "model = fit_softtreeflow(\n",
    "    x_train=x_train.values, \n",
    "    y_train=y_train.values,\n",
    "    param_grid=param_grid\n",
    ")"
   ]
  },
  {
   "cell_type": "code",
   "execution_count": 8,
   "id": "40ed65da-e794-4ec8-9744-9c9a68e83048",
   "metadata": {},
   "outputs": [],
   "source": [
    "def univariate_probabilistic_regression_report(estimator: SoftTreeFlow, X: np.ndarray, y: np.ndarray, **kwargs) -> Dict[str, float]:\n",
    "    y_pred: np.ndarray = estimator.predict(X, **kwargs)\n",
    "    \n",
    "    metrics = {\n",
    "        \"nll\": -estimator.log_prob(X, y).mean(),\n",
    "        \"crps\": estimator.crps(X, y),\n",
    "    }\n",
    "    \n",
    "    y: np.ndarray = y.squeeze()\n",
    "    metrics.update(uct.get_all_accuracy_metrics(y_pred=y_pred, y_true=y, verbose=False))\n",
    "    return metrics"
   ]
  },
  {
   "cell_type": "code",
   "execution_count": 9,
   "id": "c46802c1-6193-458d-9e4b-a3419df7df68",
   "metadata": {},
   "outputs": [
    {
     "data": {
      "text/plain": [
       "{'log_prob': array([[-9.092747 ],\n",
       "        [-1.7988298],\n",
       "        [-4.5356703],\n",
       "        ...,\n",
       "        [-0.6083021],\n",
       "        [-4.5737314],\n",
       "        [-0.6005993]], dtype=float32),\n",
       " 'crps': None,\n",
       " 'mae': 1.5187798268766848,\n",
       " 'rmse': 1.7030753923928892,\n",
       " 'mdae': 1.1693744659423828,\n",
       " 'marpd': 24.633862327780932,\n",
       " 'r2': -3.425165169008465,\n",
       " 'corr': 0.01244446970312382}"
      ]
     },
     "execution_count": 9,
     "metadata": {},
     "output_type": "execute_result"
    }
   ],
   "source": [
    "univariate_probabilistic_regression_report(model, x_train.values, y_train.values)"
   ]
  },
  {
   "cell_type": "code",
   "execution_count": null,
   "id": "2de06d48-7b04-4e64-a609-7a1144e7df74",
   "metadata": {},
   "outputs": [],
   "source": [
    "univariate_probabilistic_regression_report(model, x_test.values, y_test.values)"
   ]
  },
  {
   "cell_type": "code",
   "execution_count": null,
   "id": "fe455aaa-0687-4178-b121-439cf23cd221",
   "metadata": {},
   "outputs": [],
   "source": [
    "with torch.no_grad():\n",
    "    model.eval()\n",
    "\n",
    "    logprob_train = - model.log_prob(x_tr, y_tr, batch_size=2000).mean()\n",
    "    logprob_val = - model.log_prob(x_val, y_val, batch_size=2000).mean()\n",
    "    logprob_test = - model.log_prob(x_test, y_test, batch_size=2000).mean()\n",
    "\n",
    "    print(logprob_train.item(), logprob_val.item(), logprob_test.item())"
   ]
  },
  {
   "cell_type": "code",
   "execution_count": null,
   "id": "a5751fe5-bd5d-4004-806d-c16bfa6a3364",
   "metadata": {},
   "outputs": [],
   "source": [
    "with torch.no_grad():\n",
    "    model.eval()\n",
    "\n",
    "    logprob_train = - model.log_prob(x_tr, y_tr, batch_size=2000).mean()\n",
    "    logprob_val = - model.log_prob(x_val, y_val, batch_size=2000).mean()\n",
    "    logprob_test = - model.log_prob(x_test, y_test, batch_size=2000).mean()\n",
    "\n",
    "    print(logprob_train.item(), logprob_val.item(), logprob_test.item())"
   ]
  },
  {
   "cell_type": "code",
   "execution_count": null,
   "id": "bc959d50-d949-4773-a783-f40c2bce74c5",
   "metadata": {},
   "outputs": [],
   "source": [
    "y_test_samples = model.sample(x_test, num_samples = 1000, batch_size = 2000)\n",
    "y_test_samples = y_test_samples.detach().numpy().squeeze()"
   ]
  },
  {
   "cell_type": "code",
   "execution_count": null,
   "id": "a4be0aff-38da-4774-8503-c677c8979345",
   "metadata": {},
   "outputs": [],
   "source": [
    "y_test_samples.shape"
   ]
  },
  {
   "cell_type": "code",
   "execution_count": null,
   "id": "944fac61-d078-4ff6-8475-b8e60f6a8cf8",
   "metadata": {},
   "outputs": [],
   "source": [
    "paths = model.predict_tree_path(x_test)\n",
    "paths = paths.detach().numpy()"
   ]
  },
  {
   "cell_type": "code",
   "execution_count": null,
   "id": "49c6c461-dfa9-499a-af8c-ff28ea9c7c9a",
   "metadata": {},
   "outputs": [],
   "source": [
    "for i in range(30):\n",
    "    print(f\"Sample {i}, paths probability:\")\n",
    "    print(pd.DataFrame(paths[i, :]).sort_values(0, ascending=False).head(5))\n",
    "    plt.axvline(x=y_test.detach().numpy()[i, :], color='r', label='True value')\n",
    "\n",
    "    ## TreeFlow\n",
    "    sns.kdeplot(y_test_samples[i, :], color='blue', label='TreeFlow')\n",
    "\n",
    "    plt.xlim([0, 10])\n",
    "    plt.legend()\n",
    "    plt.show()\n",
    "    plt.close()"
   ]
  }
 ],
 "metadata": {
  "kernelspec": {
   "display_name": "Python 3 (ipykernel)",
   "language": "python",
   "name": "python3"
  },
  "language_info": {
   "codemirror_mode": {
    "name": "ipython",
    "version": 3
   },
   "file_extension": ".py",
   "mimetype": "text/x-python",
   "name": "python",
   "nbconvert_exporter": "python",
   "pygments_lexer": "ipython3",
   "version": "3.9.12"
  }
 },
 "nbformat": 4,
 "nbformat_minor": 5
}
