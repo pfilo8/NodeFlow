{
 "cells": [
  {
   "cell_type": "markdown",
   "metadata": {},
   "source": [
    "# Tabular Weather Prediction Tutorial\n",
    "\n",
    "This tutorial steps through the uncertainty challenge on tabular weather data for regression. \n",
    "\n",
    "## Outline\n",
    "\n",
    "1. Repository download\n",
    "2. Data download\n",
    "3. Data loading\n",
    "4. Training & Saving\n",
    "5. Model loading\n",
    "6. Evaluation & Inference\n",
    "7. Submission"
   ]
  },
  {
   "cell_type": "markdown",
   "metadata": {},
   "source": [
    "## 1. Repository Download\n",
    "\n",
    "The Github repository with useful scripts is at: [repo](https://github.com/yandex-research/shifts.git)"
   ]
  },
  {
   "cell_type": "code",
   "execution_count": null,
   "metadata": {},
   "outputs": [],
   "source": [
    "# Clone the repository\n",
    "! git clone https://github.com/yandex-research/shifts"
   ]
  },
  {
   "cell_type": "code",
   "execution_count": 53,
   "metadata": {},
   "outputs": [],
   "source": [
    "# Add to path\n",
    "import sys\n",
    "sys.path.append('../shifts/weather/')"
   ]
  },
  {
   "cell_type": "markdown",
   "metadata": {},
   "source": [
    "## 2. Data Download\n",
    "\n",
    "Data is stored at: [data](https://storage.yandexcloud.net/yandex-research/shifts/weather/canonical-trn-dev-data.tar)"
   ]
  },
  {
   "cell_type": "code",
   "execution_count": null,
   "metadata": {},
   "outputs": [],
   "source": [
    "# Download the data. Note, by downloading the data you agree to it's CC BY SA NC 4.0 license!\n",
    "! wget https://storage.yandexcloud.net/yandex-research/shifts/weather/canonical-trn-dev-data.tar"
   ]
  },
  {
   "cell_type": "markdown",
   "metadata": {},
   "source": [
    "## 3. Data Loading\n",
    "\n",
    "All data is provided as csv files. You should have downloaded the following data files:\n",
    "\n",
    "- `train.csv`\n",
    "- `dev_in.csv`\n",
    "- `dev_out.csv`\n",
    "\n",
    "`dev_in` consists of data in-domain with `train` in terms of time and climate. `dev_out` consists of data shifted in time and climates with respect to `train`.\n",
    "\n",
    "This tutorial will assume that all data files are placed in a local directory named `./data/`. "
   ]
  },
  {
   "cell_type": "code",
   "execution_count": 1,
   "metadata": {},
   "outputs": [
    {
     "data": {
      "text/html": [
       "<div>\n",
       "<style scoped>\n",
       "    .dataframe tbody tr th:only-of-type {\n",
       "        vertical-align: middle;\n",
       "    }\n",
       "\n",
       "    .dataframe tbody tr th {\n",
       "        vertical-align: top;\n",
       "    }\n",
       "\n",
       "    .dataframe thead th {\n",
       "        text-align: right;\n",
       "    }\n",
       "</style>\n",
       "<table border=\"1\" class=\"dataframe\">\n",
       "  <thead>\n",
       "    <tr style=\"text-align: right;\">\n",
       "      <th></th>\n",
       "      <th>fact_time</th>\n",
       "      <th>fact_latitude</th>\n",
       "      <th>fact_longitude</th>\n",
       "      <th>fact_temperature</th>\n",
       "      <th>fact_cwsm_class</th>\n",
       "      <th>climate</th>\n",
       "      <th>topography_bathymetry</th>\n",
       "      <th>sun_elevation</th>\n",
       "      <th>climate_temperature</th>\n",
       "      <th>climate_pressure</th>\n",
       "      <th>...</th>\n",
       "      <th>cmc_0_1_66_0_grad</th>\n",
       "      <th>cmc_0_1_66_0_next</th>\n",
       "      <th>cmc_0_1_67_0_grad</th>\n",
       "      <th>cmc_0_1_67_0_next</th>\n",
       "      <th>cmc_0_1_68_0_grad</th>\n",
       "      <th>cmc_0_1_68_0_next</th>\n",
       "      <th>gfs_2m_dewpoint_grad</th>\n",
       "      <th>gfs_2m_dewpoint_next</th>\n",
       "      <th>gfs_total_clouds_cover_low_grad</th>\n",
       "      <th>gfs_total_clouds_cover_low_next</th>\n",
       "    </tr>\n",
       "  </thead>\n",
       "  <tbody>\n",
       "    <tr>\n",
       "      <th>0</th>\n",
       "      <td>1.543321e+09</td>\n",
       "      <td>26.968800</td>\n",
       "      <td>-99.248901</td>\n",
       "      <td>2.0</td>\n",
       "      <td>0.0</td>\n",
       "      <td>dry</td>\n",
       "      <td>127.0</td>\n",
       "      <td>-17.526443</td>\n",
       "      <td>14.613571</td>\n",
       "      <td>754.263405</td>\n",
       "      <td>...</td>\n",
       "      <td>0.0</td>\n",
       "      <td>0.0</td>\n",
       "      <td>0.0</td>\n",
       "      <td>0.0</td>\n",
       "      <td>0.0</td>\n",
       "      <td>0.0</td>\n",
       "      <td>-2.600006</td>\n",
       "      <td>-2.750006</td>\n",
       "      <td>0.0</td>\n",
       "      <td>0.0</td>\n",
       "    </tr>\n",
       "    <tr>\n",
       "      <th>1</th>\n",
       "      <td>1.538776e+09</td>\n",
       "      <td>29.374201</td>\n",
       "      <td>-100.927002</td>\n",
       "      <td>31.0</td>\n",
       "      <td>20.0</td>\n",
       "      <td>mild temperate</td>\n",
       "      <td>297.0</td>\n",
       "      <td>41.531032</td>\n",
       "      <td>26.992143</td>\n",
       "      <td>733.117168</td>\n",
       "      <td>...</td>\n",
       "      <td>0.0</td>\n",
       "      <td>0.0</td>\n",
       "      <td>0.0</td>\n",
       "      <td>0.0</td>\n",
       "      <td>0.0</td>\n",
       "      <td>0.0</td>\n",
       "      <td>-0.600006</td>\n",
       "      <td>17.950006</td>\n",
       "      <td>-12.0</td>\n",
       "      <td>11.0</td>\n",
       "    </tr>\n",
       "    <tr>\n",
       "      <th>2</th>\n",
       "      <td>1.552115e+09</td>\n",
       "      <td>22.149599</td>\n",
       "      <td>113.592003</td>\n",
       "      <td>17.0</td>\n",
       "      <td>10.0</td>\n",
       "      <td>mild temperate</td>\n",
       "      <td>-1.0</td>\n",
       "      <td>43.916531</td>\n",
       "      <td>18.842143</td>\n",
       "      <td>761.571076</td>\n",
       "      <td>...</td>\n",
       "      <td>0.0</td>\n",
       "      <td>0.0</td>\n",
       "      <td>0.0</td>\n",
       "      <td>0.0</td>\n",
       "      <td>0.0</td>\n",
       "      <td>0.0</td>\n",
       "      <td>-0.233978</td>\n",
       "      <td>21.450006</td>\n",
       "      <td>1.0</td>\n",
       "      <td>8.0</td>\n",
       "    </tr>\n",
       "    <tr>\n",
       "      <th>3</th>\n",
       "      <td>1.549566e+09</td>\n",
       "      <td>34.678699</td>\n",
       "      <td>-86.684799</td>\n",
       "      <td>24.0</td>\n",
       "      <td>20.0</td>\n",
       "      <td>mild temperate</td>\n",
       "      <td>193.0</td>\n",
       "      <td>40.240955</td>\n",
       "      <td>8.303571</td>\n",
       "      <td>747.524910</td>\n",
       "      <td>...</td>\n",
       "      <td>0.0</td>\n",
       "      <td>0.0</td>\n",
       "      <td>0.0</td>\n",
       "      <td>0.0</td>\n",
       "      <td>0.0</td>\n",
       "      <td>0.0</td>\n",
       "      <td>0.059448</td>\n",
       "      <td>16.150018</td>\n",
       "      <td>-58.0</td>\n",
       "      <td>41.0</td>\n",
       "    </tr>\n",
       "    <tr>\n",
       "      <th>4</th>\n",
       "      <td>1.552910e+09</td>\n",
       "      <td>46.066667</td>\n",
       "      <td>41.966667</td>\n",
       "      <td>9.0</td>\n",
       "      <td>20.0</td>\n",
       "      <td>dry</td>\n",
       "      <td>90.0</td>\n",
       "      <td>30.394660</td>\n",
       "      <td>6.451429</td>\n",
       "      <td>753.168113</td>\n",
       "      <td>...</td>\n",
       "      <td>0.0</td>\n",
       "      <td>0.0</td>\n",
       "      <td>0.0</td>\n",
       "      <td>0.0</td>\n",
       "      <td>0.0</td>\n",
       "      <td>0.0</td>\n",
       "      <td>0.400024</td>\n",
       "      <td>3.150018</td>\n",
       "      <td>18.0</td>\n",
       "      <td>92.0</td>\n",
       "    </tr>\n",
       "  </tbody>\n",
       "</table>\n",
       "<p>5 rows × 129 columns</p>\n",
       "</div>"
      ],
      "text/plain": [
       "      fact_time  fact_latitude  fact_longitude  fact_temperature  \\\n",
       "0  1.543321e+09      26.968800      -99.248901               2.0   \n",
       "1  1.538776e+09      29.374201     -100.927002              31.0   \n",
       "2  1.552115e+09      22.149599      113.592003              17.0   \n",
       "3  1.549566e+09      34.678699      -86.684799              24.0   \n",
       "4  1.552910e+09      46.066667       41.966667               9.0   \n",
       "\n",
       "   fact_cwsm_class         climate  topography_bathymetry  sun_elevation  \\\n",
       "0              0.0             dry                  127.0     -17.526443   \n",
       "1             20.0  mild temperate                  297.0      41.531032   \n",
       "2             10.0  mild temperate                   -1.0      43.916531   \n",
       "3             20.0  mild temperate                  193.0      40.240955   \n",
       "4             20.0             dry                   90.0      30.394660   \n",
       "\n",
       "   climate_temperature  climate_pressure  ...  cmc_0_1_66_0_grad  \\\n",
       "0            14.613571        754.263405  ...                0.0   \n",
       "1            26.992143        733.117168  ...                0.0   \n",
       "2            18.842143        761.571076  ...                0.0   \n",
       "3             8.303571        747.524910  ...                0.0   \n",
       "4             6.451429        753.168113  ...                0.0   \n",
       "\n",
       "   cmc_0_1_66_0_next  cmc_0_1_67_0_grad  cmc_0_1_67_0_next  cmc_0_1_68_0_grad  \\\n",
       "0                0.0                0.0                0.0                0.0   \n",
       "1                0.0                0.0                0.0                0.0   \n",
       "2                0.0                0.0                0.0                0.0   \n",
       "3                0.0                0.0                0.0                0.0   \n",
       "4                0.0                0.0                0.0                0.0   \n",
       "\n",
       "   cmc_0_1_68_0_next  gfs_2m_dewpoint_grad  gfs_2m_dewpoint_next  \\\n",
       "0                0.0             -2.600006             -2.750006   \n",
       "1                0.0             -0.600006             17.950006   \n",
       "2                0.0             -0.233978             21.450006   \n",
       "3                0.0              0.059448             16.150018   \n",
       "4                0.0              0.400024              3.150018   \n",
       "\n",
       "   gfs_total_clouds_cover_low_grad  gfs_total_clouds_cover_low_next  \n",
       "0                              0.0                              0.0  \n",
       "1                            -12.0                             11.0  \n",
       "2                              1.0                              8.0  \n",
       "3                            -58.0                             41.0  \n",
       "4                             18.0                             92.0  \n",
       "\n",
       "[5 rows x 129 columns]"
      ]
     },
     "execution_count": 1,
     "metadata": {},
     "output_type": "execute_result"
    }
   ],
   "source": [
    "import pandas as pd\n",
    "\n",
    "# Load each data file as a pandas data frame\n",
    "df_train = pd.read_csv('data/train.csv')\n",
    "df_train.head()"
   ]
  },
  {
   "cell_type": "code",
   "execution_count": 2,
   "metadata": {},
   "outputs": [],
   "source": [
    "df_dev_in = pd.read_csv('data/dev_in.csv')\n",
    "df_dev_out = pd.read_csv('data/dev_out.csv')"
   ]
  },
  {
   "cell_type": "code",
   "execution_count": 3,
   "metadata": {},
   "outputs": [],
   "source": [
    "# Visualize the temperature range in the data\n",
    "\n",
    "from visualize import visualize_temperatures\n",
    "df_names = ['train', 'dev_in', 'dev_out']\n",
    "df_list = [df_train, df_dev_in, df_dev_out]"
   ]
  },
  {
   "cell_type": "code",
   "execution_count": 4,
   "metadata": {},
   "outputs": [
    {
     "data": {
      "image/png": "[encoded data removed]",
      "text/plain": [
       "<Figure size 432x288 with 1 Axes>"
      ]
     },
     "metadata": {
      "needs_background": "light"
     },
     "output_type": "display_data"
    },
    {
     "data": {
      "text/plain": [
       "<Figure size 432x288 with 0 Axes>"
      ]
     },
     "metadata": {},
     "output_type": "display_data"
    }
   ],
   "source": [
    "# Violin Plot\n",
    "visualize_temperatures(df_list, df_names, plot_type='violin')"
   ]
  },
  {
   "cell_type": "code",
   "execution_count": 5,
   "metadata": {},
   "outputs": [
    {
     "data": {
      "image/png": "[encoded data removed]",
      "text/plain": [
       "<Figure size 432x288 with 1 Axes>"
      ]
     },
     "metadata": {
      "needs_background": "light"
     },
     "output_type": "display_data"
    },
    {
     "data": {
      "text/plain": [
       "<Figure size 432x288 with 0 Axes>"
      ]
     },
     "metadata": {},
     "output_type": "display_data"
    }
   ],
   "source": [
    "# Histogram\n",
    "visualize_temperatures(df_list, df_names, plot_type='histogram')"
   ]
  },
  {
   "cell_type": "markdown",
   "metadata": {},
   "source": [
    "## 4. Training and Saving\n",
    "\n",
    "### Training\n",
    "\n",
    "In this tutorial, the `CatBoostRegressor` is used as the model.\n",
    "- An ensemble of models are trained.\n",
    "- It is important to use `RMSEWithUncertainty` as the loss function during training time in order to be able to calculate uncertainty measures during inference.\n",
    "- The models are trained using `df_train` and the hyperparameters should be finetuned using `df_dev_in`."
   ]
  },
  {
   "cell_type": "code",
   "execution_count": 6,
   "metadata": {},
   "outputs": [],
   "source": [
    "# Extract features and targets, and remove redundant meta-data\n",
    "X_train = df_train.iloc[:,6:]\n",
    "X_dev_in = df_dev_in.iloc[:,6:]\n",
    "y_train = df_train['fact_temperature']\n",
    "y_dev_in = df_dev_in['fact_temperature']"
   ]
  },
  {
   "cell_type": "code",
   "execution_count": 7,
   "metadata": {},
   "outputs": [],
   "source": [
    "# Set training hyperparameters (note these are dummy hyperparameters - you will need to select your own)\n",
    "ensemble_size = 3\n",
    "depth = 2\n",
    "iterations = 200\n",
    "learning_rate = 0.03"
   ]
  },
  {
   "cell_type": "code",
   "execution_count": 8,
   "metadata": {},
   "outputs": [
    {
     "name": "stdout",
     "output_type": "stream",
     "text": [
      "\n",
      " Model index: 0\n",
      "\n",
      "0:\tlearn: 10.0772485\ttest: 10.0762054\tbest: 10.0762054 (0)\ttotal: 3.48s\tremaining: 11m 32s\n",
      "100:\tlearn: 2.8933962\ttest: 2.8692723\tbest: 2.8692723 (100)\ttotal: 1m 45s\tremaining: 1m 43s\n",
      "199:\tlearn: 2.4636227\ttest: 2.4470545\tbest: 2.4470545 (199)\ttotal: 3m 2s\tremaining: 0us\n",
      "\n",
      "bestTest = 2.447054531\n",
      "bestIteration = 199\n",
      "\n",
      "\n",
      " Model index: 1\n",
      "\n",
      "0:\tlearn: 10.0797424\ttest: 10.0788222\tbest: 10.0788222 (0)\ttotal: 1.12s\tremaining: 3m 43s\n",
      "100:\tlearn: 2.8958509\ttest: 2.8717422\tbest: 2.8717422 (100)\ttotal: 1m 29s\tremaining: 1m 27s\n",
      "199:\tlearn: 2.4668849\ttest: 2.4504754\tbest: 2.4504754 (199)\ttotal: 2m 58s\tremaining: 0us\n",
      "\n",
      "bestTest = 2.450475398\n",
      "bestIteration = 199\n",
      "\n",
      "\n",
      " Model index: 2\n",
      "\n",
      "0:\tlearn: 10.0766372\ttest: 10.0755385\tbest: 10.0755385 (0)\ttotal: 1.29s\tremaining: 4m 16s\n",
      "100:\tlearn: 2.8947113\ttest: 2.8704513\tbest: 2.8704513 (100)\ttotal: 1m 54s\tremaining: 1m 52s\n",
      "199:\tlearn: 2.4646485\ttest: 2.4479654\tbest: 2.4479654 (199)\ttotal: 3m 30s\tremaining: 0us\n",
      "\n",
      "bestTest = 2.447965358\n",
      "bestIteration = 199\n",
      "\n"
     ]
    }
   ],
   "source": [
    "# Train ensemble of models\n",
    "\n",
    "import catboost\n",
    "\n",
    "trained_models = []\n",
    "for seed in range(ensemble_size):\n",
    "    \n",
    "    model = catboost.CatBoostRegressor(\n",
    "        learning_rate = learning_rate,\n",
    "        iterations = iterations,\n",
    "        depth = depth,\n",
    "        loss_function = 'RMSEWithUncertainty',\n",
    "        eval_metric = 'RMSE',\n",
    "        random_seed = seed)\n",
    "    \n",
    "    print(f'\\n Model index: {seed}\\n')\n",
    "    \n",
    "    model.fit(\n",
    "        X_train,\n",
    "        y_train,\n",
    "        verbose = 100,\n",
    "        eval_set = (X_dev_in, y_dev_in))\n",
    "    \n",
    "    trained_models.append(model)"
   ]
  },
  {
   "cell_type": "markdown",
   "metadata": {},
   "source": [
    "### Saving\n",
    "\n",
    "The trained models are saved below into the current directory. The directory path can be changed to save the models in any preferred location."
   ]
  },
  {
   "cell_type": "code",
   "execution_count": 9,
   "metadata": {},
   "outputs": [],
   "source": [
    "dir_path = '.'\n",
    "for i, model in enumerate(trained_models):\n",
    "    model.save_model(f'{dir_path}/model{i+1}.cbm')"
   ]
  },
  {
   "cell_type": "markdown",
   "metadata": {},
   "source": [
    "## 5. Model Loading\n",
    "\n",
    "### Loading Trained Models\n",
    "\n",
    "This section assumes that the trained models have been saved in the current directory. The directory path can be altered to point to any location with the trained models."
   ]
  },
  {
   "cell_type": "code",
   "execution_count": 10,
   "metadata": {},
   "outputs": [],
   "source": [
    "dir_path = '.'\n",
    "trained_models = []\n",
    "\n",
    "# 3 models trained above in this tutorial\n",
    "ensemble_size=3\n",
    "\n",
    "for ind in range(1, ensemble_size+1):\n",
    "    model = catboost.CatBoostRegressor()\n",
    "    model.load_model(f'{dir_path}/model{ind}.cbm')\n",
    "    trained_models.append(model)"
   ]
  },
  {
   "cell_type": "markdown",
   "metadata": {},
   "source": [
    "### Loading Baseline Models\n",
    "\n",
    "The next section of code will show how to load existing, provided baseline trained models\n",
    "\n",
    "The first step is to ensure that the baseline models have been downloaded and saved in some directory.\n",
    "The trained baseline models are provided at: [baseline models](https://storage.yandexcloud.net/yandex-research/shifts/weather/baseline-models.tar)\n",
    "\n",
    "Then, the models can be loaded as follows..."
   ]
  },
  {
   "cell_type": "code",
   "execution_count": null,
   "metadata": {},
   "outputs": [],
   "source": [
    "# Download baselines\n",
    "! wget https://storage.yandexcloud.net/yandex-research/shifts/weather/baseline-models.tar"
   ]
  },
  {
   "cell_type": "code",
   "execution_count": 11,
   "metadata": {},
   "outputs": [],
   "source": [
    "# Loading Trained Baseline Models\n",
    "# Assume models saved as dir_path/seedi.cbm\n",
    "\n",
    "dir_path = './baseline-models'\n",
    "baseline_models = []\n",
    "\n",
    "# 10 models provided\n",
    "ensemble_size=10\n",
    "\n",
    "for ind in range(1, ensemble_size+1):\n",
    "    model = catboost.CatBoostRegressor()\n",
    "    model.load_model(f'{dir_path}/seed{ind}.cbm')\n",
    "    baseline_models.append(model)"
   ]
  },
  {
   "cell_type": "markdown",
   "metadata": {},
   "source": [
    "## 6. Evaluation and Inference\n",
    "\n",
    "Evaluation and Inference here is shown for the `baseline_models`, but it can be performed in exactly the same manner for the `trained_models`.\n",
    "\n",
    "All evaluation and inference in this section is carried out on a combined dataset of `dev_in` + `dev_out` = `dev`.\n",
    "The objective here is two fold:\n",
    "\n",
    "1. Evaluate the ensemble of trained models to get predictions for each data point\n",
    "2. Use the predictions to determine an uncertainty score for each data point using any chosen uncertainty measure\n",
    "\n",
    "It is hoped that the uncertainty measure chosen ensures that data points with greater errors yield greater uncertainties. The uncertainty scores are used to generate retention curves (lowest x% of uncertainties are kept). "
   ]
  },
  {
   "cell_type": "code",
   "execution_count": 12,
   "metadata": {},
   "outputs": [],
   "source": [
    "# Create a combined evaluation dataset and keep only the features\n",
    "df_dev = pd.concat([df_dev_in, df_dev_out])\n",
    "X_dev = df_dev.iloc[:,6:]"
   ]
  },
  {
   "cell_type": "code",
   "execution_count": 13,
   "metadata": {},
   "outputs": [],
   "source": [
    "# Get ensemble of predictions for each data point\n",
    "\n",
    "import numpy as np\n",
    "\n",
    "def get_predictions(features_df, model):\n",
    "    '''\n",
    "    Calculates predictions on df features for specified model\n",
    "    \n",
    "    Return: array [num_samples x 2],\n",
    "        where\n",
    "            num_samples = number of rows in features_df\n",
    "            2 = [mean, variance]\n",
    "    \n",
    "    '''\n",
    "    return model.predict(features_df)\n",
    "\n",
    "\n",
    "def get_all_predictions(features_df, models_list):\n",
    "    '''\n",
    "    Return: array [ensemble_size x num_samples x 2],\n",
    "        where\n",
    "            ensemble_size = number of models in models_list\n",
    "            num_samples = number of rows in features_df\n",
    "            2 = [mean, variance]\n",
    "    '''\n",
    "    all_preds = []\n",
    "    for model in models_list:\n",
    "        preds = np.asarray(get_predictions(features_df, model))\n",
    "        all_preds.append(preds)\n",
    "    return np.stack(all_preds, axis=0)\n",
    "\n",
    "\n",
    "all_preds = get_all_predictions(X_dev, baseline_models)"
   ]
  },
  {
   "cell_type": "code",
   "execution_count": 14,
   "metadata": {},
   "outputs": [],
   "source": [
    "# Choose any uncertainty measure to calculate uncertainty scores\n",
    "# This tutorial uses total variance as the uncertainty measure\n",
    "\n",
    "from uncertainty import ensemble_uncertainties_regression\n",
    "\n",
    "all_uncertainty = ensemble_uncertainties_regression(all_preds)\n",
    "uncertainties = all_uncertainty['tvar']"
   ]
  },
  {
   "cell_type": "markdown",
   "metadata": {},
   "source": [
    "### Retention Curves\n",
    "\n",
    "In this tutorial, retention curves are generated for two different metrics:\n",
    "1. Mean Squared Error (MSE)\n",
    "2. F1-score\n",
    "\n",
    "In each case, the x-axis represents the fraction of data points retained, where the data points are ordered by the chosen uncertainty measure."
   ]
  },
  {
   "cell_type": "code",
   "execution_count": 15,
   "metadata": {},
   "outputs": [],
   "source": [
    "# Get ensemble predictions\n",
    "all_preds_mean = all_preds[:,:,0]\n",
    "avg_preds = np.squeeze(np.mean(all_preds_mean, axis=0))\n",
    "\n",
    "# Get target values\n",
    "targets = np.asarray(df_dev['fact_temperature'])\n",
    "\n",
    "# squared error\n",
    "errors = (avg_preds - targets) ** 2"
   ]
  },
  {
   "cell_type": "code",
   "execution_count": 16,
   "metadata": {},
   "outputs": [
    {
     "data": {
      "image/png": "[encoded data removed]",
      "text/plain": [
       "<Figure size 432x288 with 1 Axes>"
      ]
     },
     "metadata": {
      "needs_background": "light"
     },
     "output_type": "display_data"
    },
    {
     "data": {
      "text/plain": [
       "<Figure size 432x288 with 0 Axes>"
      ]
     },
     "metadata": {},
     "output_type": "display_data"
    }
   ],
   "source": [
    "# MSE retention curve\n",
    "from assessment import calc_uncertainty_regection_curve\n",
    "import matplotlib.pyplot as plt\n",
    "\n",
    "# MSE retention values\n",
    "rejection_mse = calc_uncertainty_regection_curve(errors, uncertainties)\n",
    "retention_mse = rejection_mse[::-1]\n",
    "\n",
    "retention_fractions = np.linspace(0,1,len(retention_mse))\n",
    "\n",
    "# plot\n",
    "plt.plot(retention_fractions, retention_mse)\n",
    "plt.ylabel('MSE')\n",
    "plt.xlabel(\"Retention Fraction\")\n",
    "plt.show()\n",
    "plt.clf()"
   ]
  },
  {
   "cell_type": "code",
   "execution_count": 17,
   "metadata": {},
   "outputs": [
    {
     "name": "stdout",
     "output_type": "stream",
     "text": [
      "F1 score at 95% retention:  0.6583114832320486\n"
     ]
    },
    {
     "data": {
      "image/png": "[encoded data removed]",
      "text/plain": [
       "<Figure size 432x288 with 1 Axes>"
      ]
     },
     "metadata": {
      "needs_background": "light"
     },
     "output_type": "display_data"
    },
    {
     "data": {
      "text/plain": [
       "<Figure size 432x288 with 0 Axes>"
      ]
     },
     "metadata": {},
     "output_type": "display_data"
    }
   ],
   "source": [
    "# F1-score retention curve\n",
    "from assessment import f_beta_metrics\n",
    "\n",
    "# Use an acceptable error threshold of 1 degree\n",
    "thresh = 1.0\n",
    "\n",
    "# Get all metrics\n",
    "f_auc, f95, retention_f1 = f_beta_metrics(errors, uncertainties, thresh, beta=1.0)\n",
    "print(\"F1 score at 95% retention: \", f95)\n",
    "\n",
    "retention_fractions = np.linspace(0,1,len(retention_f1))\n",
    "\n",
    "# plot\n",
    "plt.plot(retention_fractions, retention_f1)\n",
    "plt.ylabel('F1')\n",
    "plt.xlabel(\"Retention Fraction\")\n",
    "plt.show()\n",
    "plt.clf()"
   ]
  },
  {
   "cell_type": "markdown",
   "metadata": {},
   "source": [
    "## 7. Submission\n",
    "\n",
    "A zipped csv file in a specific format has to be prepared for submission. It is important that the submission is for the combined dataset of `dev_in` + `dev_out` = `dev`, where order of concatenation is as stated - this is to ensure all given IDs are correct at submission time.\n",
    "\n",
    "The submitted csv file should contain the following columns:\n",
    "- ID\n",
    "- PRED\n",
    "- UNCERTAINTY"
   ]
  },
  {
   "cell_type": "code",
   "execution_count": 18,
   "metadata": {},
   "outputs": [
    {
     "data": {
      "text/html": [
       "<div>\n",
       "<style scoped>\n",
       "    .dataframe tbody tr th:only-of-type {\n",
       "        vertical-align: middle;\n",
       "    }\n",
       "\n",
       "    .dataframe tbody tr th {\n",
       "        vertical-align: top;\n",
       "    }\n",
       "\n",
       "    .dataframe thead th {\n",
       "        text-align: right;\n",
       "    }\n",
       "</style>\n",
       "<table border=\"1\" class=\"dataframe\">\n",
       "  <thead>\n",
       "    <tr style=\"text-align: right;\">\n",
       "      <th></th>\n",
       "      <th>ID</th>\n",
       "      <th>PRED</th>\n",
       "      <th>UNCERTAINTY</th>\n",
       "    </tr>\n",
       "  </thead>\n",
       "  <tbody>\n",
       "    <tr>\n",
       "      <th>0</th>\n",
       "      <td>1</td>\n",
       "      <td>10.109489</td>\n",
       "      <td>0.969647</td>\n",
       "    </tr>\n",
       "    <tr>\n",
       "      <th>1</th>\n",
       "      <td>2</td>\n",
       "      <td>3.986508</td>\n",
       "      <td>0.913031</td>\n",
       "    </tr>\n",
       "    <tr>\n",
       "      <th>2</th>\n",
       "      <td>3</td>\n",
       "      <td>25.420558</td>\n",
       "      <td>0.984064</td>\n",
       "    </tr>\n",
       "    <tr>\n",
       "      <th>3</th>\n",
       "      <td>4</td>\n",
       "      <td>4.282185</td>\n",
       "      <td>0.830858</td>\n",
       "    </tr>\n",
       "    <tr>\n",
       "      <th>4</th>\n",
       "      <td>5</td>\n",
       "      <td>14.192034</td>\n",
       "      <td>1.829973</td>\n",
       "    </tr>\n",
       "  </tbody>\n",
       "</table>\n",
       "</div>"
      ],
      "text/plain": [
       "   ID       PRED  UNCERTAINTY\n",
       "0   1  10.109489     0.969647\n",
       "1   2   3.986508     0.913031\n",
       "2   3  25.420558     0.984064\n",
       "3   4   4.282185     0.830858\n",
       "4   5  14.192034     1.829973"
      ]
     },
     "execution_count": 18,
     "metadata": {},
     "output_type": "execute_result"
    }
   ],
   "source": [
    "# Prepare the ids\n",
    "ids = np.arange(1, len(df_dev) + 1)\n",
    "\n",
    "# Predictions are the mean predictions across the ensemble of models\n",
    "preds = np.mean(all_preds[:,:,0], axis=0)\n",
    "\n",
    "# The uncertainties have been calculated in the previous step\n",
    "\n",
    "# Store all the information to be submitted in a df\n",
    "df_submission = pd.DataFrame(data={\n",
    "        'ID' : ids,\n",
    "        'PRED' : preds,\n",
    "        'UNCERTAINTY' : uncertainties\n",
    "        })\n",
    "\n",
    "df_submission.head()"
   ]
  },
  {
   "cell_type": "code",
   "execution_count": 19,
   "metadata": {},
   "outputs": [],
   "source": [
    "# Save as csv\n",
    "out_file = 'df_submission.csv'\n",
    "df_submission.to_csv(out_file, index=False)"
   ]
  },
  {
   "cell_type": "code",
   "execution_count": null,
   "metadata": {},
   "outputs": [],
   "source": [
    "# tar the csv file\n",
    "! tar -zcvf df_submission.tar.gz df_submission.csv"
   ]
  },
  {
   "cell_type": "markdown",
   "metadata": {},
   "source": [
    "Finally, submit the submission file to the [website](https://research.yandex.com/shifts/weather)."
   ]
  }
 ],
 "metadata": {
  "kernelspec": {
   "display_name": "yandex",
   "language": "python",
   "name": "yandex"
  },
  "language_info": {
   "codemirror_mode": {
    "name": "ipython",
    "version": 3
   },
   "file_extension": ".py",
   "mimetype": "text/x-python",
   "name": "python",
   "nbconvert_exporter": "python",
   "pygments_lexer": "ipython3",
   "version": "3.7.3"
  }
 },
 "nbformat": 4,
 "nbformat_minor": 2
}
